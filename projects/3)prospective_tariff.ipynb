{
 "cells": [
  {
   "cell_type": "markdown",
   "metadata": {},
   "source": [
    "# Определение перспективного тарифа для телеком компании"
   ]
  },
  {
   "cell_type": "markdown",
   "metadata": {},
   "source": [
    "Нашей задачей является анализ тарифных планов компании «Мегалайн» — федерального оператора сотовой связи. Клиентам предлагают два тарифных плана: «Смарт» и «Ультра». Чтобы скорректировать рекламный бюджет, коммерческий департамент хочет понять, какой тариф приносит больше денег.\n",
    "В проекте будет реализован предварительный анализ тарифов на небольшой выборке клиентов. У нас есть данные 500 пользователей «Мегалайна»: кто они, откуда, каким тарифом пользуются, сколько звонков и сообщений каждый отправил за 2018 год. В данном проекте мы проанализируем поведение клиентов и сделаем вывод — какой тариф лучше.\n",
    "\n",
    "**Описание данных**\n",
    "\n",
    "\n",
    "Таблица users (информация о пользователях):\n",
    "\n",
    "    user_id — уникальный идентификатор пользователя\n",
    "    first_name — имя пользователя\n",
    "    last_name — фамилия пользователя\n",
    "    age — возраст пользователя (годы)\n",
    "    reg_date — дата подключения тарифа (день, месяц, год)\n",
    "    churn_date — дата прекращения пользования тарифом (если значение пропущено, то тариф ещё действовал на момент выгрузки данных)\n",
    "    city — город проживания пользователя\n",
    "    tariff — название тарифного плана\n",
    "\n",
    "Таблица calls (информация о звонках):\n",
    "\n",
    "    id — уникальный номер звонка\n",
    "    call_date — дата звонка\n",
    "    duration — длительность звонка в минутах\n",
    "    user_id — идентификатор пользователя, сделавшего звонок\n",
    "\n",
    "Таблица messages (информация о сообщениях):\n",
    "\n",
    "    id — уникальный номер сообщения\n",
    "    message_date — дата сообщения\n",
    "    user_id — идентификатор пользователя, отправившего сообщение\n",
    "\n",
    "Таблица internet (информация об интернет-сессиях):\n",
    "\n",
    "    id — уникальный номер сессии\n",
    "    mb_used — объём потраченного за сессию интернет-трафика (в мегабайтах)\n",
    "    session_date — дата интернет-сессии\n",
    "    user_id — идентификатор пользователя\n",
    "\n",
    "Таблица tariffs (информация о тарифах):\n",
    "\n",
    "    tariff_name — название тарифа\n",
    "    rub_monthly_fee — ежемесячная абонентская плата в рублях\n",
    "    minutes_included — количество минут разговора в месяц, включённых в абонентскую плату\n",
    "    messages_included — количество сообщений в месяц, включённых в абонентскую плату\n",
    "    mb_per_month_included — объём интернет-трафика, включённого в абонентскую плату (в мегабайтах)\n",
    "    rub_per_minute — стоимость минуты разговора сверх тарифного пакета (например, если в тарифе 100 минут разговора в месяц, то со 101 минуты будет взиматься плата)\n",
    "    rub_per_message — стоимость отправки сообщения сверх тарифного пакета\n",
    "    rub_per_gb — стоимость дополнительного гигабайта интернет-трафика сверх тарифного пакета (1 гигабайт = 1024 мегабайта)"
   ]
  },
  {
   "cell_type": "markdown",
   "metadata": {},
   "source": [
    "* [Шаг 1. Откройте файл с данными и изучите общую информацию.](#step1)\n",
    "* [Шаг 2. Подготовьте данные](#step2)\n",
    "* [Шаг 3. Проанализируйте данные](#step3)\n",
    "* [Шаг 4. Проверьте гипотезы](#step4)\n",
    "* [Шаг 5. Напишите общий вывод](#step5)"
   ]
  },
  {
   "cell_type": "markdown",
   "metadata": {},
   "source": [
    "### Шаг 1. Откройте файл с данными и изучите общую информацию <a class=\"anchor\" id=\"step1\"></a>"
   ]
  },
  {
   "cell_type": "code",
   "execution_count": 1,
   "metadata": {},
   "outputs": [],
   "source": [
    "import pandas as pd\n",
    "import math\n",
    "import matplotlib.pyplot as plt\n",
    "import seaborn as sns\n",
    "sns.set();\n",
    "pd.set_option('display.max_columns', None)\n",
    "import numpy as np\n",
    "from scipy import stats as st"
   ]
  },
  {
   "cell_type": "code",
   "execution_count": 2,
   "metadata": {},
   "outputs": [
    {
     "name": "stdout",
     "output_type": "stream",
     "text": [
      "<class 'pandas.core.frame.DataFrame'>\n",
      "RangeIndex: 202607 entries, 0 to 202606\n",
      "Data columns (total 4 columns):\n",
      " #   Column     Non-Null Count   Dtype  \n",
      "---  ------     --------------   -----  \n",
      " 0   id         202607 non-null  object \n",
      " 1   call_date  202607 non-null  object \n",
      " 2   duration   202607 non-null  float64\n",
      " 3   user_id    202607 non-null  int64  \n",
      "dtypes: float64(1), int64(1), object(2)\n",
      "memory usage: 6.2+ MB\n"
     ]
    }
   ],
   "source": [
    "calls = pd.read_csv('../datasets/prospective_tariff_calls.csv')\n",
    "calls.info()"
   ]
  },
  {
   "cell_type": "markdown",
   "metadata": {},
   "source": [
    "Понизим разрядность столбцов duration и user_id для оптимизации работы кода."
   ]
  },
  {
   "cell_type": "code",
   "execution_count": 3,
   "metadata": {},
   "outputs": [],
   "source": [
    "calls['duration'] = pd.to_numeric(calls['duration'], downcast='float')\n",
    "calls['user_id'] = pd.to_numeric(calls['user_id'], downcast='signed')"
   ]
  },
  {
   "cell_type": "code",
   "execution_count": 4,
   "metadata": {},
   "outputs": [
    {
     "data": {
      "text/html": [
       "<div>\n",
       "<style scoped>\n",
       "    .dataframe tbody tr th:only-of-type {\n",
       "        vertical-align: middle;\n",
       "    }\n",
       "\n",
       "    .dataframe tbody tr th {\n",
       "        vertical-align: top;\n",
       "    }\n",
       "\n",
       "    .dataframe thead th {\n",
       "        text-align: right;\n",
       "    }\n",
       "</style>\n",
       "<table border=\"1\" class=\"dataframe\">\n",
       "  <thead>\n",
       "    <tr style=\"text-align: right;\">\n",
       "      <th></th>\n",
       "      <th>id</th>\n",
       "      <th>call_date</th>\n",
       "      <th>duration</th>\n",
       "      <th>user_id</th>\n",
       "    </tr>\n",
       "  </thead>\n",
       "  <tbody>\n",
       "    <tr>\n",
       "      <th>41697</th>\n",
       "      <td>1102_124</td>\n",
       "      <td>2018-11-01</td>\n",
       "      <td>10.40</td>\n",
       "      <td>1102</td>\n",
       "    </tr>\n",
       "    <tr>\n",
       "      <th>159268</th>\n",
       "      <td>1393_520</td>\n",
       "      <td>2018-07-25</td>\n",
       "      <td>10.60</td>\n",
       "      <td>1393</td>\n",
       "    </tr>\n",
       "    <tr>\n",
       "      <th>89300</th>\n",
       "      <td>1224_217</td>\n",
       "      <td>2018-07-13</td>\n",
       "      <td>3.44</td>\n",
       "      <td>1224</td>\n",
       "    </tr>\n",
       "    <tr>\n",
       "      <th>111213</th>\n",
       "      <td>1285_141</td>\n",
       "      <td>2018-09-24</td>\n",
       "      <td>10.35</td>\n",
       "      <td>1285</td>\n",
       "    </tr>\n",
       "    <tr>\n",
       "      <th>30458</th>\n",
       "      <td>1077_30</td>\n",
       "      <td>2018-11-19</td>\n",
       "      <td>10.07</td>\n",
       "      <td>1077</td>\n",
       "    </tr>\n",
       "  </tbody>\n",
       "</table>\n",
       "</div>"
      ],
      "text/plain": [
       "              id   call_date  duration  user_id\n",
       "41697   1102_124  2018-11-01     10.40     1102\n",
       "159268  1393_520  2018-07-25     10.60     1393\n",
       "89300   1224_217  2018-07-13      3.44     1224\n",
       "111213  1285_141  2018-09-24     10.35     1285\n",
       "30458    1077_30  2018-11-19     10.07     1077"
      ]
     },
     "metadata": {},
     "output_type": "display_data"
    }
   ],
   "source": [
    "display(calls.sample(5))"
   ]
  },
  {
   "cell_type": "code",
   "execution_count": 5,
   "metadata": {
    "scrolled": true
   },
   "outputs": [
    {
     "name": "stdout",
     "output_type": "stream",
     "text": [
      "<class 'pandas.core.frame.DataFrame'>\n",
      "RangeIndex: 149396 entries, 0 to 149395\n",
      "Data columns (total 5 columns):\n",
      " #   Column        Non-Null Count   Dtype  \n",
      "---  ------        --------------   -----  \n",
      " 0   Unnamed: 0    149396 non-null  int64  \n",
      " 1   id            149396 non-null  object \n",
      " 2   mb_used       149396 non-null  float64\n",
      " 3   session_date  149396 non-null  object \n",
      " 4   user_id       149396 non-null  int64  \n",
      "dtypes: float64(1), int64(2), object(2)\n",
      "memory usage: 5.7+ MB\n"
     ]
    }
   ],
   "source": [
    "internet = pd.read_csv('../datasets/prospective_tariff_internet.csv')\n",
    "internet.info()"
   ]
  },
  {
   "cell_type": "markdown",
   "metadata": {},
   "source": [
    "Понизим разрядность столбцов mb_used и user_id для оптимизации работы кода."
   ]
  },
  {
   "cell_type": "code",
   "execution_count": 6,
   "metadata": {},
   "outputs": [],
   "source": [
    "internet['mb_used'] = pd.to_numeric(internet['mb_used'], downcast='float')\n",
    "internet['user_id'] = pd.to_numeric(internet['user_id'], downcast='signed')"
   ]
  },
  {
   "cell_type": "code",
   "execution_count": 7,
   "metadata": {},
   "outputs": [
    {
     "data": {
      "text/html": [
       "<div>\n",
       "<style scoped>\n",
       "    .dataframe tbody tr th:only-of-type {\n",
       "        vertical-align: middle;\n",
       "    }\n",
       "\n",
       "    .dataframe tbody tr th {\n",
       "        vertical-align: top;\n",
       "    }\n",
       "\n",
       "    .dataframe thead th {\n",
       "        text-align: right;\n",
       "    }\n",
       "</style>\n",
       "<table border=\"1\" class=\"dataframe\">\n",
       "  <thead>\n",
       "    <tr style=\"text-align: right;\">\n",
       "      <th></th>\n",
       "      <th>Unnamed: 0</th>\n",
       "      <th>id</th>\n",
       "      <th>mb_used</th>\n",
       "      <th>session_date</th>\n",
       "      <th>user_id</th>\n",
       "    </tr>\n",
       "  </thead>\n",
       "  <tbody>\n",
       "    <tr>\n",
       "      <th>22382</th>\n",
       "      <td>22382</td>\n",
       "      <td>1076_22</td>\n",
       "      <td>174.490005</td>\n",
       "      <td>2018-11-09</td>\n",
       "      <td>1076</td>\n",
       "    </tr>\n",
       "    <tr>\n",
       "      <th>99658</th>\n",
       "      <td>99658</td>\n",
       "      <td>1334_64</td>\n",
       "      <td>35.720001</td>\n",
       "      <td>2018-12-21</td>\n",
       "      <td>1334</td>\n",
       "    </tr>\n",
       "    <tr>\n",
       "      <th>106385</th>\n",
       "      <td>106385</td>\n",
       "      <td>1360_5</td>\n",
       "      <td>532.510010</td>\n",
       "      <td>2018-09-05</td>\n",
       "      <td>1360</td>\n",
       "    </tr>\n",
       "    <tr>\n",
       "      <th>126554</th>\n",
       "      <td>126554</td>\n",
       "      <td>1425_83</td>\n",
       "      <td>229.460007</td>\n",
       "      <td>2018-11-10</td>\n",
       "      <td>1425</td>\n",
       "    </tr>\n",
       "    <tr>\n",
       "      <th>53271</th>\n",
       "      <td>53271</td>\n",
       "      <td>1179_133</td>\n",
       "      <td>271.950012</td>\n",
       "      <td>2018-06-22</td>\n",
       "      <td>1179</td>\n",
       "    </tr>\n",
       "  </tbody>\n",
       "</table>\n",
       "</div>"
      ],
      "text/plain": [
       "        Unnamed: 0        id     mb_used session_date  user_id\n",
       "22382        22382   1076_22  174.490005   2018-11-09     1076\n",
       "99658        99658   1334_64   35.720001   2018-12-21     1334\n",
       "106385      106385    1360_5  532.510010   2018-09-05     1360\n",
       "126554      126554   1425_83  229.460007   2018-11-10     1425\n",
       "53271        53271  1179_133  271.950012   2018-06-22     1179"
      ]
     },
     "metadata": {},
     "output_type": "display_data"
    }
   ],
   "source": [
    "display(internet.sample(5))"
   ]
  },
  {
   "cell_type": "code",
   "execution_count": 8,
   "metadata": {},
   "outputs": [
    {
     "name": "stdout",
     "output_type": "stream",
     "text": [
      "<class 'pandas.core.frame.DataFrame'>\n",
      "RangeIndex: 123036 entries, 0 to 123035\n",
      "Data columns (total 3 columns):\n",
      " #   Column        Non-Null Count   Dtype \n",
      "---  ------        --------------   ----- \n",
      " 0   id            123036 non-null  object\n",
      " 1   message_date  123036 non-null  object\n",
      " 2   user_id       123036 non-null  int64 \n",
      "dtypes: int64(1), object(2)\n",
      "memory usage: 2.8+ MB\n"
     ]
    }
   ],
   "source": [
    "messages = pd.read_csv('../datasets/prospective_tariff_messages.csv')\n",
    "messages.info()"
   ]
  },
  {
   "cell_type": "markdown",
   "metadata": {},
   "source": [
    "Понизим разрядность столбца user_id для оптимизации работы кода."
   ]
  },
  {
   "cell_type": "code",
   "execution_count": 9,
   "metadata": {},
   "outputs": [],
   "source": [
    "messages['user_id'] = pd.to_numeric(messages['user_id'], downcast='signed')"
   ]
  },
  {
   "cell_type": "code",
   "execution_count": 10,
   "metadata": {
    "scrolled": true
   },
   "outputs": [
    {
     "data": {
      "text/html": [
       "<div>\n",
       "<style scoped>\n",
       "    .dataframe tbody tr th:only-of-type {\n",
       "        vertical-align: middle;\n",
       "    }\n",
       "\n",
       "    .dataframe tbody tr th {\n",
       "        vertical-align: top;\n",
       "    }\n",
       "\n",
       "    .dataframe thead th {\n",
       "        text-align: right;\n",
       "    }\n",
       "</style>\n",
       "<table border=\"1\" class=\"dataframe\">\n",
       "  <thead>\n",
       "    <tr style=\"text-align: right;\">\n",
       "      <th></th>\n",
       "      <th>id</th>\n",
       "      <th>message_date</th>\n",
       "      <th>user_id</th>\n",
       "    </tr>\n",
       "  </thead>\n",
       "  <tbody>\n",
       "    <tr>\n",
       "      <th>21721</th>\n",
       "      <td>1092_2</td>\n",
       "      <td>2018-07-26</td>\n",
       "      <td>1092</td>\n",
       "    </tr>\n",
       "    <tr>\n",
       "      <th>122777</th>\n",
       "      <td>1498_93</td>\n",
       "      <td>2018-08-27</td>\n",
       "      <td>1498</td>\n",
       "    </tr>\n",
       "    <tr>\n",
       "      <th>15337</th>\n",
       "      <td>1066_79</td>\n",
       "      <td>2018-11-24</td>\n",
       "      <td>1066</td>\n",
       "    </tr>\n",
       "    <tr>\n",
       "      <th>83902</th>\n",
       "      <td>1350_46</td>\n",
       "      <td>2018-11-22</td>\n",
       "      <td>1350</td>\n",
       "    </tr>\n",
       "    <tr>\n",
       "      <th>34452</th>\n",
       "      <td>1149_264</td>\n",
       "      <td>2018-08-27</td>\n",
       "      <td>1149</td>\n",
       "    </tr>\n",
       "  </tbody>\n",
       "</table>\n",
       "</div>"
      ],
      "text/plain": [
       "              id message_date  user_id\n",
       "21721     1092_2   2018-07-26     1092\n",
       "122777   1498_93   2018-08-27     1498\n",
       "15337    1066_79   2018-11-24     1066\n",
       "83902    1350_46   2018-11-22     1350\n",
       "34452   1149_264   2018-08-27     1149"
      ]
     },
     "metadata": {},
     "output_type": "display_data"
    }
   ],
   "source": [
    "display(messages.sample(5))"
   ]
  },
  {
   "cell_type": "code",
   "execution_count": 11,
   "metadata": {},
   "outputs": [
    {
     "name": "stdout",
     "output_type": "stream",
     "text": [
      "<class 'pandas.core.frame.DataFrame'>\n",
      "RangeIndex: 2 entries, 0 to 1\n",
      "Data columns (total 8 columns):\n",
      " #   Column                 Non-Null Count  Dtype \n",
      "---  ------                 --------------  ----- \n",
      " 0   messages_included      2 non-null      int64 \n",
      " 1   mb_per_month_included  2 non-null      int64 \n",
      " 2   minutes_included       2 non-null      int64 \n",
      " 3   rub_monthly_fee        2 non-null      int64 \n",
      " 4   rub_per_gb             2 non-null      int64 \n",
      " 5   rub_per_message        2 non-null      int64 \n",
      " 6   rub_per_minute         2 non-null      int64 \n",
      " 7   tariff_name            2 non-null      object\n",
      "dtypes: int64(7), object(1)\n",
      "memory usage: 256.0+ bytes\n"
     ]
    }
   ],
   "source": [
    "tariffs = pd.read_csv('../datasets/prospective_tariff_tariffs.csv')\n",
    "tariffs.info()"
   ]
  },
  {
   "cell_type": "code",
   "execution_count": 12,
   "metadata": {},
   "outputs": [
    {
     "data": {
      "text/html": [
       "<div>\n",
       "<style scoped>\n",
       "    .dataframe tbody tr th:only-of-type {\n",
       "        vertical-align: middle;\n",
       "    }\n",
       "\n",
       "    .dataframe tbody tr th {\n",
       "        vertical-align: top;\n",
       "    }\n",
       "\n",
       "    .dataframe thead th {\n",
       "        text-align: right;\n",
       "    }\n",
       "</style>\n",
       "<table border=\"1\" class=\"dataframe\">\n",
       "  <thead>\n",
       "    <tr style=\"text-align: right;\">\n",
       "      <th></th>\n",
       "      <th>messages_included</th>\n",
       "      <th>mb_per_month_included</th>\n",
       "      <th>minutes_included</th>\n",
       "      <th>rub_monthly_fee</th>\n",
       "      <th>rub_per_gb</th>\n",
       "      <th>rub_per_message</th>\n",
       "      <th>rub_per_minute</th>\n",
       "      <th>tariff_name</th>\n",
       "    </tr>\n",
       "  </thead>\n",
       "  <tbody>\n",
       "    <tr>\n",
       "      <th>0</th>\n",
       "      <td>50</td>\n",
       "      <td>15360</td>\n",
       "      <td>500</td>\n",
       "      <td>550</td>\n",
       "      <td>200</td>\n",
       "      <td>3</td>\n",
       "      <td>3</td>\n",
       "      <td>smart</td>\n",
       "    </tr>\n",
       "    <tr>\n",
       "      <th>1</th>\n",
       "      <td>1000</td>\n",
       "      <td>30720</td>\n",
       "      <td>3000</td>\n",
       "      <td>1950</td>\n",
       "      <td>150</td>\n",
       "      <td>1</td>\n",
       "      <td>1</td>\n",
       "      <td>ultra</td>\n",
       "    </tr>\n",
       "  </tbody>\n",
       "</table>\n",
       "</div>"
      ],
      "text/plain": [
       "   messages_included  mb_per_month_included  minutes_included  \\\n",
       "0                 50                  15360               500   \n",
       "1               1000                  30720              3000   \n",
       "\n",
       "   rub_monthly_fee  rub_per_gb  rub_per_message  rub_per_minute tariff_name  \n",
       "0              550         200                3               3       smart  \n",
       "1             1950         150                1               1       ultra  "
      ]
     },
     "metadata": {},
     "output_type": "display_data"
    }
   ],
   "source": [
    "display(tariffs)"
   ]
  },
  {
   "cell_type": "markdown",
   "metadata": {},
   "source": [
    "Переименуем название последнего столбца 'tariff_name' на 'tariff'для упрощения дальнейшей работы."
   ]
  },
  {
   "cell_type": "code",
   "execution_count": 13,
   "metadata": {},
   "outputs": [],
   "source": [
    "tariffs.columns = ['messages_included', 'mb_per_month_included', 'minutes_included', 'rub_monthly_fee', \n",
    "                'rub_per_gb', 'rub_per_message', 'rub_per_minute', 'tariff']"
   ]
  },
  {
   "cell_type": "markdown",
   "metadata": {},
   "source": [
    "<div class=\"alert alert-warning\">\n",
    "<b>Комментарий ревьюера:</b>\n",
    "\n",
    "Лучше всего использовать метод `rename`, чтобы изменить названия столбцов. \n",
    "    \n",
    "Он самый безопазсный. Если у нас поменяются столбцы местами, то это сохранит нас от того, что данные сохраняться в нужных столбцах.\n",
    "    \n",
    "</div>"
   ]
  },
  {
   "cell_type": "code",
   "execution_count": 14,
   "metadata": {},
   "outputs": [
    {
     "name": "stdout",
     "output_type": "stream",
     "text": [
      "<class 'pandas.core.frame.DataFrame'>\n",
      "RangeIndex: 500 entries, 0 to 499\n",
      "Data columns (total 8 columns):\n",
      " #   Column      Non-Null Count  Dtype \n",
      "---  ------      --------------  ----- \n",
      " 0   user_id     500 non-null    int64 \n",
      " 1   age         500 non-null    int64 \n",
      " 2   churn_date  38 non-null     object\n",
      " 3   city        500 non-null    object\n",
      " 4   first_name  500 non-null    object\n",
      " 5   last_name   500 non-null    object\n",
      " 6   reg_date    500 non-null    object\n",
      " 7   tariff      500 non-null    object\n",
      "dtypes: int64(2), object(6)\n",
      "memory usage: 31.4+ KB\n"
     ]
    }
   ],
   "source": [
    "users = pd.read_csv('../datasets/prospective_tariff_users.csv')\n",
    "users.info()"
   ]
  },
  {
   "cell_type": "markdown",
   "metadata": {},
   "source": [
    "Понизим разрядность столбцов user_id и age для оптимизации работы кода."
   ]
  },
  {
   "cell_type": "code",
   "execution_count": 15,
   "metadata": {},
   "outputs": [],
   "source": [
    "users['user_id'] = pd.to_numeric(users['user_id'], downcast='signed')\n",
    "users['age'] = pd.to_numeric(users['age'], downcast='signed')"
   ]
  },
  {
   "cell_type": "code",
   "execution_count": 16,
   "metadata": {
    "scrolled": true
   },
   "outputs": [
    {
     "data": {
      "text/html": [
       "<div>\n",
       "<style scoped>\n",
       "    .dataframe tbody tr th:only-of-type {\n",
       "        vertical-align: middle;\n",
       "    }\n",
       "\n",
       "    .dataframe tbody tr th {\n",
       "        vertical-align: top;\n",
       "    }\n",
       "\n",
       "    .dataframe thead th {\n",
       "        text-align: right;\n",
       "    }\n",
       "</style>\n",
       "<table border=\"1\" class=\"dataframe\">\n",
       "  <thead>\n",
       "    <tr style=\"text-align: right;\">\n",
       "      <th></th>\n",
       "      <th>user_id</th>\n",
       "      <th>age</th>\n",
       "      <th>churn_date</th>\n",
       "      <th>city</th>\n",
       "      <th>first_name</th>\n",
       "      <th>last_name</th>\n",
       "      <th>reg_date</th>\n",
       "      <th>tariff</th>\n",
       "    </tr>\n",
       "  </thead>\n",
       "  <tbody>\n",
       "    <tr>\n",
       "      <th>15</th>\n",
       "      <td>1015</td>\n",
       "      <td>26</td>\n",
       "      <td>NaN</td>\n",
       "      <td>Челябинск</td>\n",
       "      <td>Рузана</td>\n",
       "      <td>Алюшина</td>\n",
       "      <td>2018-04-30</td>\n",
       "      <td>smart</td>\n",
       "    </tr>\n",
       "    <tr>\n",
       "      <th>120</th>\n",
       "      <td>1120</td>\n",
       "      <td>25</td>\n",
       "      <td>NaN</td>\n",
       "      <td>Краснодар</td>\n",
       "      <td>Агнесса</td>\n",
       "      <td>Абдулина</td>\n",
       "      <td>2018-01-24</td>\n",
       "      <td>ultra</td>\n",
       "    </tr>\n",
       "    <tr>\n",
       "      <th>1</th>\n",
       "      <td>1001</td>\n",
       "      <td>41</td>\n",
       "      <td>NaN</td>\n",
       "      <td>Москва</td>\n",
       "      <td>Иван</td>\n",
       "      <td>Ежов</td>\n",
       "      <td>2018-11-01</td>\n",
       "      <td>smart</td>\n",
       "    </tr>\n",
       "    <tr>\n",
       "      <th>464</th>\n",
       "      <td>1464</td>\n",
       "      <td>44</td>\n",
       "      <td>NaN</td>\n",
       "      <td>Саранск</td>\n",
       "      <td>Антонина</td>\n",
       "      <td>Авросинова</td>\n",
       "      <td>2018-02-17</td>\n",
       "      <td>smart</td>\n",
       "    </tr>\n",
       "    <tr>\n",
       "      <th>211</th>\n",
       "      <td>1211</td>\n",
       "      <td>62</td>\n",
       "      <td>NaN</td>\n",
       "      <td>Калуга</td>\n",
       "      <td>Арина</td>\n",
       "      <td>Азимова</td>\n",
       "      <td>2018-06-20</td>\n",
       "      <td>smart</td>\n",
       "    </tr>\n",
       "  </tbody>\n",
       "</table>\n",
       "</div>"
      ],
      "text/plain": [
       "     user_id  age churn_date       city first_name   last_name    reg_date  \\\n",
       "15      1015   26        NaN  Челябинск     Рузана     Алюшина  2018-04-30   \n",
       "120     1120   25        NaN  Краснодар    Агнесса    Абдулина  2018-01-24   \n",
       "1       1001   41        NaN     Москва       Иван        Ежов  2018-11-01   \n",
       "464     1464   44        NaN    Саранск   Антонина  Авросинова  2018-02-17   \n",
       "211     1211   62        NaN     Калуга      Арина     Азимова  2018-06-20   \n",
       "\n",
       "    tariff  \n",
       "15   smart  \n",
       "120  ultra  \n",
       "1    smart  \n",
       "464  smart  \n",
       "211  smart  "
      ]
     },
     "metadata": {},
     "output_type": "display_data"
    }
   ],
   "source": [
    "display(users.sample(5))"
   ]
  },
  {
   "cell_type": "markdown",
   "metadata": {},
   "source": [
    "У нас имеются 5 таблиц с данными: \n",
    "- calls (информация о звонках), \n",
    "- internet (информация об интернет-сессиях), \n",
    "- messages (информация о сообщениях), \n",
    "- tariffs (информация о тарифах),\n",
    "- users (информация о пользователях)\n",
    "\n",
    "    Для дальнейшей работы необходимо объединить данные таблицы в одну, сгруппировав информацию по месяцам, уникальным пользователям и сумме израсходованных минут, использованных мегабайт и количеству отправленных сообщений."
   ]
  },
  {
   "cell_type": "markdown",
   "metadata": {},
   "source": [
    "### Шаг 2. Подготовьте данные <a class=\"anchor\" id=\"step2\"></a>"
   ]
  },
  {
   "cell_type": "markdown",
   "metadata": {},
   "source": [
    "**Таблица calls**"
   ]
  },
  {
   "cell_type": "code",
   "execution_count": 17,
   "metadata": {},
   "outputs": [
    {
     "name": "stdout",
     "output_type": "stream",
     "text": [
      "<class 'pandas.core.frame.DataFrame'>\n",
      "RangeIndex: 202607 entries, 0 to 202606\n",
      "Data columns (total 4 columns):\n",
      " #   Column     Non-Null Count   Dtype  \n",
      "---  ------     --------------   -----  \n",
      " 0   id         202607 non-null  object \n",
      " 1   call_date  202607 non-null  object \n",
      " 2   duration   202607 non-null  float32\n",
      " 3   user_id    202607 non-null  int16  \n",
      "dtypes: float32(1), int16(1), object(2)\n",
      "memory usage: 4.3+ MB\n"
     ]
    }
   ],
   "source": [
    "calls.info()"
   ]
  },
  {
   "cell_type": "code",
   "execution_count": 18,
   "metadata": {},
   "outputs": [],
   "source": [
    "calls['month'] = pd.DatetimeIndex(calls['call_date']).month #Нахождение месяца звонка"
   ]
  },
  {
   "cell_type": "markdown",
   "metadata": {},
   "source": [
    "Поскольку в условии было обозначено, что «Мегалайн» всегда округляет вверх значения минут и мегабайтов, поэтому округляем продолжительность разговора в минутах в бОльшую сторону."
   ]
  },
  {
   "cell_type": "code",
   "execution_count": 19,
   "metadata": {},
   "outputs": [],
   "source": [
    "calls['duration_round'] = calls['duration'].map(math.ceil) "
   ]
  },
  {
   "cell_type": "markdown",
   "metadata": {},
   "source": [
    "<div class=\"alert alert-success\">\n",
    "<b>Комментарий ревьюера:</b>\n",
    "\n",
    "Хорошо, что учитываем условия работы оператора связи.\n",
    "    \n",
    "Кстати можно было бы применить метод `np.ceil` ко всему столбцу сразу. \n",
    "    \n",
    "</div>"
   ]
  },
  {
   "cell_type": "code",
   "execution_count": 20,
   "metadata": {},
   "outputs": [
    {
     "name": "stdout",
     "output_type": "stream",
     "text": [
      "Количество звонков со значением 0 минут: 19.55%\n"
     ]
    }
   ],
   "source": [
    "print('Количество звонков со значением 0 минут: {:.2%}'.format(len(calls[calls['duration'] <= 0])/len(calls['duration'])))"
   ]
  },
  {
   "cell_type": "markdown",
   "metadata": {},
   "source": [
    "В данных почти 20% звонков со значением 0 минут (а мы не знаем природу появления данных нулей - это может быть как пропущенные звонки, так и ошибки в данных). Допустим таким образом обозначены пропущенные звонки, поскольку мы будем считать суммарное количество минут каждого абонента по месяцам, пропущенные значения не должны сильно исказить результат."
   ]
  },
  {
   "cell_type": "code",
   "execution_count": 21,
   "metadata": {},
   "outputs": [
    {
     "data": {
      "text/html": [
       "<div>\n",
       "<style scoped>\n",
       "    .dataframe tbody tr th:only-of-type {\n",
       "        vertical-align: middle;\n",
       "    }\n",
       "\n",
       "    .dataframe tbody tr th {\n",
       "        vertical-align: top;\n",
       "    }\n",
       "\n",
       "    .dataframe thead th {\n",
       "        text-align: right;\n",
       "    }\n",
       "</style>\n",
       "<table border=\"1\" class=\"dataframe\">\n",
       "  <thead>\n",
       "    <tr style=\"text-align: right;\">\n",
       "      <th></th>\n",
       "      <th>id</th>\n",
       "      <th>call_date</th>\n",
       "      <th>duration</th>\n",
       "      <th>user_id</th>\n",
       "      <th>month</th>\n",
       "      <th>duration_round</th>\n",
       "    </tr>\n",
       "  </thead>\n",
       "  <tbody>\n",
       "    <tr>\n",
       "      <th>0</th>\n",
       "      <td>1000_0</td>\n",
       "      <td>2018-07-25</td>\n",
       "      <td>0.000000</td>\n",
       "      <td>1000</td>\n",
       "      <td>7</td>\n",
       "      <td>0</td>\n",
       "    </tr>\n",
       "    <tr>\n",
       "      <th>1</th>\n",
       "      <td>1000_1</td>\n",
       "      <td>2018-08-17</td>\n",
       "      <td>0.000000</td>\n",
       "      <td>1000</td>\n",
       "      <td>8</td>\n",
       "      <td>0</td>\n",
       "    </tr>\n",
       "    <tr>\n",
       "      <th>2</th>\n",
       "      <td>1000_2</td>\n",
       "      <td>2018-06-11</td>\n",
       "      <td>2.850000</td>\n",
       "      <td>1000</td>\n",
       "      <td>6</td>\n",
       "      <td>3</td>\n",
       "    </tr>\n",
       "    <tr>\n",
       "      <th>3</th>\n",
       "      <td>1000_3</td>\n",
       "      <td>2018-09-21</td>\n",
       "      <td>13.800000</td>\n",
       "      <td>1000</td>\n",
       "      <td>9</td>\n",
       "      <td>14</td>\n",
       "    </tr>\n",
       "    <tr>\n",
       "      <th>4</th>\n",
       "      <td>1000_4</td>\n",
       "      <td>2018-12-15</td>\n",
       "      <td>5.180000</td>\n",
       "      <td>1000</td>\n",
       "      <td>12</td>\n",
       "      <td>6</td>\n",
       "    </tr>\n",
       "    <tr>\n",
       "      <th>5</th>\n",
       "      <td>1000_5</td>\n",
       "      <td>2018-11-02</td>\n",
       "      <td>0.000000</td>\n",
       "      <td>1000</td>\n",
       "      <td>11</td>\n",
       "      <td>0</td>\n",
       "    </tr>\n",
       "    <tr>\n",
       "      <th>6</th>\n",
       "      <td>1000_6</td>\n",
       "      <td>2018-10-18</td>\n",
       "      <td>0.000000</td>\n",
       "      <td>1000</td>\n",
       "      <td>10</td>\n",
       "      <td>0</td>\n",
       "    </tr>\n",
       "    <tr>\n",
       "      <th>7</th>\n",
       "      <td>1000_7</td>\n",
       "      <td>2018-08-22</td>\n",
       "      <td>18.309999</td>\n",
       "      <td>1000</td>\n",
       "      <td>8</td>\n",
       "      <td>19</td>\n",
       "    </tr>\n",
       "    <tr>\n",
       "      <th>8</th>\n",
       "      <td>1000_8</td>\n",
       "      <td>2018-09-15</td>\n",
       "      <td>18.440001</td>\n",
       "      <td>1000</td>\n",
       "      <td>9</td>\n",
       "      <td>19</td>\n",
       "    </tr>\n",
       "    <tr>\n",
       "      <th>9</th>\n",
       "      <td>1000_9</td>\n",
       "      <td>2018-08-15</td>\n",
       "      <td>0.000000</td>\n",
       "      <td>1000</td>\n",
       "      <td>8</td>\n",
       "      <td>0</td>\n",
       "    </tr>\n",
       "    <tr>\n",
       "      <th>10</th>\n",
       "      <td>1000_10</td>\n",
       "      <td>2018-08-22</td>\n",
       "      <td>5.030000</td>\n",
       "      <td>1000</td>\n",
       "      <td>8</td>\n",
       "      <td>6</td>\n",
       "    </tr>\n",
       "    <tr>\n",
       "      <th>11</th>\n",
       "      <td>1000_11</td>\n",
       "      <td>2018-05-28</td>\n",
       "      <td>18.820000</td>\n",
       "      <td>1000</td>\n",
       "      <td>5</td>\n",
       "      <td>19</td>\n",
       "    </tr>\n",
       "    <tr>\n",
       "      <th>12</th>\n",
       "      <td>1000_12</td>\n",
       "      <td>2018-07-05</td>\n",
       "      <td>2.020000</td>\n",
       "      <td>1000</td>\n",
       "      <td>7</td>\n",
       "      <td>3</td>\n",
       "    </tr>\n",
       "    <tr>\n",
       "      <th>13</th>\n",
       "      <td>1000_13</td>\n",
       "      <td>2018-09-29</td>\n",
       "      <td>7.150000</td>\n",
       "      <td>1000</td>\n",
       "      <td>9</td>\n",
       "      <td>8</td>\n",
       "    </tr>\n",
       "    <tr>\n",
       "      <th>14</th>\n",
       "      <td>1000_14</td>\n",
       "      <td>2018-12-11</td>\n",
       "      <td>9.130000</td>\n",
       "      <td>1000</td>\n",
       "      <td>12</td>\n",
       "      <td>10</td>\n",
       "    </tr>\n",
       "    <tr>\n",
       "      <th>15</th>\n",
       "      <td>1000_15</td>\n",
       "      <td>2018-07-27</td>\n",
       "      <td>9.360000</td>\n",
       "      <td>1000</td>\n",
       "      <td>7</td>\n",
       "      <td>10</td>\n",
       "    </tr>\n",
       "    <tr>\n",
       "      <th>16</th>\n",
       "      <td>1000_16</td>\n",
       "      <td>2018-08-11</td>\n",
       "      <td>4.080000</td>\n",
       "      <td>1000</td>\n",
       "      <td>8</td>\n",
       "      <td>5</td>\n",
       "    </tr>\n",
       "    <tr>\n",
       "      <th>17</th>\n",
       "      <td>1000_17</td>\n",
       "      <td>2018-08-02</td>\n",
       "      <td>12.630000</td>\n",
       "      <td>1000</td>\n",
       "      <td>8</td>\n",
       "      <td>13</td>\n",
       "    </tr>\n",
       "    <tr>\n",
       "      <th>18</th>\n",
       "      <td>1000_18</td>\n",
       "      <td>2018-06-15</td>\n",
       "      <td>4.460000</td>\n",
       "      <td>1000</td>\n",
       "      <td>6</td>\n",
       "      <td>5</td>\n",
       "    </tr>\n",
       "    <tr>\n",
       "      <th>19</th>\n",
       "      <td>1000_19</td>\n",
       "      <td>2018-11-02</td>\n",
       "      <td>15.080000</td>\n",
       "      <td>1000</td>\n",
       "      <td>11</td>\n",
       "      <td>16</td>\n",
       "    </tr>\n",
       "  </tbody>\n",
       "</table>\n",
       "</div>"
      ],
      "text/plain": [
       "         id   call_date   duration  user_id  month  duration_round\n",
       "0    1000_0  2018-07-25   0.000000     1000      7               0\n",
       "1    1000_1  2018-08-17   0.000000     1000      8               0\n",
       "2    1000_2  2018-06-11   2.850000     1000      6               3\n",
       "3    1000_3  2018-09-21  13.800000     1000      9              14\n",
       "4    1000_4  2018-12-15   5.180000     1000     12               6\n",
       "5    1000_5  2018-11-02   0.000000     1000     11               0\n",
       "6    1000_6  2018-10-18   0.000000     1000     10               0\n",
       "7    1000_7  2018-08-22  18.309999     1000      8              19\n",
       "8    1000_8  2018-09-15  18.440001     1000      9              19\n",
       "9    1000_9  2018-08-15   0.000000     1000      8               0\n",
       "10  1000_10  2018-08-22   5.030000     1000      8               6\n",
       "11  1000_11  2018-05-28  18.820000     1000      5              19\n",
       "12  1000_12  2018-07-05   2.020000     1000      7               3\n",
       "13  1000_13  2018-09-29   7.150000     1000      9               8\n",
       "14  1000_14  2018-12-11   9.130000     1000     12              10\n",
       "15  1000_15  2018-07-27   9.360000     1000      7              10\n",
       "16  1000_16  2018-08-11   4.080000     1000      8               5\n",
       "17  1000_17  2018-08-02  12.630000     1000      8              13\n",
       "18  1000_18  2018-06-15   4.460000     1000      6               5\n",
       "19  1000_19  2018-11-02  15.080000     1000     11              16"
      ]
     },
     "execution_count": 21,
     "metadata": {},
     "output_type": "execute_result"
    }
   ],
   "source": [
    "calls.head(20)"
   ]
  },
  {
   "cell_type": "code",
   "execution_count": 22,
   "metadata": {},
   "outputs": [],
   "source": [
    "calls_pivot = calls.pivot_table(index = ['user_id', 'month'], values = 'duration_round', aggfunc = ['count', 'sum'])\n",
    "calls_pivot = calls_pivot.reset_index()\n",
    "calls_pivot.columns = ['user_id', 'month', 'calls_count', 'duration_calls_sum']"
   ]
  },
  {
   "cell_type": "code",
   "execution_count": 23,
   "metadata": {},
   "outputs": [
    {
     "data": {
      "text/html": [
       "<div>\n",
       "<style scoped>\n",
       "    .dataframe tbody tr th:only-of-type {\n",
       "        vertical-align: middle;\n",
       "    }\n",
       "\n",
       "    .dataframe tbody tr th {\n",
       "        vertical-align: top;\n",
       "    }\n",
       "\n",
       "    .dataframe thead th {\n",
       "        text-align: right;\n",
       "    }\n",
       "</style>\n",
       "<table border=\"1\" class=\"dataframe\">\n",
       "  <thead>\n",
       "    <tr style=\"text-align: right;\">\n",
       "      <th></th>\n",
       "      <th>user_id</th>\n",
       "      <th>month</th>\n",
       "      <th>calls_count</th>\n",
       "      <th>duration_calls_sum</th>\n",
       "    </tr>\n",
       "  </thead>\n",
       "  <tbody>\n",
       "    <tr>\n",
       "      <th>0</th>\n",
       "      <td>1000</td>\n",
       "      <td>5</td>\n",
       "      <td>22</td>\n",
       "      <td>159</td>\n",
       "    </tr>\n",
       "    <tr>\n",
       "      <th>1</th>\n",
       "      <td>1000</td>\n",
       "      <td>6</td>\n",
       "      <td>43</td>\n",
       "      <td>172</td>\n",
       "    </tr>\n",
       "    <tr>\n",
       "      <th>2</th>\n",
       "      <td>1000</td>\n",
       "      <td>7</td>\n",
       "      <td>47</td>\n",
       "      <td>340</td>\n",
       "    </tr>\n",
       "    <tr>\n",
       "      <th>3</th>\n",
       "      <td>1000</td>\n",
       "      <td>8</td>\n",
       "      <td>52</td>\n",
       "      <td>408</td>\n",
       "    </tr>\n",
       "    <tr>\n",
       "      <th>4</th>\n",
       "      <td>1000</td>\n",
       "      <td>9</td>\n",
       "      <td>58</td>\n",
       "      <td>466</td>\n",
       "    </tr>\n",
       "  </tbody>\n",
       "</table>\n",
       "</div>"
      ],
      "text/plain": [
       "   user_id  month  calls_count  duration_calls_sum\n",
       "0     1000      5           22                 159\n",
       "1     1000      6           43                 172\n",
       "2     1000      7           47                 340\n",
       "3     1000      8           52                 408\n",
       "4     1000      9           58                 466"
      ]
     },
     "execution_count": 23,
     "metadata": {},
     "output_type": "execute_result"
    }
   ],
   "source": [
    "calls_pivot.head()"
   ]
  },
  {
   "cell_type": "code",
   "execution_count": 24,
   "metadata": {},
   "outputs": [
    {
     "data": {
      "text/html": [
       "<div>\n",
       "<style scoped>\n",
       "    .dataframe tbody tr th:only-of-type {\n",
       "        vertical-align: middle;\n",
       "    }\n",
       "\n",
       "    .dataframe tbody tr th {\n",
       "        vertical-align: top;\n",
       "    }\n",
       "\n",
       "    .dataframe thead th {\n",
       "        text-align: right;\n",
       "    }\n",
       "</style>\n",
       "<table border=\"1\" class=\"dataframe\">\n",
       "  <thead>\n",
       "    <tr style=\"text-align: right;\">\n",
       "      <th></th>\n",
       "      <th>user_id</th>\n",
       "      <th>month</th>\n",
       "      <th>calls_count</th>\n",
       "      <th>duration_calls_sum</th>\n",
       "    </tr>\n",
       "  </thead>\n",
       "  <tbody>\n",
       "    <tr>\n",
       "      <th>1493</th>\n",
       "      <td>1240</td>\n",
       "      <td>2</td>\n",
       "      <td>2</td>\n",
       "      <td>0</td>\n",
       "    </tr>\n",
       "    <tr>\n",
       "      <th>1605</th>\n",
       "      <td>1257</td>\n",
       "      <td>7</td>\n",
       "      <td>1</td>\n",
       "      <td>0</td>\n",
       "    </tr>\n",
       "    <tr>\n",
       "      <th>1606</th>\n",
       "      <td>1257</td>\n",
       "      <td>8</td>\n",
       "      <td>2</td>\n",
       "      <td>0</td>\n",
       "    </tr>\n",
       "    <tr>\n",
       "      <th>1607</th>\n",
       "      <td>1257</td>\n",
       "      <td>9</td>\n",
       "      <td>1</td>\n",
       "      <td>0</td>\n",
       "    </tr>\n",
       "    <tr>\n",
       "      <th>2318</th>\n",
       "      <td>1373</td>\n",
       "      <td>1</td>\n",
       "      <td>2</td>\n",
       "      <td>0</td>\n",
       "    </tr>\n",
       "    <tr>\n",
       "      <th>2321</th>\n",
       "      <td>1373</td>\n",
       "      <td>4</td>\n",
       "      <td>1</td>\n",
       "      <td>0</td>\n",
       "    </tr>\n",
       "  </tbody>\n",
       "</table>\n",
       "</div>"
      ],
      "text/plain": [
       "      user_id  month  calls_count  duration_calls_sum\n",
       "1493     1240      2            2                   0\n",
       "1605     1257      7            1                   0\n",
       "1606     1257      8            2                   0\n",
       "1607     1257      9            1                   0\n",
       "2318     1373      1            2                   0\n",
       "2321     1373      4            1                   0"
      ]
     },
     "execution_count": 24,
     "metadata": {},
     "output_type": "execute_result"
    }
   ],
   "source": [
    "calls_pivot[calls_pivot['duration_calls_sum'] == 0]"
   ]
  },
  {
   "cell_type": "markdown",
   "metadata": {},
   "source": [
    "Получили, что у нескольких абонентов за месяц не было ни одной проговоренной минуты, а таких абонентов 3 шт - с user_id 1240, 1257, 1373. Количество звонков за месяц у них также небольшое - 1 или 2. Можно предположить, что возможно люди в эти месяцы куда-то уезжали и не разговаривали по мобильному телефону, либо у них 2 телефона и они используют один из них исключительно для интернета и т.д."
   ]
  },
  {
   "cell_type": "code",
   "execution_count": 25,
   "metadata": {},
   "outputs": [
    {
     "data": {
      "image/png": "[encoded data removed]",
      "text/plain": [
       "<Figure size 1080x504 with 1 Axes>"
      ]
     },
     "metadata": {},
     "output_type": "display_data"
    }
   ],
   "source": [
    "ax = calls_pivot.groupby(calls_pivot['month']).agg({'calls_count': 'count', 'duration_calls_sum': 'median'}).\\\n",
    "     plot.bar(figsize=(15, 7), rot=0, width=0.7)\n",
    "ax.set_title('График суммарного количества уникальных пользователей и медианных значений продолжительности звонков', size=18)\n",
    "ax.set_xlabel('Номер месяца')\n",
    "ax.set_ylabel('Количество звонков и медианное количество минут')\n",
    "ax.set_ylim(None, 600)\n",
    "\n",
    "for p in ax.patches:\n",
    "    ax.annotate(str(round(p.get_height())), (p.get_x() * 1, p.get_height() * 1.03))\n",
    "    \n",
    "plt.show()    \n"
   ]
  },
  {
   "cell_type": "markdown",
   "metadata": {},
   "source": [
    "По графику видим, что количество уникальных пользователей каждый месяц линейно растет. Наибольшее медианное значение суммарного количества использованных минут составляет 492 в декабре месяце, а наименьшее медианное количество минут составляет 230 в январе месяце. По графику видим, что с каждым месяцем привлекается все больше клиентов."
   ]
  },
  {
   "cell_type": "code",
   "execution_count": 26,
   "metadata": {},
   "outputs": [
    {
     "data": {
      "image/png": "[encoded data removed]",
      "text/plain": [
       "<Figure size 1080x360 with 1 Axes>"
      ]
     },
     "metadata": {},
     "output_type": "display_data"
    }
   ],
   "source": [
    "plt.figure(figsize=(15,5))\n",
    "plt.title('Количество звонков в зависимости от месяца', size=16)\n",
    "ax= calls_pivot.groupby(calls_pivot['month'])['calls_count'].sum().plot(kind='bar', rot=0)\n",
    "for p in ax.patches:\n",
    "    ax.annotate(str(round(p.get_height())), (p.get_x() * 1, p.get_height() * 1.03))\n",
    "plt.xlabel('Номер месяца')\n",
    "plt.ylabel('Количество звонков')\n",
    "plt.ylim(None, 36000)\n",
    "plt.show()\n",
    "    "
   ]
  },
  {
   "cell_type": "markdown",
   "metadata": {},
   "source": [
    "Также наблюдается линейный рост количества звонков от месяца к месяцу (скорее всего из-за увелечения количества абонентов)."
   ]
  },
  {
   "cell_type": "markdown",
   "metadata": {},
   "source": [
    "Напишем функцию для автоматического построения графиков:"
   ]
  },
  {
   "cell_type": "code",
   "execution_count": 27,
   "metadata": {},
   "outputs": [],
   "source": [
    "def plot_subs(feature, data,\n",
    "              suptitle, title1, title2, xlabel1, xlabel2, ylabel1, ylabel2, xlim=None):\n",
    "    '''\n",
    "    input:\n",
    "        feature - название исследуемого признака\n",
    "        data - данные, по которым строим график\n",
    "        suptitle - наименование графиков\n",
    "        title1, title2 - название гистограммы и боксплота\n",
    "        xlabel1, xlabel2 - название оси X гистограммы и боксплота\n",
    "        ylabel1, ylabel2 - название оси Y гистограммы и боксплота,\n",
    "        xlim - ограничение по оси X\n",
    "    output:\n",
    "        None\n",
    "    '''\n",
    "    fig, axs = plt.subplots(1, 2, figsize=(18,7))\n",
    "    plt.suptitle(suptitle, size=18)\n",
    "    \n",
    "#Построение гистограммы\n",
    "    data[feature].hist(bins=100, edgecolor='black', ax=axs[0])\n",
    "    axs[0].set_title(title1, size=15)\n",
    "    axs[0].set_xlabel(xlabel1, size=13)\n",
    "    axs[0].set_ylabel(ylabel1, size=13)\n",
    "    \n",
    "#Построение боксплота\n",
    "    sns.boxplot(x=feature, data=data, ax=axs[1])\n",
    "    axs[1].set_title(title2, size=15)\n",
    "    axs[1].set_xlabel(xlabel2, size=13)\n",
    "    axs[1].set_ylabel(ylabel2, size=13)\n",
    "    \n",
    "    if xlim is not None:\n",
    "        axs[0].set_xlim(xlim)\n",
    "        axs[1].set_xlim(xlim)\n",
    "\n",
    "    plt.show()\n"
   ]
  },
  {
   "cell_type": "markdown",
   "metadata": {},
   "source": [
    "Построим гистограмму и боксплот распределения израсходованных минут."
   ]
  },
  {
   "cell_type": "code",
   "execution_count": 28,
   "metadata": {},
   "outputs": [
    {
     "data": {
      "image/png": "[encoded data removed]",
      "text/plain": [
       "<Figure size 1296x504 with 2 Axes>"
      ]
     },
     "metadata": {},
     "output_type": "display_data"
    }
   ],
   "source": [
    "plot_subs('duration_calls_sum', calls_pivot, 'Распределение проговоренных минут', \n",
    "          'Гистограмма распределения суммарного количества минут', 'Диаграмма размаха рапределения суммарного количества минут', \n",
    "          'Суммарное количество минут', 'Суммарное количество минут', \n",
    "          'Количество абонентов', 'Количество абонентов')"
   ]
  },
  {
   "cell_type": "markdown",
   "metadata": {},
   "source": [
    "По гистограмме видим, что наибольшее количество абонентов использует почти 500 минут в сумме, по диаграмме размаха можно сказать, что нормальные значения минут находятся в диапазоне от 0 до 1050 минут, все значения выходящие за данную отметку - выбросы."
   ]
  },
  {
   "cell_type": "code",
   "execution_count": 29,
   "metadata": {},
   "outputs": [
    {
     "name": "stdout",
     "output_type": "stream",
     "text": [
      "<class 'pandas.core.frame.DataFrame'>\n",
      "RangeIndex: 3174 entries, 0 to 3173\n",
      "Data columns (total 4 columns):\n",
      " #   Column              Non-Null Count  Dtype\n",
      "---  ------              --------------  -----\n",
      " 0   user_id             3174 non-null   int64\n",
      " 1   month               3174 non-null   int64\n",
      " 2   calls_count         3174 non-null   int64\n",
      " 3   duration_calls_sum  3174 non-null   int64\n",
      "dtypes: int64(4)\n",
      "memory usage: 99.3 KB\n"
     ]
    }
   ],
   "source": [
    "calls_pivot.info()"
   ]
  },
  {
   "cell_type": "markdown",
   "metadata": {},
   "source": [
    "**Таблица internet**"
   ]
  },
  {
   "cell_type": "code",
   "execution_count": 30,
   "metadata": {},
   "outputs": [],
   "source": [
    "internet['month'] = pd.DatetimeIndex(internet['session_date']).month #Нахождение месяца интернет сессии"
   ]
  },
  {
   "cell_type": "code",
   "execution_count": 31,
   "metadata": {},
   "outputs": [
    {
     "data": {
      "text/html": [
       "<div>\n",
       "<style scoped>\n",
       "    .dataframe tbody tr th:only-of-type {\n",
       "        vertical-align: middle;\n",
       "    }\n",
       "\n",
       "    .dataframe tbody tr th {\n",
       "        vertical-align: top;\n",
       "    }\n",
       "\n",
       "    .dataframe thead th {\n",
       "        text-align: right;\n",
       "    }\n",
       "</style>\n",
       "<table border=\"1\" class=\"dataframe\">\n",
       "  <thead>\n",
       "    <tr style=\"text-align: right;\">\n",
       "      <th></th>\n",
       "      <th>Unnamed: 0</th>\n",
       "      <th>id</th>\n",
       "      <th>mb_used</th>\n",
       "      <th>session_date</th>\n",
       "      <th>user_id</th>\n",
       "      <th>month</th>\n",
       "    </tr>\n",
       "  </thead>\n",
       "  <tbody>\n",
       "    <tr>\n",
       "      <th>85255</th>\n",
       "      <td>85255</td>\n",
       "      <td>1290_285</td>\n",
       "      <td>667.679993</td>\n",
       "      <td>2018-12-18</td>\n",
       "      <td>1290</td>\n",
       "      <td>12</td>\n",
       "    </tr>\n",
       "    <tr>\n",
       "      <th>66408</th>\n",
       "      <td>66408</td>\n",
       "      <td>1227_5</td>\n",
       "      <td>0.000000</td>\n",
       "      <td>2018-07-16</td>\n",
       "      <td>1227</td>\n",
       "      <td>7</td>\n",
       "    </tr>\n",
       "    <tr>\n",
       "      <th>125995</th>\n",
       "      <td>125995</td>\n",
       "      <td>1423_452</td>\n",
       "      <td>345.239990</td>\n",
       "      <td>2018-04-24</td>\n",
       "      <td>1423</td>\n",
       "      <td>4</td>\n",
       "    </tr>\n",
       "    <tr>\n",
       "      <th>26434</th>\n",
       "      <td>26434</td>\n",
       "      <td>1092_100</td>\n",
       "      <td>92.629997</td>\n",
       "      <td>2018-12-18</td>\n",
       "      <td>1092</td>\n",
       "      <td>12</td>\n",
       "    </tr>\n",
       "    <tr>\n",
       "      <th>19627</th>\n",
       "      <td>19627</td>\n",
       "      <td>1066_108</td>\n",
       "      <td>570.799988</td>\n",
       "      <td>2018-10-26</td>\n",
       "      <td>1066</td>\n",
       "      <td>10</td>\n",
       "    </tr>\n",
       "  </tbody>\n",
       "</table>\n",
       "</div>"
      ],
      "text/plain": [
       "        Unnamed: 0        id     mb_used session_date  user_id  month\n",
       "85255        85255  1290_285  667.679993   2018-12-18     1290     12\n",
       "66408        66408    1227_5    0.000000   2018-07-16     1227      7\n",
       "125995      125995  1423_452  345.239990   2018-04-24     1423      4\n",
       "26434        26434  1092_100   92.629997   2018-12-18     1092     12\n",
       "19627        19627  1066_108  570.799988   2018-10-26     1066     10"
      ]
     },
     "metadata": {},
     "output_type": "display_data"
    }
   ],
   "source": [
    "display(internet.sample(5))"
   ]
  },
  {
   "cell_type": "markdown",
   "metadata": {},
   "source": [
    "Поскольку в условии было обозначено, что «Мегалайн» всегда округляет вверх значения минут и мегабайтов, поэтому округляем мегабайты в бОльшую сторону."
   ]
  },
  {
   "cell_type": "code",
   "execution_count": 32,
   "metadata": {},
   "outputs": [],
   "source": [
    "internet['mb_used_round'] = internet['mb_used'].map(math.ceil)"
   ]
  },
  {
   "cell_type": "code",
   "execution_count": 33,
   "metadata": {},
   "outputs": [],
   "source": [
    "internet_pivot = internet.pivot_table(index=['user_id', 'month'], values = 'mb_used_round', aggfunc = ['count', 'sum'])\n",
    "internet_pivot = internet_pivot.reset_index()\n",
    "internet_pivot.columns = ['user_id', 'month', 'count_mb', 'mb_used_round_sum']\n"
   ]
  },
  {
   "cell_type": "code",
   "execution_count": 34,
   "metadata": {},
   "outputs": [
    {
     "data": {
      "text/html": [
       "<div>\n",
       "<style scoped>\n",
       "    .dataframe tbody tr th:only-of-type {\n",
       "        vertical-align: middle;\n",
       "    }\n",
       "\n",
       "    .dataframe tbody tr th {\n",
       "        vertical-align: top;\n",
       "    }\n",
       "\n",
       "    .dataframe thead th {\n",
       "        text-align: right;\n",
       "    }\n",
       "</style>\n",
       "<table border=\"1\" class=\"dataframe\">\n",
       "  <thead>\n",
       "    <tr style=\"text-align: right;\">\n",
       "      <th></th>\n",
       "      <th>user_id</th>\n",
       "      <th>month</th>\n",
       "      <th>count_mb</th>\n",
       "      <th>mb_used_round_sum</th>\n",
       "    </tr>\n",
       "  </thead>\n",
       "  <tbody>\n",
       "    <tr>\n",
       "      <th>592</th>\n",
       "      <td>1094</td>\n",
       "      <td>5</td>\n",
       "      <td>1</td>\n",
       "      <td>0</td>\n",
       "    </tr>\n",
       "    <tr>\n",
       "      <th>2298</th>\n",
       "      <td>1365</td>\n",
       "      <td>10</td>\n",
       "      <td>1</td>\n",
       "      <td>0</td>\n",
       "    </tr>\n",
       "  </tbody>\n",
       "</table>\n",
       "</div>"
      ],
      "text/plain": [
       "      user_id  month  count_mb  mb_used_round_sum\n",
       "592      1094      5         1                  0\n",
       "2298     1365     10         1                  0"
      ]
     },
     "execution_count": 34,
     "metadata": {},
     "output_type": "execute_result"
    }
   ],
   "source": [
    "internet_pivot[internet_pivot['mb_used_round_sum'] == 0]"
   ]
  },
  {
   "cell_type": "markdown",
   "metadata": {},
   "source": [
    "2 абонента  вообще не расходовали мегабайты интернета в течение месяца."
   ]
  },
  {
   "cell_type": "code",
   "execution_count": 35,
   "metadata": {},
   "outputs": [
    {
     "data": {
      "image/png": "[encoded data removed]",
      "text/plain": [
       "<Figure size 1080x360 with 1 Axes>"
      ]
     },
     "metadata": {},
     "output_type": "display_data"
    }
   ],
   "source": [
    "plt.figure(figsize=(15,5))\n",
    "plt.title('Медианное значение объема трафика в зависимости от месяца', size = 18)\n",
    "ax = internet_pivot.groupby(internet_pivot['month'])['mb_used_round_sum'].median().plot(kind='bar', rot=0)\n",
    "for p in ax.patches:\n",
    "    ax.annotate(str(round(p.get_height())), (p.get_x() * 1, p.get_height() * 1.03))\n",
    "plt.xlabel('Номер месяца')\n",
    "plt.ylabel('Медианное значение объема трафика')\n",
    "plt.ylim(None, 20000)\n",
    "plt.show()\n"
   ]
  },
  {
   "cell_type": "markdown",
   "metadata": {},
   "source": [
    "По графику видим, что наибольшее медианное значение израсходованного интернета 18 ГБ было в декабре, в январе же было наименьшее медианное значение израсходованного интернета - почти 8 ГБ."
   ]
  },
  {
   "cell_type": "markdown",
   "metadata": {},
   "source": [
    "Построим гистограмму и боксплот."
   ]
  },
  {
   "cell_type": "code",
   "execution_count": 36,
   "metadata": {},
   "outputs": [
    {
     "data": {
      "image/png": "[encoded data removed]",
      "text/plain": [
       "<Figure size 1296x504 with 2 Axes>"
      ]
     },
     "metadata": {},
     "output_type": "display_data"
    }
   ],
   "source": [
    "plot_subs('mb_used_round_sum', internet_pivot, 'Распределение израсходованного трафика интернета', \n",
    "          'Гистограмма распределения израсходованного интернета', 'Диаграмма размаха израсходованного интернета', \n",
    "          'Суммарный объем израсходованного трафика интернета', 'Суммарный объем израсходованного трафика интернета', \n",
    "          'Количество абонентов', 'Количество абонентов')"
   ]
  },
  {
   "cell_type": "markdown",
   "metadata": {},
   "source": [
    "Из графика \"Гистограмма распределения израсходованного интернета\" видим, что наибольшее количество абонентов используют примерно 15 ГБ трафика. Гистограмма имеет форму колокола и стремится к нормальному распределению. Нормальные значения суммарного объема израсходованного трафика находятся в диапазоне от 0 до 35 ГБ. Все, что находится за пределами 35 ГБ будет являться выбросами"
   ]
  },
  {
   "cell_type": "code",
   "execution_count": 37,
   "metadata": {},
   "outputs": [
    {
     "name": "stdout",
     "output_type": "stream",
     "text": [
      "<class 'pandas.core.frame.DataFrame'>\n",
      "RangeIndex: 3203 entries, 0 to 3202\n",
      "Data columns (total 4 columns):\n",
      " #   Column             Non-Null Count  Dtype\n",
      "---  ------             --------------  -----\n",
      " 0   user_id            3203 non-null   int64\n",
      " 1   month              3203 non-null   int64\n",
      " 2   count_mb           3203 non-null   int64\n",
      " 3   mb_used_round_sum  3203 non-null   int64\n",
      "dtypes: int64(4)\n",
      "memory usage: 100.2 KB\n"
     ]
    }
   ],
   "source": [
    "internet_pivot.info()"
   ]
  },
  {
   "cell_type": "markdown",
   "metadata": {},
   "source": [
    "Соединим таблицу internet_pivot с calls_pivot."
   ]
  },
  {
   "cell_type": "code",
   "execution_count": 38,
   "metadata": {},
   "outputs": [],
   "source": [
    "internet_merge = calls_pivot.merge(internet_pivot, on=['user_id', 'month'], how='outer')"
   ]
  },
  {
   "cell_type": "markdown",
   "metadata": {},
   "source": [
    "**Таблица messages**"
   ]
  },
  {
   "cell_type": "code",
   "execution_count": 39,
   "metadata": {},
   "outputs": [],
   "source": [
    "messages['month'] = pd.DatetimeIndex(messages['message_date']).month #Нахождение месяца, когда было отправлено сообщение"
   ]
  },
  {
   "cell_type": "code",
   "execution_count": 40,
   "metadata": {},
   "outputs": [
    {
     "data": {
      "text/html": [
       "<div>\n",
       "<style scoped>\n",
       "    .dataframe tbody tr th:only-of-type {\n",
       "        vertical-align: middle;\n",
       "    }\n",
       "\n",
       "    .dataframe tbody tr th {\n",
       "        vertical-align: top;\n",
       "    }\n",
       "\n",
       "    .dataframe thead th {\n",
       "        text-align: right;\n",
       "    }\n",
       "</style>\n",
       "<table border=\"1\" class=\"dataframe\">\n",
       "  <thead>\n",
       "    <tr style=\"text-align: right;\">\n",
       "      <th></th>\n",
       "      <th>id</th>\n",
       "      <th>message_date</th>\n",
       "      <th>user_id</th>\n",
       "      <th>month</th>\n",
       "    </tr>\n",
       "  </thead>\n",
       "  <tbody>\n",
       "    <tr>\n",
       "      <th>11757</th>\n",
       "      <td>1050_8</td>\n",
       "      <td>2018-08-08</td>\n",
       "      <td>1050</td>\n",
       "      <td>8</td>\n",
       "    </tr>\n",
       "    <tr>\n",
       "      <th>84917</th>\n",
       "      <td>1355_14</td>\n",
       "      <td>2018-11-03</td>\n",
       "      <td>1355</td>\n",
       "      <td>11</td>\n",
       "    </tr>\n",
       "    <tr>\n",
       "      <th>54235</th>\n",
       "      <td>1241_125</td>\n",
       "      <td>2018-12-18</td>\n",
       "      <td>1241</td>\n",
       "      <td>12</td>\n",
       "    </tr>\n",
       "    <tr>\n",
       "      <th>54408</th>\n",
       "      <td>1243_106</td>\n",
       "      <td>2018-10-16</td>\n",
       "      <td>1243</td>\n",
       "      <td>10</td>\n",
       "    </tr>\n",
       "    <tr>\n",
       "      <th>12066</th>\n",
       "      <td>1052_138</td>\n",
       "      <td>2018-07-30</td>\n",
       "      <td>1052</td>\n",
       "      <td>7</td>\n",
       "    </tr>\n",
       "  </tbody>\n",
       "</table>\n",
       "</div>"
      ],
      "text/plain": [
       "             id message_date  user_id  month\n",
       "11757    1050_8   2018-08-08     1050      8\n",
       "84917   1355_14   2018-11-03     1355     11\n",
       "54235  1241_125   2018-12-18     1241     12\n",
       "54408  1243_106   2018-10-16     1243     10\n",
       "12066  1052_138   2018-07-30     1052      7"
      ]
     },
     "execution_count": 40,
     "metadata": {},
     "output_type": "execute_result"
    }
   ],
   "source": [
    "messages.sample(5)"
   ]
  },
  {
   "cell_type": "markdown",
   "metadata": {},
   "source": [
    "Создание сводной таблицы для анализа количества сообщений."
   ]
  },
  {
   "cell_type": "code",
   "execution_count": 41,
   "metadata": {},
   "outputs": [],
   "source": [
    "messages['user_id1'] = messages['user_id']\n",
    "messages_pivot = messages.pivot_table(index=['user_id', 'month'], values='user_id1', aggfunc='count')\n",
    "messages_pivot = messages_pivot.reset_index()\n",
    "messages_pivot.columns = ['user_id', 'month', 'messages_count']"
   ]
  },
  {
   "cell_type": "code",
   "execution_count": 42,
   "metadata": {},
   "outputs": [
    {
     "data": {
      "image/png": "[encoded data removed]",
      "text/plain": [
       "<Figure size 1080x360 with 1 Axes>"
      ]
     },
     "metadata": {},
     "output_type": "display_data"
    }
   ],
   "source": [
    "plt.figure(figsize=(15,5))\n",
    "plt.title('График медианного количества сообщений в зависимости от месяца', size = 18)\n",
    "ax = messages_pivot.groupby(messages_pivot['month'])['messages_count'].median().plot(kind='bar', rot=0)\n",
    "for p in ax.patches:\n",
    "    ax.annotate(str(round(p.get_height())), (p.get_x() * 1, p.get_height() * 1.03))\n",
    "plt.xlabel('Номер месяца')\n",
    "plt.ylabel('Медианное значение количества сообщений')\n",
    "plt.ylim(None, 50)\n",
    "plt.show()\n"
   ]
  },
  {
   "cell_type": "markdown",
   "metadata": {},
   "source": [
    "Наибольшее среднее значение по отправленным смс сообщениям наблюдается в январе 44 шт в месяц, при этом наименьшее медианное значение наблюдается в январе - 22 сообщения в месяц."
   ]
  },
  {
   "cell_type": "code",
   "execution_count": 43,
   "metadata": {},
   "outputs": [
    {
     "data": {
      "image/png": "[encoded data removed]",
      "text/plain": [
       "<Figure size 1296x504 with 2 Axes>"
      ]
     },
     "metadata": {},
     "output_type": "display_data"
    }
   ],
   "source": [
    "plot_subs('messages_count', messages_pivot, 'Распределение отправленных сообщений', \n",
    "          'Гистограмма распределения количества сообщений', 'Диаграмма размаха рапределения суммарного количества отправленных смс', \n",
    "          'Суммарное количество отправленных смс', 'Суммарное количество отправленных смс', \n",
    "          'Количество абонентов', 'Количество абонентов')"
   ]
  },
  {
   "cell_type": "markdown",
   "metadata": {},
   "source": [
    "Наибольшее количество абонентов отправляют в месяц примерно 25 сообщений. Нормальные значения количества отправленных смсм сообщений сосредоточены в диапазоне от 1 до 60 сообщений. Все, что свыше этого диапазона - выбросы. "
   ]
  },
  {
   "cell_type": "markdown",
   "metadata": {},
   "source": [
    "Соединим таблицу messages_pivot с таблицей internet_merge."
   ]
  },
  {
   "cell_type": "code",
   "execution_count": 44,
   "metadata": {},
   "outputs": [],
   "source": [
    "messages_merge = internet_merge.merge(messages_pivot, on=[ 'user_id', 'month'], how='outer')"
   ]
  },
  {
   "cell_type": "markdown",
   "metadata": {},
   "source": [
    "Далее соединим таблицу messages_merge с таблицей users."
   ]
  },
  {
   "cell_type": "code",
   "execution_count": 45,
   "metadata": {},
   "outputs": [],
   "source": [
    "users_merge = messages_merge.merge(users, on='user_id', how='left')"
   ]
  },
  {
   "cell_type": "markdown",
   "metadata": {},
   "source": [
    "И, объединим получившуюся таблицу с таблицей tariffs."
   ]
  },
  {
   "cell_type": "code",
   "execution_count": 46,
   "metadata": {},
   "outputs": [],
   "source": [
    "df = users_merge.merge(tariffs, on='tariff', how='left')"
   ]
  },
  {
   "cell_type": "markdown",
   "metadata": {},
   "source": [
    "Посмотрим таблицу, которая получилась."
   ]
  },
  {
   "cell_type": "code",
   "execution_count": 47,
   "metadata": {
    "scrolled": true
   },
   "outputs": [
    {
     "data": {
      "text/html": [
       "<div>\n",
       "<style scoped>\n",
       "    .dataframe tbody tr th:only-of-type {\n",
       "        vertical-align: middle;\n",
       "    }\n",
       "\n",
       "    .dataframe tbody tr th {\n",
       "        vertical-align: top;\n",
       "    }\n",
       "\n",
       "    .dataframe thead th {\n",
       "        text-align: right;\n",
       "    }\n",
       "</style>\n",
       "<table border=\"1\" class=\"dataframe\">\n",
       "  <thead>\n",
       "    <tr style=\"text-align: right;\">\n",
       "      <th></th>\n",
       "      <th>user_id</th>\n",
       "      <th>month</th>\n",
       "      <th>calls_count</th>\n",
       "      <th>duration_calls_sum</th>\n",
       "      <th>count_mb</th>\n",
       "      <th>mb_used_round_sum</th>\n",
       "      <th>messages_count</th>\n",
       "      <th>age</th>\n",
       "      <th>churn_date</th>\n",
       "      <th>city</th>\n",
       "      <th>first_name</th>\n",
       "      <th>last_name</th>\n",
       "      <th>reg_date</th>\n",
       "      <th>tariff</th>\n",
       "      <th>messages_included</th>\n",
       "      <th>mb_per_month_included</th>\n",
       "      <th>minutes_included</th>\n",
       "      <th>rub_monthly_fee</th>\n",
       "      <th>rub_per_gb</th>\n",
       "      <th>rub_per_message</th>\n",
       "      <th>rub_per_minute</th>\n",
       "    </tr>\n",
       "  </thead>\n",
       "  <tbody>\n",
       "    <tr>\n",
       "      <th>2969</th>\n",
       "      <td>1466</td>\n",
       "      <td>11</td>\n",
       "      <td>65.0</td>\n",
       "      <td>473.0</td>\n",
       "      <td>36.0</td>\n",
       "      <td>15234.0</td>\n",
       "      <td>NaN</td>\n",
       "      <td>37</td>\n",
       "      <td>NaN</td>\n",
       "      <td>Новосибирск</td>\n",
       "      <td>Рубен</td>\n",
       "      <td>Шевцов</td>\n",
       "      <td>2018-02-28</td>\n",
       "      <td>ultra</td>\n",
       "      <td>1000</td>\n",
       "      <td>30720</td>\n",
       "      <td>3000</td>\n",
       "      <td>1950</td>\n",
       "      <td>150</td>\n",
       "      <td>1</td>\n",
       "      <td>1</td>\n",
       "    </tr>\n",
       "    <tr>\n",
       "      <th>405</th>\n",
       "      <td>1064</td>\n",
       "      <td>7</td>\n",
       "      <td>47.0</td>\n",
       "      <td>313.0</td>\n",
       "      <td>67.0</td>\n",
       "      <td>20681.0</td>\n",
       "      <td>37.0</td>\n",
       "      <td>55</td>\n",
       "      <td>2018-12-26</td>\n",
       "      <td>Якутск</td>\n",
       "      <td>Динара</td>\n",
       "      <td>Алфеева</td>\n",
       "      <td>2018-03-17</td>\n",
       "      <td>smart</td>\n",
       "      <td>50</td>\n",
       "      <td>15360</td>\n",
       "      <td>500</td>\n",
       "      <td>550</td>\n",
       "      <td>200</td>\n",
       "      <td>3</td>\n",
       "      <td>3</td>\n",
       "    </tr>\n",
       "    <tr>\n",
       "      <th>1292</th>\n",
       "      <td>1204</td>\n",
       "      <td>5</td>\n",
       "      <td>55.0</td>\n",
       "      <td>327.0</td>\n",
       "      <td>56.0</td>\n",
       "      <td>17474.0</td>\n",
       "      <td>NaN</td>\n",
       "      <td>18</td>\n",
       "      <td>NaN</td>\n",
       "      <td>Москва</td>\n",
       "      <td>Мирослава</td>\n",
       "      <td>Лазарева</td>\n",
       "      <td>2018-01-04</td>\n",
       "      <td>smart</td>\n",
       "      <td>50</td>\n",
       "      <td>15360</td>\n",
       "      <td>500</td>\n",
       "      <td>550</td>\n",
       "      <td>200</td>\n",
       "      <td>3</td>\n",
       "      <td>3</td>\n",
       "    </tr>\n",
       "    <tr>\n",
       "      <th>2783</th>\n",
       "      <td>1435</td>\n",
       "      <td>10</td>\n",
       "      <td>40.0</td>\n",
       "      <td>318.0</td>\n",
       "      <td>51.0</td>\n",
       "      <td>18860.0</td>\n",
       "      <td>NaN</td>\n",
       "      <td>32</td>\n",
       "      <td>NaN</td>\n",
       "      <td>Москва</td>\n",
       "      <td>Евфросинья</td>\n",
       "      <td>Азимова</td>\n",
       "      <td>2018-02-17</td>\n",
       "      <td>smart</td>\n",
       "      <td>50</td>\n",
       "      <td>15360</td>\n",
       "      <td>500</td>\n",
       "      <td>550</td>\n",
       "      <td>200</td>\n",
       "      <td>3</td>\n",
       "      <td>3</td>\n",
       "    </tr>\n",
       "    <tr>\n",
       "      <th>2362</th>\n",
       "      <td>1377</td>\n",
       "      <td>6</td>\n",
       "      <td>176.0</td>\n",
       "      <td>1290.0</td>\n",
       "      <td>10.0</td>\n",
       "      <td>4722.0</td>\n",
       "      <td>15.0</td>\n",
       "      <td>59</td>\n",
       "      <td>NaN</td>\n",
       "      <td>Брянск</td>\n",
       "      <td>Альфред</td>\n",
       "      <td>Семин</td>\n",
       "      <td>2018-02-25</td>\n",
       "      <td>ultra</td>\n",
       "      <td>1000</td>\n",
       "      <td>30720</td>\n",
       "      <td>3000</td>\n",
       "      <td>1950</td>\n",
       "      <td>150</td>\n",
       "      <td>1</td>\n",
       "      <td>1</td>\n",
       "    </tr>\n",
       "    <tr>\n",
       "      <th>264</th>\n",
       "      <td>1043</td>\n",
       "      <td>10</td>\n",
       "      <td>67.0</td>\n",
       "      <td>512.0</td>\n",
       "      <td>71.0</td>\n",
       "      <td>23152.0</td>\n",
       "      <td>10.0</td>\n",
       "      <td>69</td>\n",
       "      <td>NaN</td>\n",
       "      <td>Ставрополь</td>\n",
       "      <td>Марианна</td>\n",
       "      <td>Родионова</td>\n",
       "      <td>2018-07-08</td>\n",
       "      <td>smart</td>\n",
       "      <td>50</td>\n",
       "      <td>15360</td>\n",
       "      <td>500</td>\n",
       "      <td>550</td>\n",
       "      <td>200</td>\n",
       "      <td>3</td>\n",
       "      <td>3</td>\n",
       "    </tr>\n",
       "    <tr>\n",
       "      <th>1887</th>\n",
       "      <td>1301</td>\n",
       "      <td>10</td>\n",
       "      <td>89.0</td>\n",
       "      <td>595.0</td>\n",
       "      <td>57.0</td>\n",
       "      <td>19661.0</td>\n",
       "      <td>NaN</td>\n",
       "      <td>26</td>\n",
       "      <td>NaN</td>\n",
       "      <td>Махачкала</td>\n",
       "      <td>Наида</td>\n",
       "      <td>Авраменко</td>\n",
       "      <td>2018-09-27</td>\n",
       "      <td>smart</td>\n",
       "      <td>50</td>\n",
       "      <td>15360</td>\n",
       "      <td>500</td>\n",
       "      <td>550</td>\n",
       "      <td>200</td>\n",
       "      <td>3</td>\n",
       "      <td>3</td>\n",
       "    </tr>\n",
       "    <tr>\n",
       "      <th>118</th>\n",
       "      <td>1016</td>\n",
       "      <td>12</td>\n",
       "      <td>16.0</td>\n",
       "      <td>94.0</td>\n",
       "      <td>34.0</td>\n",
       "      <td>19446.0</td>\n",
       "      <td>103.0</td>\n",
       "      <td>58</td>\n",
       "      <td>NaN</td>\n",
       "      <td>Омск</td>\n",
       "      <td>Марица</td>\n",
       "      <td>Сазонова</td>\n",
       "      <td>2018-11-21</td>\n",
       "      <td>ultra</td>\n",
       "      <td>1000</td>\n",
       "      <td>30720</td>\n",
       "      <td>3000</td>\n",
       "      <td>1950</td>\n",
       "      <td>150</td>\n",
       "      <td>1</td>\n",
       "      <td>1</td>\n",
       "    </tr>\n",
       "    <tr>\n",
       "      <th>3169</th>\n",
       "      <td>1498</td>\n",
       "      <td>10</td>\n",
       "      <td>41.0</td>\n",
       "      <td>247.0</td>\n",
       "      <td>59.0</td>\n",
       "      <td>20604.0</td>\n",
       "      <td>42.0</td>\n",
       "      <td>68</td>\n",
       "      <td>2018-10-25</td>\n",
       "      <td>Владикавказ</td>\n",
       "      <td>Всеволод</td>\n",
       "      <td>Акимчин</td>\n",
       "      <td>2018-07-19</td>\n",
       "      <td>smart</td>\n",
       "      <td>50</td>\n",
       "      <td>15360</td>\n",
       "      <td>500</td>\n",
       "      <td>550</td>\n",
       "      <td>200</td>\n",
       "      <td>3</td>\n",
       "      <td>3</td>\n",
       "    </tr>\n",
       "    <tr>\n",
       "      <th>2653</th>\n",
       "      <td>1418</td>\n",
       "      <td>12</td>\n",
       "      <td>64.0</td>\n",
       "      <td>413.0</td>\n",
       "      <td>58.0</td>\n",
       "      <td>19152.0</td>\n",
       "      <td>54.0</td>\n",
       "      <td>30</td>\n",
       "      <td>NaN</td>\n",
       "      <td>Новосибирск</td>\n",
       "      <td>Мстислав</td>\n",
       "      <td>Ахматов</td>\n",
       "      <td>2018-10-23</td>\n",
       "      <td>smart</td>\n",
       "      <td>50</td>\n",
       "      <td>15360</td>\n",
       "      <td>500</td>\n",
       "      <td>550</td>\n",
       "      <td>200</td>\n",
       "      <td>3</td>\n",
       "      <td>3</td>\n",
       "    </tr>\n",
       "  </tbody>\n",
       "</table>\n",
       "</div>"
      ],
      "text/plain": [
       "      user_id  month  calls_count  duration_calls_sum  count_mb  \\\n",
       "2969     1466     11         65.0               473.0      36.0   \n",
       "405      1064      7         47.0               313.0      67.0   \n",
       "1292     1204      5         55.0               327.0      56.0   \n",
       "2783     1435     10         40.0               318.0      51.0   \n",
       "2362     1377      6        176.0              1290.0      10.0   \n",
       "264      1043     10         67.0               512.0      71.0   \n",
       "1887     1301     10         89.0               595.0      57.0   \n",
       "118      1016     12         16.0                94.0      34.0   \n",
       "3169     1498     10         41.0               247.0      59.0   \n",
       "2653     1418     12         64.0               413.0      58.0   \n",
       "\n",
       "      mb_used_round_sum  messages_count  age  churn_date         city  \\\n",
       "2969            15234.0             NaN   37         NaN  Новосибирск   \n",
       "405             20681.0            37.0   55  2018-12-26       Якутск   \n",
       "1292            17474.0             NaN   18         NaN       Москва   \n",
       "2783            18860.0             NaN   32         NaN       Москва   \n",
       "2362             4722.0            15.0   59         NaN       Брянск   \n",
       "264             23152.0            10.0   69         NaN   Ставрополь   \n",
       "1887            19661.0             NaN   26         NaN    Махачкала   \n",
       "118             19446.0           103.0   58         NaN         Омск   \n",
       "3169            20604.0            42.0   68  2018-10-25  Владикавказ   \n",
       "2653            19152.0            54.0   30         NaN  Новосибирск   \n",
       "\n",
       "      first_name  last_name    reg_date tariff  messages_included  \\\n",
       "2969       Рубен     Шевцов  2018-02-28  ultra               1000   \n",
       "405       Динара    Алфеева  2018-03-17  smart                 50   \n",
       "1292   Мирослава   Лазарева  2018-01-04  smart                 50   \n",
       "2783  Евфросинья    Азимова  2018-02-17  smart                 50   \n",
       "2362     Альфред      Семин  2018-02-25  ultra               1000   \n",
       "264     Марианна  Родионова  2018-07-08  smart                 50   \n",
       "1887       Наида  Авраменко  2018-09-27  smart                 50   \n",
       "118       Марица   Сазонова  2018-11-21  ultra               1000   \n",
       "3169    Всеволод    Акимчин  2018-07-19  smart                 50   \n",
       "2653    Мстислав    Ахматов  2018-10-23  smart                 50   \n",
       "\n",
       "      mb_per_month_included  minutes_included  rub_monthly_fee  rub_per_gb  \\\n",
       "2969                  30720              3000             1950         150   \n",
       "405                   15360               500              550         200   \n",
       "1292                  15360               500              550         200   \n",
       "2783                  15360               500              550         200   \n",
       "2362                  30720              3000             1950         150   \n",
       "264                   15360               500              550         200   \n",
       "1887                  15360               500              550         200   \n",
       "118                   30720              3000             1950         150   \n",
       "3169                  15360               500              550         200   \n",
       "2653                  15360               500              550         200   \n",
       "\n",
       "      rub_per_message  rub_per_minute  \n",
       "2969                1               1  \n",
       "405                 3               3  \n",
       "1292                3               3  \n",
       "2783                3               3  \n",
       "2362                1               1  \n",
       "264                 3               3  \n",
       "1887                3               3  \n",
       "118                 1               1  \n",
       "3169                3               3  \n",
       "2653                3               3  "
      ]
     },
     "execution_count": 47,
     "metadata": {},
     "output_type": "execute_result"
    }
   ],
   "source": [
    "df.sample(10)"
   ]
  },
  {
   "cell_type": "markdown",
   "metadata": {},
   "source": [
    "<div class=\"alert alert-success\">\n",
    "<b>Комментарий ревьюера:</b>\n",
    "\n",
    "В целом таблицы мы соединили верно.\n",
    "    \n",
    "Однако при их соединении мы всё таки потеряли 2–х клиентов. В данный момент для нас это не критично, но в боевой задаче мы не захотим тепять эти данные.\n",
    "    \n",
    "Поэтому важно понимать, как так произошло.\n",
    "    \n",
    "В целом наша задача решается когда мы присоединяем данные к той таблице, в которой есть все пользователи.\n",
    "\n",
    "</div>"
   ]
  },
  {
   "cell_type": "code",
   "execution_count": 48,
   "metadata": {},
   "outputs": [
    {
     "name": "stdout",
     "output_type": "stream",
     "text": [
      "Количество клиентов: 498\n"
     ]
    }
   ],
   "source": [
    "print(f'Количество клиентов: {df.user_id.nunique()}')"
   ]
  },
  {
   "cell_type": "code",
   "execution_count": 49,
   "metadata": {
    "scrolled": false
   },
   "outputs": [
    {
     "name": "stdout",
     "output_type": "stream",
     "text": [
      "<class 'pandas.core.frame.DataFrame'>\n",
      "Int64Index: 3214 entries, 0 to 3213\n",
      "Data columns (total 21 columns):\n",
      " #   Column                 Non-Null Count  Dtype  \n",
      "---  ------                 --------------  -----  \n",
      " 0   user_id                3214 non-null   int64  \n",
      " 1   month                  3214 non-null   int64  \n",
      " 2   calls_count            3174 non-null   float64\n",
      " 3   duration_calls_sum     3174 non-null   float64\n",
      " 4   count_mb               3203 non-null   float64\n",
      " 5   mb_used_round_sum      3203 non-null   float64\n",
      " 6   messages_count         2717 non-null   float64\n",
      " 7   age                    3214 non-null   int8   \n",
      " 8   churn_date             187 non-null    object \n",
      " 9   city                   3214 non-null   object \n",
      " 10  first_name             3214 non-null   object \n",
      " 11  last_name              3214 non-null   object \n",
      " 12  reg_date               3214 non-null   object \n",
      " 13  tariff                 3214 non-null   object \n",
      " 14  messages_included      3214 non-null   int64  \n",
      " 15  mb_per_month_included  3214 non-null   int64  \n",
      " 16  minutes_included       3214 non-null   int64  \n",
      " 17  rub_monthly_fee        3214 non-null   int64  \n",
      " 18  rub_per_gb             3214 non-null   int64  \n",
      " 19  rub_per_message        3214 non-null   int64  \n",
      " 20  rub_per_minute         3214 non-null   int64  \n",
      "dtypes: float64(5), int64(9), int8(1), object(6)\n",
      "memory usage: 1.8 MB\n"
     ]
    }
   ],
   "source": [
    "#Просмотр сколько памяти занимает обработка и количество пропусков в датафрейме\n",
    "df.info(memory_usage='deep')"
   ]
  },
  {
   "cell_type": "code",
   "execution_count": 50,
   "metadata": {},
   "outputs": [
    {
     "data": {
      "text/plain": [
       "array(['Краснодар', 'Москва', 'Стерлитамак', 'Новокузнецк',\n",
       "       'Набережные Челны', 'Ульяновск', 'Челябинск', 'Пермь', 'Тюмень',\n",
       "       'Самара', 'Санкт-Петербург', 'Иваново', 'Чебоксары', 'Омск', 'Уфа',\n",
       "       'Томск', 'Чита', 'Мурманск', 'Петрозаводск', 'Тверь',\n",
       "       'Екатеринбург', 'Махачкала', 'Вологда', 'Череповец', 'Ярославль',\n",
       "       'Сочи', 'Хабаровск', 'Ставрополь', 'Рязань', 'Улан-Удэ', 'Тула',\n",
       "       'Саратов', 'Ростов-на-Дону', 'Казань', 'Иркутск', 'Курск',\n",
       "       'Калуга', 'Якутск', 'Астрахань', 'Химки', 'Владикавказ',\n",
       "       'Волгоград', 'Саранск', 'Ижевск', 'Новосибирск', 'Брянск',\n",
       "       'Тольятти', 'Нижний Тагил', 'Орёл', 'Белгород', 'Воронеж',\n",
       "       'Курган', 'Барнаул', 'Красноярск', 'Архангельск', 'Липецк',\n",
       "       'Кемерово', 'Киров', 'Сургут', 'Пенза', 'Волжский', 'Магнитогорск',\n",
       "       'Нижний Новгород', 'Кострома', 'Владивосток', 'Тамбов', 'Балашиха',\n",
       "       'Севастополь', 'Калининград', 'Оренбург', 'Смоленск',\n",
       "       'Нижневартовск', 'Владимир', 'Новороссийск', 'Грозный', 'Подольск'],\n",
       "      dtype=object)"
      ]
     },
     "execution_count": 50,
     "metadata": {},
     "output_type": "execute_result"
    }
   ],
   "source": [
    "df['city'].unique()"
   ]
  },
  {
   "cell_type": "code",
   "execution_count": 51,
   "metadata": {
    "scrolled": false
   },
   "outputs": [
    {
     "data": {
      "text/html": [
       "<div>\n",
       "<style scoped>\n",
       "    .dataframe tbody tr th:only-of-type {\n",
       "        vertical-align: middle;\n",
       "    }\n",
       "\n",
       "    .dataframe tbody tr th {\n",
       "        vertical-align: top;\n",
       "    }\n",
       "\n",
       "    .dataframe thead th {\n",
       "        text-align: right;\n",
       "    }\n",
       "</style>\n",
       "<table border=\"1\" class=\"dataframe\">\n",
       "  <thead>\n",
       "    <tr style=\"text-align: right;\">\n",
       "      <th></th>\n",
       "      <th>count</th>\n",
       "      <th>mean</th>\n",
       "      <th>std</th>\n",
       "      <th>min</th>\n",
       "      <th>25%</th>\n",
       "      <th>50%</th>\n",
       "      <th>75%</th>\n",
       "      <th>max</th>\n",
       "    </tr>\n",
       "  </thead>\n",
       "  <tbody>\n",
       "    <tr>\n",
       "      <th>user_id</th>\n",
       "      <td>3214.0</td>\n",
       "      <td>1251.590230</td>\n",
       "      <td>144.659172</td>\n",
       "      <td>1000.0</td>\n",
       "      <td>1125.0</td>\n",
       "      <td>1253.0</td>\n",
       "      <td>1378.75</td>\n",
       "      <td>1499.0</td>\n",
       "    </tr>\n",
       "    <tr>\n",
       "      <th>month</th>\n",
       "      <td>3214.0</td>\n",
       "      <td>8.317362</td>\n",
       "      <td>2.905413</td>\n",
       "      <td>1.0</td>\n",
       "      <td>6.0</td>\n",
       "      <td>9.0</td>\n",
       "      <td>11.00</td>\n",
       "      <td>12.0</td>\n",
       "    </tr>\n",
       "    <tr>\n",
       "      <th>calls_count</th>\n",
       "      <td>3174.0</td>\n",
       "      <td>63.833333</td>\n",
       "      <td>32.678036</td>\n",
       "      <td>1.0</td>\n",
       "      <td>41.0</td>\n",
       "      <td>63.0</td>\n",
       "      <td>83.00</td>\n",
       "      <td>244.0</td>\n",
       "    </tr>\n",
       "    <tr>\n",
       "      <th>duration_calls_sum</th>\n",
       "      <td>3174.0</td>\n",
       "      <td>456.931632</td>\n",
       "      <td>238.031270</td>\n",
       "      <td>0.0</td>\n",
       "      <td>290.0</td>\n",
       "      <td>447.0</td>\n",
       "      <td>592.00</td>\n",
       "      <td>1673.0</td>\n",
       "    </tr>\n",
       "    <tr>\n",
       "      <th>count_mb</th>\n",
       "      <td>3203.0</td>\n",
       "      <td>46.642523</td>\n",
       "      <td>18.696094</td>\n",
       "      <td>1.0</td>\n",
       "      <td>35.0</td>\n",
       "      <td>48.0</td>\n",
       "      <td>59.00</td>\n",
       "      <td>118.0</td>\n",
       "    </tr>\n",
       "    <tr>\n",
       "      <th>mb_used_round_sum</th>\n",
       "      <td>3203.0</td>\n",
       "      <td>17286.749610</td>\n",
       "      <td>7523.580332</td>\n",
       "      <td>0.0</td>\n",
       "      <td>12543.0</td>\n",
       "      <td>16985.0</td>\n",
       "      <td>21455.50</td>\n",
       "      <td>49789.0</td>\n",
       "    </tr>\n",
       "    <tr>\n",
       "      <th>messages_count</th>\n",
       "      <td>2717.0</td>\n",
       "      <td>45.283769</td>\n",
       "      <td>35.051363</td>\n",
       "      <td>1.0</td>\n",
       "      <td>19.0</td>\n",
       "      <td>38.0</td>\n",
       "      <td>63.00</td>\n",
       "      <td>224.0</td>\n",
       "    </tr>\n",
       "    <tr>\n",
       "      <th>age</th>\n",
       "      <td>3214.0</td>\n",
       "      <td>46.641568</td>\n",
       "      <td>16.586109</td>\n",
       "      <td>18.0</td>\n",
       "      <td>32.0</td>\n",
       "      <td>46.0</td>\n",
       "      <td>62.00</td>\n",
       "      <td>75.0</td>\n",
       "    </tr>\n",
       "    <tr>\n",
       "      <th>messages_included</th>\n",
       "      <td>3214.0</td>\n",
       "      <td>341.148102</td>\n",
       "      <td>438.044726</td>\n",
       "      <td>50.0</td>\n",
       "      <td>50.0</td>\n",
       "      <td>50.0</td>\n",
       "      <td>1000.00</td>\n",
       "      <td>1000.0</td>\n",
       "    </tr>\n",
       "    <tr>\n",
       "      <th>mb_per_month_included</th>\n",
       "      <td>3214.0</td>\n",
       "      <td>20067.405103</td>\n",
       "      <td>7082.491569</td>\n",
       "      <td>15360.0</td>\n",
       "      <td>15360.0</td>\n",
       "      <td>15360.0</td>\n",
       "      <td>30720.00</td>\n",
       "      <td>30720.0</td>\n",
       "    </tr>\n",
       "    <tr>\n",
       "      <th>minutes_included</th>\n",
       "      <td>3214.0</td>\n",
       "      <td>1266.179216</td>\n",
       "      <td>1152.749279</td>\n",
       "      <td>500.0</td>\n",
       "      <td>500.0</td>\n",
       "      <td>500.0</td>\n",
       "      <td>3000.00</td>\n",
       "      <td>3000.0</td>\n",
       "    </tr>\n",
       "    <tr>\n",
       "      <th>rub_monthly_fee</th>\n",
       "      <td>3214.0</td>\n",
       "      <td>979.060361</td>\n",
       "      <td>645.539596</td>\n",
       "      <td>550.0</td>\n",
       "      <td>550.0</td>\n",
       "      <td>550.0</td>\n",
       "      <td>1950.00</td>\n",
       "      <td>1950.0</td>\n",
       "    </tr>\n",
       "    <tr>\n",
       "      <th>rub_per_gb</th>\n",
       "      <td>3214.0</td>\n",
       "      <td>184.676416</td>\n",
       "      <td>23.054986</td>\n",
       "      <td>150.0</td>\n",
       "      <td>150.0</td>\n",
       "      <td>200.0</td>\n",
       "      <td>200.00</td>\n",
       "      <td>200.0</td>\n",
       "    </tr>\n",
       "    <tr>\n",
       "      <th>rub_per_message</th>\n",
       "      <td>3214.0</td>\n",
       "      <td>2.387057</td>\n",
       "      <td>0.922199</td>\n",
       "      <td>1.0</td>\n",
       "      <td>1.0</td>\n",
       "      <td>3.0</td>\n",
       "      <td>3.00</td>\n",
       "      <td>3.0</td>\n",
       "    </tr>\n",
       "    <tr>\n",
       "      <th>rub_per_minute</th>\n",
       "      <td>3214.0</td>\n",
       "      <td>2.387057</td>\n",
       "      <td>0.922199</td>\n",
       "      <td>1.0</td>\n",
       "      <td>1.0</td>\n",
       "      <td>3.0</td>\n",
       "      <td>3.00</td>\n",
       "      <td>3.0</td>\n",
       "    </tr>\n",
       "  </tbody>\n",
       "</table>\n",
       "</div>"
      ],
      "text/plain": [
       "                        count          mean          std      min      25%  \\\n",
       "user_id                3214.0   1251.590230   144.659172   1000.0   1125.0   \n",
       "month                  3214.0      8.317362     2.905413      1.0      6.0   \n",
       "calls_count            3174.0     63.833333    32.678036      1.0     41.0   \n",
       "duration_calls_sum     3174.0    456.931632   238.031270      0.0    290.0   \n",
       "count_mb               3203.0     46.642523    18.696094      1.0     35.0   \n",
       "mb_used_round_sum      3203.0  17286.749610  7523.580332      0.0  12543.0   \n",
       "messages_count         2717.0     45.283769    35.051363      1.0     19.0   \n",
       "age                    3214.0     46.641568    16.586109     18.0     32.0   \n",
       "messages_included      3214.0    341.148102   438.044726     50.0     50.0   \n",
       "mb_per_month_included  3214.0  20067.405103  7082.491569  15360.0  15360.0   \n",
       "minutes_included       3214.0   1266.179216  1152.749279    500.0    500.0   \n",
       "rub_monthly_fee        3214.0    979.060361   645.539596    550.0    550.0   \n",
       "rub_per_gb             3214.0    184.676416    23.054986    150.0    150.0   \n",
       "rub_per_message        3214.0      2.387057     0.922199      1.0      1.0   \n",
       "rub_per_minute         3214.0      2.387057     0.922199      1.0      1.0   \n",
       "\n",
       "                           50%       75%      max  \n",
       "user_id                 1253.0   1378.75   1499.0  \n",
       "month                      9.0     11.00     12.0  \n",
       "calls_count               63.0     83.00    244.0  \n",
       "duration_calls_sum       447.0    592.00   1673.0  \n",
       "count_mb                  48.0     59.00    118.0  \n",
       "mb_used_round_sum      16985.0  21455.50  49789.0  \n",
       "messages_count            38.0     63.00    224.0  \n",
       "age                       46.0     62.00     75.0  \n",
       "messages_included         50.0   1000.00   1000.0  \n",
       "mb_per_month_included  15360.0  30720.00  30720.0  \n",
       "minutes_included         500.0   3000.00   3000.0  \n",
       "rub_monthly_fee          550.0   1950.00   1950.0  \n",
       "rub_per_gb               200.0    200.00    200.0  \n",
       "rub_per_message            3.0      3.00      3.0  \n",
       "rub_per_minute             3.0      3.00      3.0  "
      ]
     },
     "execution_count": 51,
     "metadata": {},
     "output_type": "execute_result"
    }
   ],
   "source": [
    "df.describe().T"
   ]
  },
  {
   "cell_type": "markdown",
   "metadata": {},
   "source": [
    "Переведем значения типа object в категориальный тип."
   ]
  },
  {
   "cell_type": "code",
   "execution_count": 52,
   "metadata": {},
   "outputs": [],
   "source": [
    "#Создание категориального листа для перевода столбцов из типа данных object в тип данных category для оптимизации работы кода\n",
    "cat_list = ['city', 'first_name', 'last_name', 'reg_date', 'tariff']"
   ]
  },
  {
   "cell_type": "code",
   "execution_count": 53,
   "metadata": {},
   "outputs": [],
   "source": [
    "df[cat_list] = df[cat_list].astype('category') #Перевод столбцов из типа данных object в  тип category"
   ]
  },
  {
   "cell_type": "markdown",
   "metadata": {},
   "source": [
    "Заполним нулями пропущенные значения в данных, предполагая, что если после слияния таблиц выяснилось, что данные о написанных сообщениях, исходящих звонках и использованных мегабайтах  отсутствовали, значит абонент предпочитал звонки остальным видам сервиса, и просто не пользовался включенными функциями."
   ]
  },
  {
   "cell_type": "code",
   "execution_count": 54,
   "metadata": {},
   "outputs": [],
   "source": [
    "#Создание листа с наименованием столбцов, в которых необходимо заполнить пустые значения нулями\n",
    "fill_na_list = ['calls_count', 'duration_calls_sum', 'count_mb', 'mb_used_round_sum', 'messages_count']"
   ]
  },
  {
   "cell_type": "code",
   "execution_count": 55,
   "metadata": {},
   "outputs": [],
   "source": [
    "df[fill_na_list] = df[fill_na_list].fillna(0)"
   ]
  },
  {
   "cell_type": "code",
   "execution_count": 56,
   "metadata": {},
   "outputs": [],
   "source": [
    "#Перевод данных в тип int\n",
    "float_list = ['calls_count', 'duration_calls_sum', 'count_mb', 'mb_used_round_sum', 'messages_count']\n",
    "df[float_list] = df[float_list].astype('int')"
   ]
  },
  {
   "cell_type": "code",
   "execution_count": 57,
   "metadata": {},
   "outputs": [
    {
     "name": "stdout",
     "output_type": "stream",
     "text": [
      "<class 'pandas.core.frame.DataFrame'>\n",
      "Int64Index: 3214 entries, 0 to 3213\n",
      "Data columns (total 21 columns):\n",
      " #   Column                 Non-Null Count  Dtype   \n",
      "---  ------                 --------------  -----   \n",
      " 0   user_id                3214 non-null   int64   \n",
      " 1   month                  3214 non-null   int64   \n",
      " 2   calls_count            3214 non-null   int32   \n",
      " 3   duration_calls_sum     3214 non-null   int32   \n",
      " 4   count_mb               3214 non-null   int32   \n",
      " 5   mb_used_round_sum      3214 non-null   int32   \n",
      " 6   messages_count         3214 non-null   int32   \n",
      " 7   age                    3214 non-null   int8    \n",
      " 8   churn_date             187 non-null    object  \n",
      " 9   city                   3214 non-null   category\n",
      " 10  first_name             3214 non-null   category\n",
      " 11  last_name              3214 non-null   category\n",
      " 12  reg_date               3214 non-null   category\n",
      " 13  tariff                 3214 non-null   category\n",
      " 14  messages_included      3214 non-null   int64   \n",
      " 15  mb_per_month_included  3214 non-null   int64   \n",
      " 16  minutes_included       3214 non-null   int64   \n",
      " 17  rub_monthly_fee        3214 non-null   int64   \n",
      " 18  rub_per_gb             3214 non-null   int64   \n",
      " 19  rub_per_message        3214 non-null   int64   \n",
      " 20  rub_per_minute         3214 non-null   int64   \n",
      "dtypes: category(5), int32(5), int64(9), int8(1), object(1)\n",
      "memory usage: 582.0 KB\n"
     ]
    }
   ],
   "source": [
    "#Cколько таблица использует memory usage после обработки\n",
    "df.info(memory_usage='deep')"
   ]
  },
  {
   "cell_type": "markdown",
   "metadata": {},
   "source": [
    "Напишем функцию, которая будет подсчитывать помесячную выручку с каждого пользователя при превышении, включенных в тарифный план минут, смс и количества Гб."
   ]
  },
  {
   "cell_type": "code",
   "execution_count": 58,
   "metadata": {},
   "outputs": [],
   "source": [
    "#Функция, для подсчета использованных сверх лимита смс, минут и Гб в денежном эквиваленте\n",
    "def income(row):\n",
    "    minutes = (row['duration_calls_sum'] - row['minutes_included']) * row['rub_per_minute']\n",
    "    sms = (row['messages_count'] - row['messages_included']) * row['rub_per_message']\n",
    "    gb = np.ceil(((row['mb_used_round_sum'] - row['mb_per_month_included']) / 1024))* row['rub_per_gb']\n",
    "    \n",
    "    over_limit = 0\n",
    "    for i in [minutes, sms, gb]:\n",
    "        if i>0:\n",
    "            over_limit += i\n",
    "    return over_limit"
   ]
  },
  {
   "cell_type": "code",
   "execution_count": 59,
   "metadata": {},
   "outputs": [],
   "source": [
    "df['over_limit'] = df.apply(income, axis=1)"
   ]
  },
  {
   "cell_type": "code",
   "execution_count": 60,
   "metadata": {
    "scrolled": true
   },
   "outputs": [
    {
     "data": {
      "text/html": [
       "<div>\n",
       "<style scoped>\n",
       "    .dataframe tbody tr th:only-of-type {\n",
       "        vertical-align: middle;\n",
       "    }\n",
       "\n",
       "    .dataframe tbody tr th {\n",
       "        vertical-align: top;\n",
       "    }\n",
       "\n",
       "    .dataframe thead th {\n",
       "        text-align: right;\n",
       "    }\n",
       "</style>\n",
       "<table border=\"1\" class=\"dataframe\">\n",
       "  <thead>\n",
       "    <tr style=\"text-align: right;\">\n",
       "      <th></th>\n",
       "      <th>user_id</th>\n",
       "      <th>month</th>\n",
       "      <th>calls_count</th>\n",
       "      <th>duration_calls_sum</th>\n",
       "      <th>count_mb</th>\n",
       "      <th>mb_used_round_sum</th>\n",
       "      <th>messages_count</th>\n",
       "      <th>age</th>\n",
       "      <th>churn_date</th>\n",
       "      <th>city</th>\n",
       "      <th>first_name</th>\n",
       "      <th>last_name</th>\n",
       "      <th>reg_date</th>\n",
       "      <th>tariff</th>\n",
       "      <th>messages_included</th>\n",
       "      <th>mb_per_month_included</th>\n",
       "      <th>minutes_included</th>\n",
       "      <th>rub_monthly_fee</th>\n",
       "      <th>rub_per_gb</th>\n",
       "      <th>rub_per_message</th>\n",
       "      <th>rub_per_minute</th>\n",
       "      <th>over_limit</th>\n",
       "    </tr>\n",
       "  </thead>\n",
       "  <tbody>\n",
       "    <tr>\n",
       "      <th>1515</th>\n",
       "      <td>1243</td>\n",
       "      <td>7</td>\n",
       "      <td>49</td>\n",
       "      <td>365</td>\n",
       "      <td>62</td>\n",
       "      <td>26404</td>\n",
       "      <td>60</td>\n",
       "      <td>74</td>\n",
       "      <td>NaN</td>\n",
       "      <td>Пермь</td>\n",
       "      <td>Артём</td>\n",
       "      <td>Леонтьев</td>\n",
       "      <td>2018-06-01</td>\n",
       "      <td>ultra</td>\n",
       "      <td>1000</td>\n",
       "      <td>30720</td>\n",
       "      <td>3000</td>\n",
       "      <td>1950</td>\n",
       "      <td>150</td>\n",
       "      <td>1</td>\n",
       "      <td>1</td>\n",
       "      <td>0.0</td>\n",
       "    </tr>\n",
       "    <tr>\n",
       "      <th>2438</th>\n",
       "      <td>1385</td>\n",
       "      <td>11</td>\n",
       "      <td>38</td>\n",
       "      <td>273</td>\n",
       "      <td>71</td>\n",
       "      <td>34360</td>\n",
       "      <td>126</td>\n",
       "      <td>26</td>\n",
       "      <td>NaN</td>\n",
       "      <td>Москва</td>\n",
       "      <td>Алиса</td>\n",
       "      <td>Дубинина</td>\n",
       "      <td>2018-01-13</td>\n",
       "      <td>ultra</td>\n",
       "      <td>1000</td>\n",
       "      <td>30720</td>\n",
       "      <td>3000</td>\n",
       "      <td>1950</td>\n",
       "      <td>150</td>\n",
       "      <td>1</td>\n",
       "      <td>1</td>\n",
       "      <td>600.0</td>\n",
       "    </tr>\n",
       "    <tr>\n",
       "      <th>2239</th>\n",
       "      <td>1359</td>\n",
       "      <td>8</td>\n",
       "      <td>95</td>\n",
       "      <td>681</td>\n",
       "      <td>40</td>\n",
       "      <td>11453</td>\n",
       "      <td>18</td>\n",
       "      <td>52</td>\n",
       "      <td>NaN</td>\n",
       "      <td>Москва</td>\n",
       "      <td>Константин</td>\n",
       "      <td>Абашкин</td>\n",
       "      <td>2018-07-27</td>\n",
       "      <td>smart</td>\n",
       "      <td>50</td>\n",
       "      <td>15360</td>\n",
       "      <td>500</td>\n",
       "      <td>550</td>\n",
       "      <td>200</td>\n",
       "      <td>3</td>\n",
       "      <td>3</td>\n",
       "      <td>543.0</td>\n",
       "    </tr>\n",
       "    <tr>\n",
       "      <th>870</th>\n",
       "      <td>1142</td>\n",
       "      <td>8</td>\n",
       "      <td>59</td>\n",
       "      <td>354</td>\n",
       "      <td>62</td>\n",
       "      <td>19883</td>\n",
       "      <td>43</td>\n",
       "      <td>51</td>\n",
       "      <td>NaN</td>\n",
       "      <td>Новосибирск</td>\n",
       "      <td>Симона</td>\n",
       "      <td>Алешкова</td>\n",
       "      <td>2018-03-24</td>\n",
       "      <td>smart</td>\n",
       "      <td>50</td>\n",
       "      <td>15360</td>\n",
       "      <td>500</td>\n",
       "      <td>550</td>\n",
       "      <td>200</td>\n",
       "      <td>3</td>\n",
       "      <td>3</td>\n",
       "      <td>1000.0</td>\n",
       "    </tr>\n",
       "    <tr>\n",
       "      <th>2086</th>\n",
       "      <td>1332</td>\n",
       "      <td>11</td>\n",
       "      <td>69</td>\n",
       "      <td>541</td>\n",
       "      <td>73</td>\n",
       "      <td>22353</td>\n",
       "      <td>47</td>\n",
       "      <td>23</td>\n",
       "      <td>NaN</td>\n",
       "      <td>Москва</td>\n",
       "      <td>Джозефина</td>\n",
       "      <td>Тетерина</td>\n",
       "      <td>2018-05-28</td>\n",
       "      <td>smart</td>\n",
       "      <td>50</td>\n",
       "      <td>15360</td>\n",
       "      <td>500</td>\n",
       "      <td>550</td>\n",
       "      <td>200</td>\n",
       "      <td>3</td>\n",
       "      <td>3</td>\n",
       "      <td>1523.0</td>\n",
       "    </tr>\n",
       "  </tbody>\n",
       "</table>\n",
       "</div>"
      ],
      "text/plain": [
       "      user_id  month  calls_count  duration_calls_sum  count_mb  \\\n",
       "1515     1243      7           49                 365        62   \n",
       "2438     1385     11           38                 273        71   \n",
       "2239     1359      8           95                 681        40   \n",
       "870      1142      8           59                 354        62   \n",
       "2086     1332     11           69                 541        73   \n",
       "\n",
       "      mb_used_round_sum  messages_count  age churn_date         city  \\\n",
       "1515              26404              60   74        NaN        Пермь   \n",
       "2438              34360             126   26        NaN       Москва   \n",
       "2239              11453              18   52        NaN       Москва   \n",
       "870               19883              43   51        NaN  Новосибирск   \n",
       "2086              22353              47   23        NaN       Москва   \n",
       "\n",
       "      first_name last_name    reg_date tariff  messages_included  \\\n",
       "1515       Артём  Леонтьев  2018-06-01  ultra               1000   \n",
       "2438       Алиса  Дубинина  2018-01-13  ultra               1000   \n",
       "2239  Константин   Абашкин  2018-07-27  smart                 50   \n",
       "870       Симона  Алешкова  2018-03-24  smart                 50   \n",
       "2086   Джозефина  Тетерина  2018-05-28  smart                 50   \n",
       "\n",
       "      mb_per_month_included  minutes_included  rub_monthly_fee  rub_per_gb  \\\n",
       "1515                  30720              3000             1950         150   \n",
       "2438                  30720              3000             1950         150   \n",
       "2239                  15360               500              550         200   \n",
       "870                   15360               500              550         200   \n",
       "2086                  15360               500              550         200   \n",
       "\n",
       "      rub_per_message  rub_per_minute  over_limit  \n",
       "1515                1               1         0.0  \n",
       "2438                1               1       600.0  \n",
       "2239                3               3       543.0  \n",
       "870                 3               3      1000.0  \n",
       "2086                3               3      1523.0  "
      ]
     },
     "execution_count": 60,
     "metadata": {},
     "output_type": "execute_result"
    }
   ],
   "source": [
    "df.sample(5)"
   ]
  },
  {
   "cell_type": "markdown",
   "metadata": {},
   "source": [
    "Добавим в таблицу столбец с помесячной выручкой от каждого абонента с включением абонентской платы."
   ]
  },
  {
   "cell_type": "code",
   "execution_count": 61,
   "metadata": {},
   "outputs": [],
   "source": [
    "df['income_sum'] = df['over_limit'] + df['rub_monthly_fee']"
   ]
  },
  {
   "cell_type": "code",
   "execution_count": 62,
   "metadata": {},
   "outputs": [
    {
     "data": {
      "text/html": [
       "<div>\n",
       "<style scoped>\n",
       "    .dataframe tbody tr th:only-of-type {\n",
       "        vertical-align: middle;\n",
       "    }\n",
       "\n",
       "    .dataframe tbody tr th {\n",
       "        vertical-align: top;\n",
       "    }\n",
       "\n",
       "    .dataframe thead th {\n",
       "        text-align: right;\n",
       "    }\n",
       "</style>\n",
       "<table border=\"1\" class=\"dataframe\">\n",
       "  <thead>\n",
       "    <tr style=\"text-align: right;\">\n",
       "      <th></th>\n",
       "      <th>user_id</th>\n",
       "      <th>month</th>\n",
       "      <th>calls_count</th>\n",
       "      <th>duration_calls_sum</th>\n",
       "      <th>count_mb</th>\n",
       "      <th>mb_used_round_sum</th>\n",
       "      <th>messages_count</th>\n",
       "      <th>age</th>\n",
       "      <th>churn_date</th>\n",
       "      <th>city</th>\n",
       "      <th>first_name</th>\n",
       "      <th>last_name</th>\n",
       "      <th>reg_date</th>\n",
       "      <th>tariff</th>\n",
       "      <th>messages_included</th>\n",
       "      <th>mb_per_month_included</th>\n",
       "      <th>minutes_included</th>\n",
       "      <th>rub_monthly_fee</th>\n",
       "      <th>rub_per_gb</th>\n",
       "      <th>rub_per_message</th>\n",
       "      <th>rub_per_minute</th>\n",
       "      <th>over_limit</th>\n",
       "      <th>income_sum</th>\n",
       "    </tr>\n",
       "  </thead>\n",
       "  <tbody>\n",
       "    <tr>\n",
       "      <th>0</th>\n",
       "      <td>1000</td>\n",
       "      <td>5</td>\n",
       "      <td>22</td>\n",
       "      <td>159</td>\n",
       "      <td>5</td>\n",
       "      <td>2256</td>\n",
       "      <td>22</td>\n",
       "      <td>52</td>\n",
       "      <td>NaN</td>\n",
       "      <td>Краснодар</td>\n",
       "      <td>Рафаил</td>\n",
       "      <td>Верещагин</td>\n",
       "      <td>2018-05-25</td>\n",
       "      <td>ultra</td>\n",
       "      <td>1000</td>\n",
       "      <td>30720</td>\n",
       "      <td>3000</td>\n",
       "      <td>1950</td>\n",
       "      <td>150</td>\n",
       "      <td>1</td>\n",
       "      <td>1</td>\n",
       "      <td>0.0</td>\n",
       "      <td>1950.0</td>\n",
       "    </tr>\n",
       "    <tr>\n",
       "      <th>1</th>\n",
       "      <td>1000</td>\n",
       "      <td>6</td>\n",
       "      <td>43</td>\n",
       "      <td>172</td>\n",
       "      <td>49</td>\n",
       "      <td>23257</td>\n",
       "      <td>60</td>\n",
       "      <td>52</td>\n",
       "      <td>NaN</td>\n",
       "      <td>Краснодар</td>\n",
       "      <td>Рафаил</td>\n",
       "      <td>Верещагин</td>\n",
       "      <td>2018-05-25</td>\n",
       "      <td>ultra</td>\n",
       "      <td>1000</td>\n",
       "      <td>30720</td>\n",
       "      <td>3000</td>\n",
       "      <td>1950</td>\n",
       "      <td>150</td>\n",
       "      <td>1</td>\n",
       "      <td>1</td>\n",
       "      <td>0.0</td>\n",
       "      <td>1950.0</td>\n",
       "    </tr>\n",
       "    <tr>\n",
       "      <th>2</th>\n",
       "      <td>1000</td>\n",
       "      <td>7</td>\n",
       "      <td>47</td>\n",
       "      <td>340</td>\n",
       "      <td>29</td>\n",
       "      <td>14016</td>\n",
       "      <td>75</td>\n",
       "      <td>52</td>\n",
       "      <td>NaN</td>\n",
       "      <td>Краснодар</td>\n",
       "      <td>Рафаил</td>\n",
       "      <td>Верещагин</td>\n",
       "      <td>2018-05-25</td>\n",
       "      <td>ultra</td>\n",
       "      <td>1000</td>\n",
       "      <td>30720</td>\n",
       "      <td>3000</td>\n",
       "      <td>1950</td>\n",
       "      <td>150</td>\n",
       "      <td>1</td>\n",
       "      <td>1</td>\n",
       "      <td>0.0</td>\n",
       "      <td>1950.0</td>\n",
       "    </tr>\n",
       "    <tr>\n",
       "      <th>3</th>\n",
       "      <td>1000</td>\n",
       "      <td>8</td>\n",
       "      <td>52</td>\n",
       "      <td>408</td>\n",
       "      <td>29</td>\n",
       "      <td>14070</td>\n",
       "      <td>81</td>\n",
       "      <td>52</td>\n",
       "      <td>NaN</td>\n",
       "      <td>Краснодар</td>\n",
       "      <td>Рафаил</td>\n",
       "      <td>Верещагин</td>\n",
       "      <td>2018-05-25</td>\n",
       "      <td>ultra</td>\n",
       "      <td>1000</td>\n",
       "      <td>30720</td>\n",
       "      <td>3000</td>\n",
       "      <td>1950</td>\n",
       "      <td>150</td>\n",
       "      <td>1</td>\n",
       "      <td>1</td>\n",
       "      <td>0.0</td>\n",
       "      <td>1950.0</td>\n",
       "    </tr>\n",
       "    <tr>\n",
       "      <th>4</th>\n",
       "      <td>1000</td>\n",
       "      <td>9</td>\n",
       "      <td>58</td>\n",
       "      <td>466</td>\n",
       "      <td>27</td>\n",
       "      <td>14581</td>\n",
       "      <td>57</td>\n",
       "      <td>52</td>\n",
       "      <td>NaN</td>\n",
       "      <td>Краснодар</td>\n",
       "      <td>Рафаил</td>\n",
       "      <td>Верещагин</td>\n",
       "      <td>2018-05-25</td>\n",
       "      <td>ultra</td>\n",
       "      <td>1000</td>\n",
       "      <td>30720</td>\n",
       "      <td>3000</td>\n",
       "      <td>1950</td>\n",
       "      <td>150</td>\n",
       "      <td>1</td>\n",
       "      <td>1</td>\n",
       "      <td>0.0</td>\n",
       "      <td>1950.0</td>\n",
       "    </tr>\n",
       "  </tbody>\n",
       "</table>\n",
       "</div>"
      ],
      "text/plain": [
       "   user_id  month  calls_count  duration_calls_sum  count_mb  \\\n",
       "0     1000      5           22                 159         5   \n",
       "1     1000      6           43                 172        49   \n",
       "2     1000      7           47                 340        29   \n",
       "3     1000      8           52                 408        29   \n",
       "4     1000      9           58                 466        27   \n",
       "\n",
       "   mb_used_round_sum  messages_count  age churn_date       city first_name  \\\n",
       "0               2256              22   52        NaN  Краснодар     Рафаил   \n",
       "1              23257              60   52        NaN  Краснодар     Рафаил   \n",
       "2              14016              75   52        NaN  Краснодар     Рафаил   \n",
       "3              14070              81   52        NaN  Краснодар     Рафаил   \n",
       "4              14581              57   52        NaN  Краснодар     Рафаил   \n",
       "\n",
       "   last_name    reg_date tariff  messages_included  mb_per_month_included  \\\n",
       "0  Верещагин  2018-05-25  ultra               1000                  30720   \n",
       "1  Верещагин  2018-05-25  ultra               1000                  30720   \n",
       "2  Верещагин  2018-05-25  ultra               1000                  30720   \n",
       "3  Верещагин  2018-05-25  ultra               1000                  30720   \n",
       "4  Верещагин  2018-05-25  ultra               1000                  30720   \n",
       "\n",
       "   minutes_included  rub_monthly_fee  rub_per_gb  rub_per_message  \\\n",
       "0              3000             1950         150                1   \n",
       "1              3000             1950         150                1   \n",
       "2              3000             1950         150                1   \n",
       "3              3000             1950         150                1   \n",
       "4              3000             1950         150                1   \n",
       "\n",
       "   rub_per_minute  over_limit  income_sum  \n",
       "0               1         0.0      1950.0  \n",
       "1               1         0.0      1950.0  \n",
       "2               1         0.0      1950.0  \n",
       "3               1         0.0      1950.0  \n",
       "4               1         0.0      1950.0  "
      ]
     },
     "execution_count": 62,
     "metadata": {},
     "output_type": "execute_result"
    }
   ],
   "source": [
    "df.head()"
   ]
  },
  {
   "cell_type": "markdown",
   "metadata": {},
   "source": [
    "Построим график линейной зависимости помесячной выручки в зависимости от тарифа."
   ]
  },
  {
   "cell_type": "code",
   "execution_count": 63,
   "metadata": {
    "scrolled": false
   },
   "outputs": [
    {
     "data": {
      "image/png": "[encoded data removed]",
      "text/plain": [
       "<Figure size 720x360 with 1 Axes>"
      ]
     },
     "metadata": {},
     "output_type": "display_data"
    }
   ],
   "source": [
    "plot_data = df.groupby(['tariff', 'month'])['income_sum'].sum().reset_index()\n",
    "plt.figure(figsize=(10, 5))\n",
    "plt.suptitle('Грифик линейной зависимости помесячной выручки в зависимости от тарифа', size=18)\n",
    "sns.lineplot(data = plot_data, x='month', y='income_sum', hue='tariff', palette='deep', legend='brief')\n",
    "plt.xlabel('Номер месяца', size=12)\n",
    "plt.ylabel('Суммарная выручка по тарифу', size=12)\n",
    "\n",
    "plt.show()"
   ]
  },
  {
   "cell_type": "markdown",
   "metadata": {},
   "source": [
    "По графику видим, что суммарная выручка по каждому тарифу линейно растет. По тарифу \"Смарт\" она возрастает более резко, а значит для бизнеса в 2018 году тариф был более выгоден главным образом за счет использования Гб и минут сверх лимита."
   ]
  },
  {
   "cell_type": "markdown",
   "metadata": {},
   "source": [
    "### Шаг 3. Проанализируйте данные <a class=\"anchor\" id=\"step3\"></a>"
   ]
  },
  {
   "cell_type": "markdown",
   "metadata": {},
   "source": [
    "**Сколько минут разговора, сколько сообщений и какой объём интернет-трафика требуется пользователям каждого тарифа в месяц**"
   ]
  },
  {
   "cell_type": "markdown",
   "metadata": {},
   "source": [
    "Для начала построим сводную таблицу со средними и медианными значениями всех показателей, а именно: сумма продолжительности звонков, количество сообщений и количество мегабайт в месяц. "
   ]
  },
  {
   "cell_type": "code",
   "execution_count": 64,
   "metadata": {},
   "outputs": [
    {
     "data": {
      "text/html": [
       "<div>\n",
       "<style scoped>\n",
       "    .dataframe tbody tr th:only-of-type {\n",
       "        vertical-align: middle;\n",
       "    }\n",
       "\n",
       "    .dataframe tbody tr th {\n",
       "        vertical-align: top;\n",
       "    }\n",
       "\n",
       "    .dataframe thead tr th {\n",
       "        text-align: left;\n",
       "    }\n",
       "\n",
       "    .dataframe thead tr:last-of-type th {\n",
       "        text-align: right;\n",
       "    }\n",
       "</style>\n",
       "<table border=\"1\" class=\"dataframe\">\n",
       "  <thead>\n",
       "    <tr>\n",
       "      <th></th>\n",
       "      <th colspan=\"6\" halign=\"left\">median</th>\n",
       "      <th colspan=\"6\" halign=\"left\">mean</th>\n",
       "    </tr>\n",
       "    <tr>\n",
       "      <th></th>\n",
       "      <th colspan=\"2\" halign=\"left\">duration_calls_sum</th>\n",
       "      <th colspan=\"2\" halign=\"left\">mb_used_round_sum</th>\n",
       "      <th colspan=\"2\" halign=\"left\">messages_count</th>\n",
       "      <th colspan=\"2\" halign=\"left\">duration_calls_sum</th>\n",
       "      <th colspan=\"2\" halign=\"left\">mb_used_round_sum</th>\n",
       "      <th colspan=\"2\" halign=\"left\">messages_count</th>\n",
       "    </tr>\n",
       "    <tr>\n",
       "      <th>tariff</th>\n",
       "      <th>smart</th>\n",
       "      <th>ultra</th>\n",
       "      <th>smart</th>\n",
       "      <th>ultra</th>\n",
       "      <th>smart</th>\n",
       "      <th>ultra</th>\n",
       "      <th>smart</th>\n",
       "      <th>ultra</th>\n",
       "      <th>smart</th>\n",
       "      <th>ultra</th>\n",
       "      <th>smart</th>\n",
       "      <th>ultra</th>\n",
       "    </tr>\n",
       "    <tr>\n",
       "      <th>month</th>\n",
       "      <th></th>\n",
       "      <th></th>\n",
       "      <th></th>\n",
       "      <th></th>\n",
       "      <th></th>\n",
       "      <th></th>\n",
       "      <th></th>\n",
       "      <th></th>\n",
       "      <th></th>\n",
       "      <th></th>\n",
       "      <th></th>\n",
       "      <th></th>\n",
       "    </tr>\n",
       "  </thead>\n",
       "  <tbody>\n",
       "    <tr>\n",
       "      <th>1</th>\n",
       "      <td>162.5</td>\n",
       "      <td>382.0</td>\n",
       "      <td>7107.0</td>\n",
       "      <td>14808.0</td>\n",
       "      <td>15.0</td>\n",
       "      <td>32.0</td>\n",
       "      <td>203.852941</td>\n",
       "      <td>428.111111</td>\n",
       "      <td>8524.441176</td>\n",
       "      <td>13153.555556</td>\n",
       "      <td>18.235294</td>\n",
       "      <td>33.777778</td>\n",
       "    </tr>\n",
       "    <tr>\n",
       "      <th>2</th>\n",
       "      <td>258.0</td>\n",
       "      <td>168.0</td>\n",
       "      <td>12572.5</td>\n",
       "      <td>7335.5</td>\n",
       "      <td>20.0</td>\n",
       "      <td>5.5</td>\n",
       "      <td>298.689655</td>\n",
       "      <td>297.125000</td>\n",
       "      <td>11611.396552</td>\n",
       "      <td>11786.958333</td>\n",
       "      <td>24.086207</td>\n",
       "      <td>21.958333</td>\n",
       "    </tr>\n",
       "    <tr>\n",
       "      <th>3</th>\n",
       "      <td>409.0</td>\n",
       "      <td>403.0</td>\n",
       "      <td>15690.0</td>\n",
       "      <td>17513.0</td>\n",
       "      <td>23.0</td>\n",
       "      <td>20.0</td>\n",
       "      <td>390.051948</td>\n",
       "      <td>489.648649</td>\n",
       "      <td>15123.857143</td>\n",
       "      <td>17551.972973</td>\n",
       "      <td>31.857143</td>\n",
       "      <td>32.297297</td>\n",
       "    </tr>\n",
       "    <tr>\n",
       "      <th>4</th>\n",
       "      <td>368.5</td>\n",
       "      <td>453.0</td>\n",
       "      <td>14104.5</td>\n",
       "      <td>16662.0</td>\n",
       "      <td>28.0</td>\n",
       "      <td>17.0</td>\n",
       "      <td>367.133929</td>\n",
       "      <td>458.018182</td>\n",
       "      <td>13479.482143</td>\n",
       "      <td>16843.800000</td>\n",
       "      <td>30.741071</td>\n",
       "      <td>31.563636</td>\n",
       "    </tr>\n",
       "    <tr>\n",
       "      <th>5</th>\n",
       "      <td>433.0</td>\n",
       "      <td>519.0</td>\n",
       "      <td>16343.0</td>\n",
       "      <td>18717.0</td>\n",
       "      <td>30.0</td>\n",
       "      <td>25.0</td>\n",
       "      <td>387.361702</td>\n",
       "      <td>510.328358</td>\n",
       "      <td>15825.198582</td>\n",
       "      <td>19381.194030</td>\n",
       "      <td>33.773050</td>\n",
       "      <td>37.850746</td>\n",
       "    </tr>\n",
       "    <tr>\n",
       "      <th>6</th>\n",
       "      <td>400.0</td>\n",
       "      <td>479.0</td>\n",
       "      <td>16095.5</td>\n",
       "      <td>19495.5</td>\n",
       "      <td>28.0</td>\n",
       "      <td>27.5</td>\n",
       "      <td>395.640244</td>\n",
       "      <td>479.702381</td>\n",
       "      <td>15814.768293</td>\n",
       "      <td>18942.238095</td>\n",
       "      <td>33.402439</td>\n",
       "      <td>41.726190</td>\n",
       "    </tr>\n",
       "    <tr>\n",
       "      <th>7</th>\n",
       "      <td>414.0</td>\n",
       "      <td>542.0</td>\n",
       "      <td>15948.0</td>\n",
       "      <td>20034.0</td>\n",
       "      <td>29.0</td>\n",
       "      <td>38.0</td>\n",
       "      <td>408.353234</td>\n",
       "      <td>545.791209</td>\n",
       "      <td>15763.512438</td>\n",
       "      <td>20514.648352</td>\n",
       "      <td>33.751244</td>\n",
       "      <td>49.846154</td>\n",
       "    </tr>\n",
       "    <tr>\n",
       "      <th>8</th>\n",
       "      <td>432.0</td>\n",
       "      <td>500.0</td>\n",
       "      <td>16855.0</td>\n",
       "      <td>18945.0</td>\n",
       "      <td>27.0</td>\n",
       "      <td>40.0</td>\n",
       "      <td>421.468085</td>\n",
       "      <td>510.775701</td>\n",
       "      <td>16632.174468</td>\n",
       "      <td>19594.065421</td>\n",
       "      <td>33.638298</td>\n",
       "      <td>48.439252</td>\n",
       "    </tr>\n",
       "    <tr>\n",
       "      <th>9</th>\n",
       "      <td>435.0</td>\n",
       "      <td>520.0</td>\n",
       "      <td>16050.0</td>\n",
       "      <td>19675.0</td>\n",
       "      <td>30.0</td>\n",
       "      <td>43.0</td>\n",
       "      <td>428.611538</td>\n",
       "      <td>539.443478</td>\n",
       "      <td>16324.526923</td>\n",
       "      <td>19222.208696</td>\n",
       "      <td>33.638462</td>\n",
       "      <td>52.286957</td>\n",
       "    </tr>\n",
       "    <tr>\n",
       "      <th>10</th>\n",
       "      <td>427.5</td>\n",
       "      <td>533.0</td>\n",
       "      <td>17248.5</td>\n",
       "      <td>20359.0</td>\n",
       "      <td>30.0</td>\n",
       "      <td>49.0</td>\n",
       "      <td>426.136054</td>\n",
       "      <td>558.081301</td>\n",
       "      <td>16778.564626</td>\n",
       "      <td>20063.869919</td>\n",
       "      <td>33.765306</td>\n",
       "      <td>58.430894</td>\n",
       "    </tr>\n",
       "    <tr>\n",
       "      <th>11</th>\n",
       "      <td>428.5</td>\n",
       "      <td>546.0</td>\n",
       "      <td>17036.5</td>\n",
       "      <td>18398.0</td>\n",
       "      <td>28.0</td>\n",
       "      <td>43.0</td>\n",
       "      <td>435.265823</td>\n",
       "      <td>541.380597</td>\n",
       "      <td>16917.531646</td>\n",
       "      <td>19805.313433</td>\n",
       "      <td>34.075949</td>\n",
       "      <td>55.791045</td>\n",
       "    </tr>\n",
       "    <tr>\n",
       "      <th>12</th>\n",
       "      <td>471.0</td>\n",
       "      <td>584.0</td>\n",
       "      <td>17741.0</td>\n",
       "      <td>21994.0</td>\n",
       "      <td>29.0</td>\n",
       "      <td>51.0</td>\n",
       "      <td>478.560831</td>\n",
       "      <td>592.805755</td>\n",
       "      <td>18136.833828</td>\n",
       "      <td>21813.589928</td>\n",
       "      <td>35.994065</td>\n",
       "      <td>60.611511</td>\n",
       "    </tr>\n",
       "  </tbody>\n",
       "</table>\n",
       "</div>"
      ],
      "text/plain": [
       "                   median                                                   \\\n",
       "       duration_calls_sum        mb_used_round_sum          messages_count   \n",
       "tariff              smart  ultra             smart    ultra          smart   \n",
       "month                                                                        \n",
       "1                   162.5  382.0            7107.0  14808.0           15.0   \n",
       "2                   258.0  168.0           12572.5   7335.5           20.0   \n",
       "3                   409.0  403.0           15690.0  17513.0           23.0   \n",
       "4                   368.5  453.0           14104.5  16662.0           28.0   \n",
       "5                   433.0  519.0           16343.0  18717.0           30.0   \n",
       "6                   400.0  479.0           16095.5  19495.5           28.0   \n",
       "7                   414.0  542.0           15948.0  20034.0           29.0   \n",
       "8                   432.0  500.0           16855.0  18945.0           27.0   \n",
       "9                   435.0  520.0           16050.0  19675.0           30.0   \n",
       "10                  427.5  533.0           17248.5  20359.0           30.0   \n",
       "11                  428.5  546.0           17036.5  18398.0           28.0   \n",
       "12                  471.0  584.0           17741.0  21994.0           29.0   \n",
       "\n",
       "                           mean                                              \\\n",
       "             duration_calls_sum             mb_used_round_sum                 \n",
       "tariff ultra              smart       ultra             smart         ultra   \n",
       "month                                                                         \n",
       "1       32.0         203.852941  428.111111       8524.441176  13153.555556   \n",
       "2        5.5         298.689655  297.125000      11611.396552  11786.958333   \n",
       "3       20.0         390.051948  489.648649      15123.857143  17551.972973   \n",
       "4       17.0         367.133929  458.018182      13479.482143  16843.800000   \n",
       "5       25.0         387.361702  510.328358      15825.198582  19381.194030   \n",
       "6       27.5         395.640244  479.702381      15814.768293  18942.238095   \n",
       "7       38.0         408.353234  545.791209      15763.512438  20514.648352   \n",
       "8       40.0         421.468085  510.775701      16632.174468  19594.065421   \n",
       "9       43.0         428.611538  539.443478      16324.526923  19222.208696   \n",
       "10      49.0         426.136054  558.081301      16778.564626  20063.869919   \n",
       "11      43.0         435.265823  541.380597      16917.531646  19805.313433   \n",
       "12      51.0         478.560831  592.805755      18136.833828  21813.589928   \n",
       "\n",
       "                                  \n",
       "       messages_count             \n",
       "tariff          smart      ultra  \n",
       "month                             \n",
       "1           18.235294  33.777778  \n",
       "2           24.086207  21.958333  \n",
       "3           31.857143  32.297297  \n",
       "4           30.741071  31.563636  \n",
       "5           33.773050  37.850746  \n",
       "6           33.402439  41.726190  \n",
       "7           33.751244  49.846154  \n",
       "8           33.638298  48.439252  \n",
       "9           33.638462  52.286957  \n",
       "10          33.765306  58.430894  \n",
       "11          34.075949  55.791045  \n",
       "12          35.994065  60.611511  "
      ]
     },
     "execution_count": 64,
     "metadata": {},
     "output_type": "execute_result"
    }
   ],
   "source": [
    "tariff_pivot = df.pivot_table(index='month', columns='tariff', \n",
    "                              values=['duration_calls_sum', 'messages_count', 'mb_used_round_sum'],\n",
    "                             aggfunc=['median', 'mean'])\n",
    "tariff_pivot"
   ]
  },
  {
   "cell_type": "markdown",
   "metadata": {},
   "source": [
    "Из сводной таблицы видим: \n",
    "- клиенты тарифа \"Смарт\" и \"Ультра\" в среднем не выговаривают все количество минут, которое предоставляет им оператор за месяц. И в принципе средние и медианные значения израсходованных минут не сильно отличаются у двух тарифов. \n",
    "- Почти во все месяцы на тарифе Смарт клиенты выходили за пределы предоставляемого трафика интернета - 15360 МБ в месяц. Для бизнеса это выгодно, компания может получать прибыль с дополнительного предоставления интернета. Но, с другой стороны, в долгосрочной перспективе это может привести к тому, что клиенты начнут переходить на другие операторы связи с более выгодными условиями.\n",
    "- С сообщениями ситуация такая же как и с минутами, на всех тарифах в среднем люди не выходят за пределы предоставляемого лимита."
   ]
  },
  {
   "cell_type": "markdown",
   "metadata": {},
   "source": [
    "Построим 'Гистограммы распределения израсходованного трафика по звонкам и интернету тарифа \"Смарт\"' для того чтобы проверить предположение, что люди предпочитают использовать интернет и таким образом созваниваться друг с другом (через сервисы Whatsapp или Telegram, например) чем использовать мобильную связь."
   ]
  },
  {
   "cell_type": "code",
   "execution_count": 65,
   "metadata": {},
   "outputs": [
    {
     "data": {
      "image/png": "[encoded data removed]",
      "text/plain": [
       "<Figure size 1296x504 with 2 Axes>"
      ]
     },
     "metadata": {},
     "output_type": "display_data"
    }
   ],
   "source": [
    "fig, axs = plt.subplots(1, 2, figsize=(18,7))\n",
    "plt.suptitle('Гистограммы распределения израсходованного трафика по звонкам и интернету тарифа \"Смарт\"', size=18)\n",
    "\n",
    "#Построение гистограммы израсходованных минут тарифа Смарт\n",
    "df[df['tariff'] == 'smart']['duration_calls_sum'].hist(bins=50, ax=axs[0], edgecolor='black')\n",
    "axs[0].set_title('Гистограмма распределения израсходованных минут тарифа Смарт', size=14)\n",
    "axs[0].set_xlabel('Сумма израсходованных минут', size=13)\n",
    "axs[0].set_ylabel('Количество абонентов', size=13)\n",
    "\n",
    "#Построение гистограммы использованных гигабайт тарифа Смарт\n",
    "df[df['tariff'] == 'smart']['mb_used_round_sum'].hist(bins=50, ax=axs[1], edgecolor='black')\n",
    "axs[1].set_title('Гистограмма распределения израсходованных Мб тарифа Смарт', size=14)\n",
    "axs[1].set_xlabel('Количество использованных Мб', size=13)\n",
    "axs[1].set_ylabel('Количество пользователей', size=13)\n",
    "\n",
    "\n",
    "\n",
    "plt.show()"
   ]
  },
  {
   "cell_type": "markdown",
   "metadata": {},
   "source": [
    "По первой гистограмме видно, что наибольшая группа абонентов тарифа Смарт используют в месяц 350 - 360 минут или 400-530 минут, что укладывается в лимит предоставляемого трафика (500 звонков в месяц). По мере расходования все большего количества минут после 500 лимитированных,количество абонентов, согласных доплачивать за дополнительные минуты снижается, что логично. И тем не менее, у гистограммы мы видим \"хвост\", находятся люди в нашей выборке, которые много разговаривают по мобильной связи, и котором сильно не хватает лимита в 500 минут, и которым было бы выгоднее перейти на тариф Ультра с предоставляемым лимитом в 3000 минут. Распределение схоже с Пуассоновским и смещено влево, обрезано на нуле."
   ]
  },
  {
   "cell_type": "markdown",
   "metadata": {},
   "source": [
    "Гистограмма распределения потраченных Мб на тарифе Смарт напоминает колокол, скорее симметрична и стремится к нормальному распределению. Мы видим, что наибольшее число пользователей используют примерно 15 100 Мб, что составляет практически весь лимит трафика. Достаточно большое количество людей (около 120) используют трафик в размере 20000 Мб, видимо покупая недостающие Мб (или почти 5 Гб). После этого значения наблюдается резкое снижение частоты от центра к границам допуска. Соответственно, все меньше и меньше людей покупают дополнитеные Гб интернета, хотя находятся в нашей выборке и такие, которые используют в месяц 38 000 Мб, что примерно равно 38 Гб, соответственно, в их тариф включено 15 Гб, а они дополнительно покупают еще 23 Гб. Им было бы более выгодно выбрать вместо этого тариф \"Ультра\". "
   ]
  },
  {
   "cell_type": "markdown",
   "metadata": {},
   "source": [
    "Построим 'Гистограммы распределения израсходованного трафика по звонкам и интернету тарифа \"Ультра\" для того чтобы проверить предположение, что люди предпочитают использовать интернет и таким образом созваниваться друг с другом (через сервисы Whatsapp или Telegram, например) чем использовать мобильную связь.\n"
   ]
  },
  {
   "cell_type": "code",
   "execution_count": 66,
   "metadata": {},
   "outputs": [
    {
     "data": {
      "image/png": "[encoded data removed]",
      "text/plain": [
       "<Figure size 1296x504 with 2 Axes>"
      ]
     },
     "metadata": {},
     "output_type": "display_data"
    }
   ],
   "source": [
    "fig, axs = plt.subplots(1, 2, figsize=(18,7))\n",
    "plt.suptitle('Гистограммы распределения израсходованного трафика по звонкам и интернету тарифа \"Ультра\"', size=18)\n",
    "\n",
    "#Построение  гистограммы израсходованных минут тарифа Ультра\n",
    "df[df['tariff'] == 'ultra']['duration_calls_sum'].hist(bins=50, ax=axs[0], edgecolor='black')\n",
    "axs[0].set_title('Гистограмма распределения израсходованных минут тарифа Ультра', size=14)\n",
    "axs[0].set_xlabel('Сумма израсходованных минут', size=13)\n",
    "axs[0].set_ylabel('Количество абонентов', size=13)\n",
    "\n",
    "#Построение гистограммы использованных мегабайт тарифа Ультра\n",
    "df[df['tariff'] == 'ultra']['mb_used_round_sum'].hist(bins=50, ax=axs[1], edgecolor='black')\n",
    "axs[1].set_title('Гистограмма распределения израсходованных Мб тарифа Ультра', size=14)\n",
    "axs[1].set_xlabel('Количество использованных Мб', size=13)\n",
    "axs[1].set_ylabel('Количество пользователей', size=13)\n",
    "\n",
    "plt.show()"
   ]
  },
  {
   "cell_type": "markdown",
   "metadata": {},
   "source": [
    "Первая гистограмма - распределения израсходованных минут тарифа ультра несимметрична и неравномерна. Самый большой пик наблюдается в диапазоне 0-33 минут. Можно предположить, что абоненты, входящие в эту группу, не склонны использовать мобильную связь, а используют вместо нее интернет для звонков. А возможно они изначально выбрали такой тариф ради большого трафика на интернет. Наибольшая группа людей, пользующаяся тарифом \"Ультра\" использует минуты в диапазоне 250 - 750 минут. Никто из абонентов не расходует полное количество минут, входящих в трафик."
   ]
  },
  {
   "cell_type": "markdown",
   "metadata": {},
   "source": [
    "Проанализируем гистограмму распределения израсходованных Мб тарифа Ультра. Гистограмма крайне не равномерна, наблюдаются пики и падения по всей диаграмме с некоторой периодичностью.Выборка пользователей не равномерная, встречаются как люди, которые используют высокое количество Мб (например около 48 человек используют 22 000 мб), так и те, которые пользуются интернетом крайне мало (до 500 Гб). В \"хвосте\" находятся пользователи, которые доплачивают за дополнительные Гб интернета. Даже есть те, которые доплачивают почти за 20 Гб интернета."
   ]
  },
  {
   "cell_type": "markdown",
   "metadata": {},
   "source": [
    "Построим гистограммы распределения количества сообщений на тарифе Смарт и Ультра."
   ]
  },
  {
   "cell_type": "code",
   "execution_count": 67,
   "metadata": {
    "scrolled": false
   },
   "outputs": [
    {
     "data": {
      "image/png": "[encoded data removed]",
      "text/plain": [
       "<Figure size 1296x504 with 2 Axes>"
      ]
     },
     "metadata": {},
     "output_type": "display_data"
    }
   ],
   "source": [
    "fig, axs = plt.subplots(1, 2, figsize=(18,7))\n",
    "plt.suptitle('Гистограммы распределения израсходованного лимита сообщений на тарифе \"Смарт\" и \"Ультра\"', size=18)\n",
    "\n",
    "#Построение гистограммы израсходованных минут тарифа Смарт\n",
    "df[df['tariff'] == 'smart']['messages_count'].hist(bins=50, ax=axs[0], edgecolor='black')\n",
    "axs[0].set_title('Гистограмма распределения количества сообщений тарифа Смарт', size=14)\n",
    "axs[0].set_xlabel('Количество отправленных сообщений', size=13)\n",
    "axs[0].set_ylabel('Количество абонентов', size=13)\n",
    "\n",
    "#Построение гистограммы использованных гигабайт тарифа Смарт\n",
    "df[df['tariff'] == 'ultra']['messages_count'].hist(bins=50, ax=axs[1], edgecolor='black')\n",
    "axs[1].set_title('Гистограмма распределения количества сообщений тарифа Ультра', size=14)\n",
    "axs[1].set_xlabel('Количество отправленных сообщений', size=13)\n",
    "axs[1].set_ylabel('Количество пользователей', size=13)\n",
    "\n",
    "plt.show()"
   ]
  },
  {
   "cell_type": "markdown",
   "metadata": {},
   "source": [
    "По полученным гистограммам видим, что в целом распределение на обоих графиках схоже, а значит и поведение почти всех клиентов, относящихся к разным тарифам, тоже схоже. Например, в обоих случаях мы наблюдаем пик в диапазоне 0-3 сообщений в месяц у клиентов тарифа Смарт (примерно у 350 чел.) и пик в диапазоне 0-5 сообщений в месяц у пользователей тарифа Ультра (около 210 чел.)\n",
    "У пользователей тарифа Смарт мы видим тенденцию расходования лимита сообщений и плату за дальнейшие сообщения.\n",
    "Абоненты тарифа Ультра наоборот никогда не выходят за лимит предоставляемого количества сообщений."
   ]
  },
  {
   "cell_type": "markdown",
   "metadata": {},
   "source": [
    "**Среднее количество, дисперсия и стандартное отклонение.**"
   ]
  },
  {
   "cell_type": "markdown",
   "metadata": {},
   "source": [
    "Мы разделили генеральную совокупность на 2 выборки: тариф Смарт и тариф Ультра. По этим выборкам посчитали среднее, дисперсию и стандартное отклонение по количеству минут, использованных мегабайт и количеству сообщений."
   ]
  },
  {
   "cell_type": "markdown",
   "metadata": {},
   "source": [
    "**Количество минут**"
   ]
  },
  {
   "cell_type": "markdown",
   "metadata": {},
   "source": [
    "___Тариф Смарт___"
   ]
  },
  {
   "cell_type": "code",
   "execution_count": 68,
   "metadata": {},
   "outputs": [
    {
     "name": "stdout",
     "output_type": "stream",
     "text": [
      "Среднее по количеству минут в тарифе Смарт: 417.93\n",
      "Дисперсия по количеству минут в тарифе Смарт: 36203.07\n",
      "Стандартное отклонение по количеству минут в тарифе Смарт: 190.31\n"
     ]
    }
   ],
   "source": [
    "print('Среднее по количеству минут в тарифе Смарт: {:.2f}'.format(df[df['tariff'] == 'smart']\n",
    "                                                                  ['duration_calls_sum'].mean()))\n",
    "print('Дисперсия по количеству минут в тарифе Смарт: {:.2f}'.format(np.var(df[df['tariff'] == 'smart']\n",
    "                                                                           ['duration_calls_sum'])))\n",
    "print('Стандартное отклонение по количеству минут в тарифе Смарт: {:.2f}'.format(np.std(df[df['tariff'] == 'smart']\n",
    "                                                                                        ['duration_calls_sum'], ddof=1)))\n"
   ]
  },
  {
   "cell_type": "markdown",
   "metadata": {},
   "source": [
    "<div class=\"alert alert-success\">\n",
    "<b>Комментарий ревьюера:</b>\n",
    "\n",
    "Кстати весь расчет можно было сделать с помощью сводных таблиц.\n",
    "    \n",
    "Где в атрибуте `aggfunc`, мы указали бы сразу несколько функций, которые должны примениться к нашим данным. \n",
    "    \n",
    "</div>"
   ]
  },
  {
   "cell_type": "markdown",
   "metadata": {},
   "source": [
    "___Тариф Ультра___"
   ]
  },
  {
   "cell_type": "code",
   "execution_count": 69,
   "metadata": {},
   "outputs": [
    {
     "name": "stdout",
     "output_type": "stream",
     "text": [
      "Среднее по количеству минут в тарифе Ультра: 526.62\n",
      "Дисперсия по количеству минут в тарифе Ультра: 100771.22\n",
      "Стандартное отклонение по количеству минут в тарифе Ультра: 317.61\n"
     ]
    }
   ],
   "source": [
    "print('Среднее по количеству минут в тарифе Ультра: {:.2f}'.format(df[df['tariff'] == 'ultra']\n",
    "                                                                  ['duration_calls_sum'].mean()))\n",
    "print('Дисперсия по количеству минут в тарифе Ультра: {:.2f}'.format(np.var(df[df['tariff'] == 'ultra']\n",
    "                                                                           ['duration_calls_sum'])))\n",
    "print('Стандартное отклонение по количеству минут в тарифе Ультра: {:.2f}'.format(np.std(df[df['tariff'] == 'ultra']\n",
    "                                                                                        ['duration_calls_sum'], ddof=1)))\n"
   ]
  },
  {
   "cell_type": "markdown",
   "metadata": {},
   "source": [
    "- Среднее по количеству минут в тарифе Смарт равно 417,93, а в тарифе Ультра составляет 526,62 , что логично, лимит включенных минут в тарифе Ультра больше, соответственно люди покупают тариф Ультра чтобы пользоваться бОльшим количеством минут. \n",
    "- Дисперсия по количеству минут в тарифе Смарт равна 36203,07, а в тарифе Ультра 100771.22\n",
    "- Стандартное отклонение по количеству минут в тарифе Смарт равно 190.31. Стандартное отклонение по количеству минут в тарифе Ультра равно 317.61"
   ]
  },
  {
   "cell_type": "markdown",
   "metadata": {},
   "source": [
    "**Количество использованных мегабайт**"
   ]
  },
  {
   "cell_type": "markdown",
   "metadata": {},
   "source": [
    "___Тариф Смарт___"
   ]
  },
  {
   "cell_type": "code",
   "execution_count": 70,
   "metadata": {},
   "outputs": [
    {
     "name": "stdout",
     "output_type": "stream",
     "text": [
      "Среднее по количеству использованных мегабайт в тарифе Смарт: 16229.19\n",
      "Дисперсия по количеству использованных мегабайт в тарифе Смарт: 34530412.74\n",
      "Стандартное отклонение по количеству использованных мегабайт в тарифе Смарт: 5877.58\n"
     ]
    }
   ],
   "source": [
    "print('Среднее по количеству использованных мегабайт в тарифе Смарт: {:.2f}'.format(df[df['tariff'] == 'smart']\n",
    "                                                                  ['mb_used_round_sum'].mean()))\n",
    "print('Дисперсия по количеству использованных мегабайт в тарифе Смарт: {:.2f}'.format(np.var(df\n",
    "                                                                                             [df['tariff'] == 'smart']\n",
    "                                                                                             ['mb_used_round_sum'])))\n",
    "print('Стандартное отклонение по количеству использованных мегабайт в тарифе Смарт: {:.2f}'.format(np.std(df\n",
    "                                                                                                          [df['tariff'] == 'smart']\n",
    "                                                                                        ['mb_used_round_sum'], ddof=1)))\n"
   ]
  },
  {
   "cell_type": "markdown",
   "metadata": {},
   "source": [
    "___Тариф Ультра___"
   ]
  },
  {
   "cell_type": "code",
   "execution_count": 71,
   "metadata": {},
   "outputs": [
    {
     "name": "stdout",
     "output_type": "stream",
     "text": [
      "Среднее по количеству использованных мегабайт в тарифе Ультра: 19486.90\n",
      "Дисперсия по количеству использованных мегабайт в тарифе Ультра: 101832133.11\n",
      "Стандартное отклонение по количеству использованных мегабайт в тарифе Ультра: 10096.32\n"
     ]
    }
   ],
   "source": [
    "print('Среднее по количеству использованных мегабайт в тарифе Ультра: {:.2f}'.format(df[df['tariff'] == 'ultra']\n",
    "                                                                  ['mb_used_round_sum'].mean()))\n",
    "print('Дисперсия по количеству использованных мегабайт в тарифе Ультра: {:.2f}'.format(np.var(df[df['tariff'] == 'ultra']\n",
    "                                                                           ['mb_used_round_sum'])))\n",
    "print('Стандартное отклонение по количеству использованных мегабайт в тарифе Ультра: {:.2f}'.format(np.std(df[df['tariff'] == 'ultra']\n",
    "                                                                                        ['mb_used_round_sum'], ddof=1)))\n"
   ]
  },
  {
   "cell_type": "markdown",
   "metadata": {},
   "source": [
    "В результате получили, что:\n",
    "- Среднее по количеству использованных мегабайт в тарифе Смарт и Ультра не сильно различается и составляет 16229.19 и 19486.90. Исходя из полученного результата можно сказать, что для первой группы клиентов, использующих тариф Смарт, включенных мегабайт не будет хватать и в среднем каждый будет покупать дополнительно 1 Гб интернета, а для второй группы клиентов в среднем включенного трафика слишком много,т.к. лимит составляет 30 Гб (наше среднее гораздо меньше)\n",
    "- Дисперсия по количеству использованных мегабайт в тарифе Смарт равна 34530412.74, а в тарифе Ультра равна 101832133.11\n",
    "- Стандартное отклонение по количеству использованных мегабайт в тарифе Смарт оказалось равно 5877.58, стандартное отклонение по количеству использованных мегабайт в тарифе Ультра - 10096.32"
   ]
  },
  {
   "cell_type": "markdown",
   "metadata": {},
   "source": [
    "**Количество сообщений**"
   ]
  },
  {
   "cell_type": "markdown",
   "metadata": {},
   "source": [
    "___Тариф Смарт___"
   ]
  },
  {
   "cell_type": "code",
   "execution_count": 72,
   "metadata": {},
   "outputs": [
    {
     "name": "stdout",
     "output_type": "stream",
     "text": [
      "Среднее по количеству сообщений в тарифе Смарт: 33.38\n",
      "Дисперсия по количеству сообщений в тарифе Смарт: 796.46\n",
      "Стандартное отклонение по количеству сообщений в тарифе Смарт: 28.23\n"
     ]
    }
   ],
   "source": [
    "print('Среднее по количеству сообщений в тарифе Смарт: {:.2f}'.format(df[df['tariff'] == 'smart']\n",
    "                                                                  ['messages_count'].mean()))\n",
    "print('Дисперсия по количеству сообщений в тарифе Смарт: {:.2f}'.format(np.var(df[df['tariff'] == 'smart']\n",
    "                                                                           ['messages_count'])))\n",
    "print('Стандартное отклонение по количеству сообщений в тарифе Смарт: {:.2f}'.format(np.std(df[df['tariff'] == 'smart']\n",
    "                                                                                        ['messages_count'], ddof=1)))"
   ]
  },
  {
   "cell_type": "markdown",
   "metadata": {},
   "source": [
    "___Тариф Ультра___"
   ]
  },
  {
   "cell_type": "code",
   "execution_count": 73,
   "metadata": {},
   "outputs": [
    {
     "name": "stdout",
     "output_type": "stream",
     "text": [
      "Среднее по количеству сообщений в тарифе Ультра: 49.36\n",
      "Дисперсия по количеству сообщений в тарифе Ультра: 2282.95\n",
      "Стандартное отклонение по количеству сообщений в тарифе Ультра: 47.80\n"
     ]
    }
   ],
   "source": [
    "print('Среднее по количеству сообщений в тарифе Ультра: {:.2f}'.format(df[df['tariff'] == 'ultra']\n",
    "                                                                  ['messages_count'].mean()))\n",
    "print('Дисперсия по количеству сообщений в тарифе Ультра: {:.2f}'.format(np.var(df[df['tariff'] == 'ultra']\n",
    "                                                                           ['messages_count'])))\n",
    "print('Стандартное отклонение по количеству сообщений в тарифе Ультра: {:.2f}'.format(np.std(df[df['tariff'] == 'ultra']\n",
    "                                                                                        ['messages_count'], ddof=1)))\n"
   ]
  },
  {
   "cell_type": "markdown",
   "metadata": {},
   "source": [
    "- Среднее по количеству сообщений в тарифе Смарт и Ультра невысокое и составляет 33.38 и 49.36.\n",
    "- Дисперсия по количеству сообщений различается в двух тарифах достаточно сильно, почти в 3 раза и составляет в тарифе Смарт: 796.46, а в тарифе Ультра 2282.95\n",
    "- Стандартное отклонение по количеству сообщений в тарифе Смарт составляет 28.23, а в тарифе Ультра - 47.80"
   ]
  },
  {
   "cell_type": "markdown",
   "metadata": {},
   "source": [
    "___Вопрос к ревьюеру:___ Не очень поняла какая интерпретация результатов ожидается от меня в данном случае, особенно по дисперсии и стандартному отклонению. Написала как думаю. Какую экономическую ценность можно привязать к этим показателям - дисперсии и стандартному отклонению?"
   ]
  },
  {
   "cell_type": "markdown",
   "metadata": {},
   "source": [
    "<div class=\"alert alert-success\">\n",
    "<b>Комментарий ревьюера:</b>\n",
    "   \n",
    "Дисперсия нам говорит о том, как распределены данные.\n",
    "    \n",
    "Если дисперсии данных сильно отличаются или равны, то это влияет на выбор метода проверки статистической гипотезы, чтобы проверка была максимально корректной.\n",
    "    \n",
    "Стандартное отклонение позволяет нам оценить насколько могут отклоняться данные у каждого клиента, как в бОльшую сторону, так и в меньшую.\n",
    "    \n",
    "Рекомендую посмотреть курс по Основам статистики на stepik.ru с Анатолием Карповым. Очень полезный и информативный, ну и самое главное в легкой форме идёт подача информации. \n",
    "    \n",
    "---\n",
    "\n",
    "Очень детально проверили наш анализ пользователей, выводы абсолютно логичны и даже придраться не к чему 😊👍\n",
    "    \n",
    "Предлагаю приступить к проверке наших гипотез.\n",
    "    \n",
    "</div>"
   ]
  },
  {
   "cell_type": "markdown",
   "metadata": {},
   "source": [
    "### Шаг 4. Проверьте гипотезы <a class=\"anchor\" id=\"step4\"></a>"
   ]
  },
  {
   "cell_type": "markdown",
   "metadata": {},
   "source": [
    "**Проверка гипотезы \"средняя выручка пользователей тарифов «Ультра» и «Смарт» различается\"**"
   ]
  },
  {
   "cell_type": "markdown",
   "metadata": {},
   "source": [
    "Проведем тест Стъюдента для проверки нулевой гипотезы о равенстве средней выручки пользователей тарифов \"Ультра\" и \"Смарт\". Тогда альтернативная гипотеза - средняя выручка пользователей тарифов «Ультра» и «Смарт» различается. Выберем критический уровень статистической значимости альфа 5%."
   ]
  },
  {
   "cell_type": "markdown",
   "metadata": {},
   "source": [
    "<div class=\"alert alert-success\">\n",
    "<b>Комментарий ревьюера:</b>\n",
    "\n",
    "Гипотезы сформулированы верно.\n",
    "    \n",
    "    \n",
    "**Best practies:**\n",
    "    \n",
    "Перед проверкой гипотезы рекомендую проверить дисперсии выборок, чтобы корректно определить атрибут `equal_val` в Т–тесте.\n",
    "    \n",
    "В том числе стоит визуализировать распределение каждой выборки. \n",
    "    \n",
    "Т.к. при выполнении лучших практик, мы сможем сделать проект более последовательным. \n",
    "    \n",
    "</div>"
   ]
  },
  {
   "cell_type": "code",
   "execution_count": 74,
   "metadata": {},
   "outputs": [
    {
     "name": "stdout",
     "output_type": "stream",
     "text": [
      "p-значение: 2.7240946993530856e-246\n",
      "Отвергаем нулевую гипотезу\n"
     ]
    }
   ],
   "source": [
    "alpha = .05\n",
    "results_tariffs = st.ttest_ind(df[df['tariff'] == 'smart']['income_sum'], df[df['tariff'] == 'ultra']['income_sum'], equal_var = False )\n",
    "print('p-значение:', results_tariffs.pvalue)\n",
    "\n",
    "if (results_tariffs.pvalue < alpha):\n",
    "    print('Отвергаем нулевую гипотезу')\n",
    "else:\n",
    "    print('Не получилось отвергнуть нулевую гипотезу')"
   ]
  },
  {
   "cell_type": "markdown",
   "metadata": {},
   "source": [
    "<div class=\"alert alert-success\">\n",
    "<b>Комментарий ревьюера:</b>\n",
    "\n",
    "Если код не помещается в одну строку, рекомендую переносить его на следующую подстроку, с помощью обратного слеша. Так код читается быстрее и понятнее.\n",
    "    \n",
    "</div>"
   ]
  },
  {
   "cell_type": "markdown",
   "metadata": {},
   "source": [
    "<div class=\"alert alert-warning\">\n",
    "<b>Комментарий ревьюера:</b>\n",
    "\n",
    "В конструкции `if`можно писать условие без скобок. Для логики это неважно, но чем меньше символов в коде — тем легче его читать. Чтобы продемонстрировать коллегам хороший стиль кода, привыкай писать условия без скобок.\n",
    "</div>"
   ]
  },
  {
   "cell_type": "markdown",
   "metadata": {},
   "source": [
    "Получили, что нулевая гипотеза о равенстве средней выручки тарифов \"Смарт\" и \"Ультра\" отверглась, тогда не отвергается альтернативная гипотеза - ___средняя выручка пользователей тарифов «Ультра» и «Смарт» различается___."
   ]
  },
  {
   "cell_type": "markdown",
   "metadata": {},
   "source": [
    "**Проверка гипотезы \"средняя выручка пользователей из Москвы отличается от выручки пользователей из других регионов\".**"
   ]
  },
  {
   "cell_type": "markdown",
   "metadata": {},
   "source": [
    "Проведем тест Стъюдента для проверки нулевой гипотезы о равенстве средней выручки пользователей из Москвы и выручки пользователей из других регионов. Тогда альтернативная гипотеза - средняя выручка пользователей из Москвы отличается от выручки пользователей из других регионов. Выберем критический уровень статистической значимости альфа 5%."
   ]
  },
  {
   "cell_type": "code",
   "execution_count": 75,
   "metadata": {},
   "outputs": [
    {
     "name": "stdout",
     "output_type": "stream",
     "text": [
      "p-значение: 0.531666503831252\n",
      "Не получилось отвергнуть нулевую гипотезу\n"
     ]
    }
   ],
   "source": [
    "alpha = .05\n",
    "results_tariffs = st.ttest_ind(df[df['city'] == 'Москва']['income_sum'], df[df['city'] != 'Москва']['income_sum'])\n",
    "print('p-значение:', results_tariffs.pvalue)\n",
    "\n",
    "if (results_tariffs.pvalue < alpha):\n",
    "    print('Отвергаем нулевую гипотезу')\n",
    "else:\n",
    "    print('Не получилось отвергнуть нулевую гипотезу')"
   ]
  },
  {
   "cell_type": "markdown",
   "metadata": {},
   "source": [
    "Получили, что ___нулевая гипотеза о равенстве средней выручки пользователей из Москвы и выручки пользователей из других регионов не отверглась___. Полученное значение p-value 0.53 говорит о том, что хотя средняя выручка пользователей из Москвы и средняя выручка пользователей из других регионов неодинакова, с вероятностью почти в 51% такое или большее различие можно получить случайно. Это слишком большая вероятность чтобы делать выводы о значимом различиии между средней выручкой пользователей из Москвы и пользователей из других регионов."
   ]
  },
  {
   "cell_type": "markdown",
   "metadata": {},
   "source": [
    "### Шаг 5. Напишите общий вывод <a class=\"anchor\" id=\"step5\"></a>"
   ]
  },
  {
   "cell_type": "markdown",
   "metadata": {},
   "source": [
    "Мы провели анализ тарифных планов компании «Мегалайн» — федерального оператора сотовой связи по двум тарифным планам: «Смарт» и «Ультра». \n",
    "У нас было 5 таблиц с данными: \n",
    "- calls (информация о звонках), \n",
    "- internet (информация об интернет-сессиях), \n",
    "- messages (информация о сообщениях), \n",
    "- tariffs (информация о тарифах),\n",
    "- users (информация о пользователях)\n",
    "\n",
    "Для дальнейшей работы нам необходимо было объединить данные таблицы в одну, сгруппировав информацию по месяцам, уникальным пользователям и сумме израсходованных минут, использованных мегабайт и количеству отправленных сообщений. Сначала мы понизили разрядность некоторых показателей, чтобы оптимизировать работу с данными.\n",
    "        \n",
    "Сначала мы рассмотрели каждую таблицу по отдельности и привели к удобному виду, а также провели небольшой анализ по каждой таблице:\n",
    "\n",
    "**- По звонкам:**\n",
    "* Поскольку в условии было обозначено, что «Мегалайн» всегда округляет вверх значения минут и мегабайтов, поэтому округлили продолжительность разговора в минутах в бОльшую сторону. \n",
    "* В данных было почти 20% звонков со значением 0 минут (а мы не знали природу появления данных нулей - это может быть как пропущенные звонки, так и ошибки в данных). Сделали допущение, что таким образом обозначены пропущенные звонки, поскольку мы считали суммарное количество минут каждого абонента по месяцам, пропущенные значения не должны сильно исказить результат.\n",
    "* Получили, что у нескольких абонентов за месяц не было ни одной проговоренной минуты, а таких абонентов 3 шт - с user_id 1240, 1257, 1373. Количество звонков за месяц у них также небольшое - 1 или 2. Можно предположить, что возможно люди в эти месяцы куда-то уезжали и не разговаривали по мобильному телефону, либо у них 2 телефона и они используют один из них исключительно для интернета и т.д.\n",
    "* Количество уникальных пользователей каждый месяц линейно возрастало. Наибольшее медианное значение суммарного количества использованных минут составляет 492 в декабре месяце, а наименьшее медианное количество минут составляет 230 в январе месяце. С каждым месяцем привлекается все больше клиентов.\n",
    "Также наблюдается линейный рост количества звонков от месяца к месяцу (скорее всего из-за увелечения количества абонентов).\n",
    "* После построения гистограммы мы увидели, что наибольшее количество абонентов использует почти 500 минут в сумме, по диаграмме размаха можно сказать, что нормальные значения минут находятся в диапазоне от 0 до 1050 минут, все значения выходящие за данную отметку - выбросы.\n",
    "\n",
    "**- По мобильному интернету:**\n",
    "* Поскольку в условии было обозначено, что «Мегалайн» всегда округляет вверх значения минут и мегабайтов, поэтому округлили мегабайты в бОльшую сторону.\n",
    "* 2 абонента  вообще не расходовали мегабайты интернета в течение месяца.\n",
    "* Наибольшее медианное значение израсходованного интернета 18 ГБ было в декабре, в январе же было наименьшее медианное значение израсходованного интернета - почти 8 ГБ.\n",
    "* Построив \"Гистограмму распределения израсходованного интернета\" мы увидели, что наибольшее количество абонентов используют примерно 15 ГБ трафика. Гистограмма имеет форму колокола и стремится к нормальному распределению. Нормальные значения суммарного объема израсходованного трафика находятся в диапазоне от 0 до 35 ГБ. Все, что находится за пределами 35 ГБ  является выбросами.\n",
    "\n",
    "**- По количеству сообщений:**\n",
    "* Наибольшее среднее значение по отправленным смс сообщениям наблюдается в январе 44 шт в месяц, при этом наименьшее медианное значение наблюдается в январе - 22 сообщения в месяц.\n",
    "* Наибольшее количество абонентов отправляют в месяц примерно 25 сообщений. Нормальные значения количества отправленных смс сообщений сосредоточены в диапазоне от 1 до 60 сообщений. Все, что свыше этого диапазона - выбросы. \n",
    "\n",
    "После соединения всех таблиц мы заполнили нулями пропущенные значения в данных, предполагая, что если после слияния таблиц выяснилось, что данные о написанных сообщениях, исходящих звонках и использованных мегабайтах отсутствовали, значит абонент предпочитал звонки остальным видам сервиса, и просто не пользовался включенными функциями.\n",
    "Далее написали функцию, которая подсчитала помесячную выручку с каждого пользователя при превышении, включенных в тарифный план минут, смс и количества Гб и добавили в таблицу столбец с помесячной выручкой от каждого абонента с включением абонентской платы. Оказалось, что суммарная выручка по каждому тарифу линейно растет. По тарифу \"Смарт\" она возрастает более резко, а значит для бизнеса в 2018 году тариф был более выгоден главным образом за счет использования Гб и минут сверх лимита.\n",
    "\n",
    "Построив сводную таблицу со средними и медианными значениями всех показателей, а именно: сумма продолжительности звонков, количество сообщений и количество мегабайт в месяц мы увидели, что:\n",
    "видим:\n",
    "* клиенты тарифа \"Смарт\" и \"Ультра\" в среднем не выговаривают все количество минут, которое предоставляет им оператор за месяц. И в принципе средние и медианные значения израсходованных минут не сильно отличаются у двух тарифов.\n",
    "* Почти во все месяцы на тарифе Смарт клиенты выходили за пределы предоставляемого трафика интернета - 15360 МБ в месяц. Для бизнеса это выгодно, компания может получать прибыль с дополнительного предоставления интернета. Но, с другой стороны, в долгосрочной перспективе это может привести к тому, что клиенты начнут переходить на другие операторы \n",
    "* С сообщениями ситуация такая же как и с минутами, на всех тарифах в среднем люди не выходят за пределы предоставляемого лимита.\n",
    "\n",
    "Далее мы построили 'Гистограммы распределения израсходованного трафика по звонкам и интернету тарифа \"Смарт\"' для того чтобы проверить предположение, что люди предпочитают использовать интернет и таким образом созваниваться друг с другом (через сервисы Whatsapp или Telegram, например) чем использовать мобильную связь. Получили следующие результаты: \n",
    "\n",
    "* Наибольшая группа абонентов тарифа Смарт используют в месяц 350 - 360 минут или 400-530 минут, что укладывается в лимит предоставляемого трафика (500 звонков в месяц). По мере расходования все большего количества минут после 500 лимитированных,количество абонентов, согласных доплачивать за дополнительные минуты снижается, что логично. И тем не менее, у гистограммы мы видим \"хвост\", находятся люди в нашей выборке, которые много разговаривают по мобильной связи, и котором сильно не хватает лимита в 500 минут, и которым было бы выгоднее перейти на тариф Ультра с предоставляемым лимитом в 3000 минут. Распределение схоже с Пуассоновским и смещено влево, обрезано на нуле.\n",
    "\n",
    "* Гистограмма распределения потраченных Мб на тарифе Смарт напоминает колокол, скорее симметрична и стремится к нормальному распределению. Мы видим, что наибольшее число пользователей используют примерно 15 100 Мб, что составляет практически весь лимит трафика. Достаточно большое количество людей (около 120) используют трафик в размере 20000 Мб, видимо покупая недостающие Мб (или почти 5 Гб). После этого значения наблюдается резкое снижение частоты от центра к границам допуска. Соответственно, все меньше и меньше людей покупают дополнитеные Гб интернета, хотя находятся в нашей выборке и такие, которые используют в месяц 38 000 Мб, что примерно равно 38 Гб, соответственно, в их тариф включено 15 Гб, а они дополнительно покупают еще 23 Гб. Им было бы более выгодно выбрать вместо этого тариф \"Ультра\".\n",
    "\n",
    "Построили 'Гистограммы распределения израсходованного трафика по звонкам и интернету тарифа \"Ультра\" и получили, что:\n",
    "\n",
    "* Первая гистограмма - распределения израсходованных минут тарифа ультра несимметрична и неравномерна. Самый большой пик наблюдается в диапазоне 0-33 минут. Можно предположить, что абоненты, входящие в эту группу, не склонны использовать мобильную связь, а используют вместо нее интернет для звонков. А возможно они изначально выбрали такой тариф ради большого трафика на интернет. Наибольшая группа людей, пользующаяся тарифом \"Ультра\" использует минуты в диапазоне 250 - 750 минут. Никто из абонентов не расходует полное количество минут, входящих в трафик.\n",
    "\n",
    "* Гистограмма распределения израсходованных Мб тарифа Ультра крайне не равномерна, наблюдаются пики и падения по всей диаграмме с некоторой периодичностью.Выборка пользователей не равномерная, встречаются как люди, которые используют высокое количество Мб (например около 48 человек используют 22 000 мб), так и те, которые пользуются интернетом крайне мало (до 500 Гб). В \"хвосте\" находятся пользователи, которые доплачивают за дополнительные Гб интернета. Даже есть те, которые доплачивают почти за 20 Гб интернета.\n",
    "\n",
    "Построили гистограммы распределения количества сообщений на тарифе Смарт и Ультра и выяснили, что в целом распределение на обоих графиках схоже, а значит и поведение почти всех клиентов, относящихся к разным тарифам, тоже схоже. Например, в обоих случаях мы наблюдаем пик в диапазоне 0-3 сообщений в месяц у клиентов тарифа Смарт (примерно у 350 чел.) и пик в диапазоне 0-5 сообщений в месяц у пользователей тарифа Ультра (около 210 чел.) У пользователей тарифа Смарт мы видим тенденцию расходования лимита сообщений и плату за дальнейшие сообщения. Абоненты тарифа Ультра наоборот никогда не выходят за лимит предоставляемого количества сообщений.\n",
    "\n",
    "Мы разделили генеральную совокупность на 2 выборки: тариф Смарт и тариф Ультра. По этим выборкам посчитали среднее, дисперсию и стандартное отклонение по количеству минут, использованных мегабайт и количеству сообщений и получили следующие результаты:\n",
    "- Среднее по количеству минут в тарифе Смарт равно 417,93, а в тарифе Ультра составляет 526,62 , что логично, лимит включенных минут в тарифе Ультра больше, соответственно люди покупают тариф Ультра чтобы пользоваться бОльшим количеством минут. \n",
    "- Дисперсия по количеству минут в тарифе Смарт равна 36203,07, а в тарифе Ультра 100771.22\n",
    "- Стандартное отклонение по количеству минут в тарифе Смарт равно 190.31. Стандартное отклонение по количеству минут в тарифе Ультра равно 317.61\n",
    "- Среднее по количеству использованных мегабайт в тарифе Смарт и Ультра не сильно различается и составляет 16229.19 и 19486.90. Исходя из полученного результата можно сказать, что для первой группы клиентов, использующих тариф Смарт, включенных мегабайт не будет хватать и в среднем каждый будет покупать дополнительно 1 Гб интернета, а для второй группы клиентов в среднем включенного трафика слишком много,т.к. лимит составляет 30 Гб (наше среднее гораздо меньше)\n",
    "- Дисперсия по количеству использованных мегабайт в тарифе Смарт равна 34530412.74, а в тарифе Ультра равна 101832133.11\n",
    "- Стандартное отклонение по количеству использованных мегабайт в тарифе Смарт оказалось равно 5877.58, стандартное отклонение по количеству использованных мегабайт в тарифе Ультра - 10096.32\n",
    "- Среднее по количеству сообщений в тарифе Смарт и Ультра невысокое и составляет 33.38 и 49.36.\n",
    "- Дисперсия по количеству сообщений различается в двух тарифах достаточно сильно, почти в 3 раза и составляет в тарифе Смарт: 796.46, а в тарифе Ультра 2282.95\n",
    "- Стандартное отклонение по количеству сообщений в тарифе Смарт составляет 28.23, а в тарифе Ультра - 47.80\n",
    "\n",
    "Мы провели тест Стъюдента для проверки нулевой гипотезы о равенстве средней выручки пользователей тарифов \"Ультра\" и \"Смарт\". Альтернативная гипотеза - средняя выручка пользователей тарифов «Ультра» и «Смарт» различается. Выбрали критический уровень статистической значимости альфа 5%.\n",
    "Получили, что нулевая гипотеза о равенстве средней выручки тарифов \"Смарт\" и \"Ультра\" отверглась, тогда не отвергается альтернативная гипотеза - ___средняя выручка пользователей тарифов «Ультра» и «Смарт» различается___.\n",
    "\n",
    "Провели тест Стъюдента для проверки нулевой гипотезы о равенстве средней выручки пользователей из Москвы и выручки пользователей из других регионов. Альтернативная гипотеза - средняя выручка пользователей из Москвы отличается от выручки пользователей из других регионов. Выбрали критический уровень статистической значимости альфа 5%.\n",
    "Получили, что ___нулевая гипотеза о равенстве средней выручки пользователей из Москвы и выручки пользователей из других регионов не отверглась___. Полученное значение p-value 0.53 говорит о том, что хотя средняя выручка пользователей из Москвы и средняя выручка пользователей из других регионов неодинакова, с вероятностью почти в 51% такое или большее различие можно получить случайно. Это слишком большая вероятность чтобы делать выводы о значимом различиии между средней выручкой пользователей из Москвы и пользователей из других регионов.\n"
   ]
  },
  {
   "cell_type": "markdown",
   "metadata": {},
   "source": [
    "<div class=\"alert alert-success\">\n",
    "<b>Комментарий ревьюера:</b>\n",
    "\n",
    "Выводы понятны и логичны, а самое главное подкреплены выявленными фактами.\n",
    "       \n",
    "В целом сам проект выполнен на хорошем уровне! На протяжении всей работы чувствуется глубина проработки задачи и это безусловный плюс для нас. Было использовано большое количество методов, которые будут помогать тебе в дальнейших проектах.\n",
    "    \n",
    "Не стоит забывать про оформление своей работы, это важный такой же важный этап. Рекомендую «не стесняться» использовать ячейки типа **markdown** там где нам необходимо отобразить свои размышления, в том числе с использованием дополнительной стилизации.\n",
    "    \n",
    "Успехов тебе в новых проектах! \n",
    "    \n",
    "</div>"
   ]
  },
  {
   "cell_type": "markdown",
   "metadata": {},
   "source": [
    "<div class=\"alert alert-success\">\n",
    "<b>Комментарий ревьюера (общий):</b>\n",
    "\n",
    "Рекомендую посмотреть на дополнительную стилизацию ячеек типа **markdown**.\n",
    "    \n",
    "**Жирный**\n",
    "*Курсив*\n",
    "    \n",
    "--- \n",
    "\n",
    "# Заголовок первого уровня\n",
    "\n",
    "--- \n",
    "    \n",
    "## Заголовок второго уровня\n",
    "  \n",
    "---  \n",
    "Списки:\n",
    "    \n",
    "- один \n",
    "- два\n",
    "- три\n",
    "   \n",
    "---\n",
    "    \n",
    "1. Раз\n",
    "2. Раз раз\n",
    "3. Раз два три\n",
    "    \n",
    "--- \n",
    "    \n",
    "Отображение `переменных`\n",
    "    \n",
    "    \n",
    "---\n",
    "   \n",
    "Также здесь можно найти все, что нужно:\n",
    "    \n",
    "https://www.notion.so/35d9c2f32ffa42f3b17010737aedca4b\n",
    "    \n",
    "</div>"
   ]
  }
 ],
 "metadata": {
  "kernelspec": {
   "display_name": "Python 3",
   "language": "python",
   "name": "python3"
  },
  "language_info": {
   "codemirror_mode": {
    "name": "ipython",
    "version": 3
   },
   "file_extension": ".py",
   "mimetype": "text/x-python",
   "name": "python",
   "nbconvert_exporter": "python",
   "pygments_lexer": "ipython3",
   "version": "3.7.10"
  },
  "toc": {
   "base_numbering": 1,
   "nav_menu": {},
   "number_sections": true,
   "sideBar": true,
   "skip_h1_title": false,
   "title_cell": "Table of Contents",
   "title_sidebar": "Contents",
   "toc_cell": false,
   "toc_position": {},
   "toc_section_display": true,
   "toc_window_display": false
  }
 },
 "nbformat": 4,
 "nbformat_minor": 2
}
