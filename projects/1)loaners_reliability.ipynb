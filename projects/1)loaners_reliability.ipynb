{
 "cells": [
  {
   "cell_type": "markdown",
   "metadata": {},
   "source": [
    "# Исследование надёжности заёмщиков\n",
    "\n",
    "Заказчик — кредитный отдел банка. Нужно разобраться, влияет ли семейное положение и количество детей клиента на факт погашения кредита в срок. Входные данные от банка — статистика о платёжеспособности клиентов.\n",
    "\n",
    "Результаты исследования будут учтены при построении модели **кредитного скоринга** — специальной системы, которая оценивает способность потенциального заёмщика вернуть кредит банку."
   ]
  },
  {
   "cell_type": "markdown",
   "metadata": {},
   "source": [
    "**Описание данных**\n",
    "\n",
    "* `children` — количество детей в семье\n",
    "* `days_employed` — общий трудовой стаж в днях\n",
    "* `dob_years` — возраст клиента в годах\n",
    "* `education` — уровень образования клиента\n",
    "* `education_id` — идентификатор уровня образования\n",
    "* `family_status` — семейное положение\n",
    "* `family_status_id` — идентификатор семейного положения\n",
    "* `gender` — пол клиента\n",
    "* `income_type` — тип занятости\n",
    "* `debt` — имел ли задолженность по возврату кредитов\n",
    "* `total_income` — ежемесячный доход\n",
    "* `purpose` — цель получения кредита"
   ]
  },
  {
   "cell_type": "markdown",
   "metadata": {},
   "source": [
    "Необходимо подготовить данные к анализу: выявить аномалии в данных, произвести чистку данных от артефактов и дубликатов и т.д. Необходимо произвести категоризацию данных и выявить факторы, влияющие на погашение кредита в срок."
   ]
  },
  {
   "cell_type": "markdown",
   "metadata": {},
   "source": [
    "* [Шаг 1. Откройте файл с данными и изучите общую информацию.](#step1)\n",
    "    * [Вывод](#step1.1)\n",
    "* [Шаг 2. Предобработка данных](#step2) \n",
    "    * [Обработка пропусков](#step2.1)\n",
    "    * [Вывод](#step2.2)  \n",
    "    * [Замена типа данных](#step2.3)\n",
    "    * [Вывод](#step2.4) \n",
    "    * [Обработка дубликатов](#step2.5)\n",
    "    * [Вывод](#step2.6) \n",
    "    * [Лемматизация](#step2.7)\n",
    "    * [Вывод](#step2.8)   \n",
    "    * [Категоризация данных](#step2.9)\n",
    "    * [Вывод](#step2.10) \n",
    "* [Шаг 3. Ответьте на вопросы](#step3)\n",
    "* [Шаг 4. Общий вывод ](#step4)\n"
   ]
  },
  {
   "cell_type": "markdown",
   "metadata": {},
   "source": [
    "## Шаг 1. Откройте файл с данными и изучите общую информацию. <a class=\"anchor\" id=\"step1\"></a>"
   ]
  },
  {
   "cell_type": "code",
   "execution_count": 1,
   "metadata": {},
   "outputs": [],
   "source": [
    "import pandas as pd\n",
    "import pymorphy2\n",
    "import matplotlib.pyplot as plt"
   ]
  },
  {
   "cell_type": "markdown",
   "metadata": {},
   "source": [
    "* https://python-school.ru/nlp-text-preprocessing/\n",
    "* https://pymorphy2.readthedocs.io/en/latest/"
   ]
  },
  {
   "cell_type": "code",
   "execution_count": 2,
   "metadata": {},
   "outputs": [
    {
     "data": {
      "text/html": [
       "<div>\n",
       "<style scoped>\n",
       "    .dataframe tbody tr th:only-of-type {\n",
       "        vertical-align: middle;\n",
       "    }\n",
       "\n",
       "    .dataframe tbody tr th {\n",
       "        vertical-align: top;\n",
       "    }\n",
       "\n",
       "    .dataframe thead th {\n",
       "        text-align: right;\n",
       "    }\n",
       "</style>\n",
       "<table border=\"1\" class=\"dataframe\">\n",
       "  <thead>\n",
       "    <tr style=\"text-align: right;\">\n",
       "      <th></th>\n",
       "      <th>children</th>\n",
       "      <th>days_employed</th>\n",
       "      <th>dob_years</th>\n",
       "      <th>education</th>\n",
       "      <th>education_id</th>\n",
       "      <th>family_status</th>\n",
       "      <th>family_status_id</th>\n",
       "      <th>gender</th>\n",
       "      <th>income_type</th>\n",
       "      <th>debt</th>\n",
       "      <th>total_income</th>\n",
       "      <th>purpose</th>\n",
       "    </tr>\n",
       "  </thead>\n",
       "  <tbody>\n",
       "    <tr>\n",
       "      <th>0</th>\n",
       "      <td>1</td>\n",
       "      <td>-8437.673028</td>\n",
       "      <td>42</td>\n",
       "      <td>высшее</td>\n",
       "      <td>0</td>\n",
       "      <td>женат / замужем</td>\n",
       "      <td>0</td>\n",
       "      <td>F</td>\n",
       "      <td>сотрудник</td>\n",
       "      <td>0</td>\n",
       "      <td>253875.639453</td>\n",
       "      <td>покупка жилья</td>\n",
       "    </tr>\n",
       "    <tr>\n",
       "      <th>1</th>\n",
       "      <td>1</td>\n",
       "      <td>-4024.803754</td>\n",
       "      <td>36</td>\n",
       "      <td>среднее</td>\n",
       "      <td>1</td>\n",
       "      <td>женат / замужем</td>\n",
       "      <td>0</td>\n",
       "      <td>F</td>\n",
       "      <td>сотрудник</td>\n",
       "      <td>0</td>\n",
       "      <td>112080.014102</td>\n",
       "      <td>приобретение автомобиля</td>\n",
       "    </tr>\n",
       "    <tr>\n",
       "      <th>2</th>\n",
       "      <td>0</td>\n",
       "      <td>-5623.422610</td>\n",
       "      <td>33</td>\n",
       "      <td>Среднее</td>\n",
       "      <td>1</td>\n",
       "      <td>женат / замужем</td>\n",
       "      <td>0</td>\n",
       "      <td>M</td>\n",
       "      <td>сотрудник</td>\n",
       "      <td>0</td>\n",
       "      <td>145885.952297</td>\n",
       "      <td>покупка жилья</td>\n",
       "    </tr>\n",
       "    <tr>\n",
       "      <th>3</th>\n",
       "      <td>3</td>\n",
       "      <td>-4124.747207</td>\n",
       "      <td>32</td>\n",
       "      <td>среднее</td>\n",
       "      <td>1</td>\n",
       "      <td>женат / замужем</td>\n",
       "      <td>0</td>\n",
       "      <td>M</td>\n",
       "      <td>сотрудник</td>\n",
       "      <td>0</td>\n",
       "      <td>267628.550329</td>\n",
       "      <td>дополнительное образование</td>\n",
       "    </tr>\n",
       "    <tr>\n",
       "      <th>4</th>\n",
       "      <td>0</td>\n",
       "      <td>340266.072047</td>\n",
       "      <td>53</td>\n",
       "      <td>среднее</td>\n",
       "      <td>1</td>\n",
       "      <td>гражданский брак</td>\n",
       "      <td>1</td>\n",
       "      <td>F</td>\n",
       "      <td>пенсионер</td>\n",
       "      <td>0</td>\n",
       "      <td>158616.077870</td>\n",
       "      <td>сыграть свадьбу</td>\n",
       "    </tr>\n",
       "    <tr>\n",
       "      <th>5</th>\n",
       "      <td>0</td>\n",
       "      <td>-926.185831</td>\n",
       "      <td>27</td>\n",
       "      <td>высшее</td>\n",
       "      <td>0</td>\n",
       "      <td>гражданский брак</td>\n",
       "      <td>1</td>\n",
       "      <td>M</td>\n",
       "      <td>компаньон</td>\n",
       "      <td>0</td>\n",
       "      <td>255763.565419</td>\n",
       "      <td>покупка жилья</td>\n",
       "    </tr>\n",
       "    <tr>\n",
       "      <th>6</th>\n",
       "      <td>0</td>\n",
       "      <td>-2879.202052</td>\n",
       "      <td>43</td>\n",
       "      <td>высшее</td>\n",
       "      <td>0</td>\n",
       "      <td>женат / замужем</td>\n",
       "      <td>0</td>\n",
       "      <td>F</td>\n",
       "      <td>компаньон</td>\n",
       "      <td>0</td>\n",
       "      <td>240525.971920</td>\n",
       "      <td>операции с жильем</td>\n",
       "    </tr>\n",
       "    <tr>\n",
       "      <th>7</th>\n",
       "      <td>0</td>\n",
       "      <td>-152.779569</td>\n",
       "      <td>50</td>\n",
       "      <td>СРЕДНЕЕ</td>\n",
       "      <td>1</td>\n",
       "      <td>женат / замужем</td>\n",
       "      <td>0</td>\n",
       "      <td>M</td>\n",
       "      <td>сотрудник</td>\n",
       "      <td>0</td>\n",
       "      <td>135823.934197</td>\n",
       "      <td>образование</td>\n",
       "    </tr>\n",
       "    <tr>\n",
       "      <th>8</th>\n",
       "      <td>2</td>\n",
       "      <td>-6929.865299</td>\n",
       "      <td>35</td>\n",
       "      <td>ВЫСШЕЕ</td>\n",
       "      <td>0</td>\n",
       "      <td>гражданский брак</td>\n",
       "      <td>1</td>\n",
       "      <td>F</td>\n",
       "      <td>сотрудник</td>\n",
       "      <td>0</td>\n",
       "      <td>95856.832424</td>\n",
       "      <td>на проведение свадьбы</td>\n",
       "    </tr>\n",
       "    <tr>\n",
       "      <th>9</th>\n",
       "      <td>0</td>\n",
       "      <td>-2188.756445</td>\n",
       "      <td>41</td>\n",
       "      <td>среднее</td>\n",
       "      <td>1</td>\n",
       "      <td>женат / замужем</td>\n",
       "      <td>0</td>\n",
       "      <td>M</td>\n",
       "      <td>сотрудник</td>\n",
       "      <td>0</td>\n",
       "      <td>144425.938277</td>\n",
       "      <td>покупка жилья для семьи</td>\n",
       "    </tr>\n",
       "  </tbody>\n",
       "</table>\n",
       "</div>"
      ],
      "text/plain": [
       "   children  days_employed  dob_years education  education_id  \\\n",
       "0         1   -8437.673028         42    высшее             0   \n",
       "1         1   -4024.803754         36   среднее             1   \n",
       "2         0   -5623.422610         33   Среднее             1   \n",
       "3         3   -4124.747207         32   среднее             1   \n",
       "4         0  340266.072047         53   среднее             1   \n",
       "5         0    -926.185831         27    высшее             0   \n",
       "6         0   -2879.202052         43    высшее             0   \n",
       "7         0    -152.779569         50   СРЕДНЕЕ             1   \n",
       "8         2   -6929.865299         35    ВЫСШЕЕ             0   \n",
       "9         0   -2188.756445         41   среднее             1   \n",
       "\n",
       "      family_status  family_status_id gender income_type  debt   total_income  \\\n",
       "0   женат / замужем                 0      F   сотрудник     0  253875.639453   \n",
       "1   женат / замужем                 0      F   сотрудник     0  112080.014102   \n",
       "2   женат / замужем                 0      M   сотрудник     0  145885.952297   \n",
       "3   женат / замужем                 0      M   сотрудник     0  267628.550329   \n",
       "4  гражданский брак                 1      F   пенсионер     0  158616.077870   \n",
       "5  гражданский брак                 1      M   компаньон     0  255763.565419   \n",
       "6   женат / замужем                 0      F   компаньон     0  240525.971920   \n",
       "7   женат / замужем                 0      M   сотрудник     0  135823.934197   \n",
       "8  гражданский брак                 1      F   сотрудник     0   95856.832424   \n",
       "9   женат / замужем                 0      M   сотрудник     0  144425.938277   \n",
       "\n",
       "                      purpose  \n",
       "0               покупка жилья  \n",
       "1     приобретение автомобиля  \n",
       "2               покупка жилья  \n",
       "3  дополнительное образование  \n",
       "4             сыграть свадьбу  \n",
       "5               покупка жилья  \n",
       "6           операции с жильем  \n",
       "7                 образование  \n",
       "8       на проведение свадьбы  \n",
       "9     покупка жилья для семьи  "
      ]
     },
     "metadata": {},
     "output_type": "display_data"
    },
    {
     "name": "stdout",
     "output_type": "stream",
     "text": [
      "<class 'pandas.core.frame.DataFrame'>\n",
      "RangeIndex: 21525 entries, 0 to 21524\n",
      "Data columns (total 12 columns):\n",
      " #   Column            Non-Null Count  Dtype  \n",
      "---  ------            --------------  -----  \n",
      " 0   children          21525 non-null  int64  \n",
      " 1   days_employed     19351 non-null  float64\n",
      " 2   dob_years         21525 non-null  int64  \n",
      " 3   education         21525 non-null  object \n",
      " 4   education_id      21525 non-null  int64  \n",
      " 5   family_status     21525 non-null  object \n",
      " 6   family_status_id  21525 non-null  int64  \n",
      " 7   gender            21525 non-null  object \n",
      " 8   income_type       21525 non-null  object \n",
      " 9   debt              21525 non-null  int64  \n",
      " 10  total_income      19351 non-null  float64\n",
      " 11  purpose           21525 non-null  object \n",
      "dtypes: float64(2), int64(5), object(5)\n",
      "memory usage: 2.0+ MB\n"
     ]
    }
   ],
   "source": [
    "df = pd.read_csv('..\\datasets\\loaners_reliability_data.csv')\n",
    "display(df.head(10))\n",
    "df.info()"
   ]
  },
  {
   "cell_type": "markdown",
   "metadata": {},
   "source": [
    "### Вывод <a class=\"anchor\" id=\"step1.1\"></a>"
   ]
  },
  {
   "cell_type": "markdown",
   "metadata": {},
   "source": [
    "В таблице собрана статистика о платежеспособности клиентов банка. При выводе первых 10 строчек таблицы,в глаза бросается неоднородность данных. Например, отрицательный стаж работы, в столбце education обнаружено написание типов образования заглавными и строчными буквами и т.д. Далее была выведена сводная информация о таблице, в ходе которой обнаружилось, что в данных присутствуют пропуски значений."
   ]
  },
  {
   "cell_type": "markdown",
   "metadata": {},
   "source": [
    "## Шаг 2. Предобработка данных <a class=\"anchor\" id=\"step2\"></a>"
   ]
  },
  {
   "cell_type": "markdown",
   "metadata": {},
   "source": [
    "### Обработка пропусков <a class=\"anchor\" id=\"step2.1\"></a>"
   ]
  },
  {
   "cell_type": "code",
   "execution_count": 3,
   "metadata": {},
   "outputs": [
    {
     "data": {
      "text/plain": [
       "children               0\n",
       "days_employed       2174\n",
       "dob_years              0\n",
       "education              0\n",
       "education_id           0\n",
       "family_status          0\n",
       "family_status_id       0\n",
       "gender                 0\n",
       "income_type            0\n",
       "debt                   0\n",
       "total_income        2174\n",
       "purpose                0\n",
       "dtype: int64"
      ]
     },
     "execution_count": 3,
     "metadata": {},
     "output_type": "execute_result"
    }
   ],
   "source": [
    "df.isnull().sum() #количество пропусков в таблице по столбцам"
   ]
  },
  {
   "cell_type": "code",
   "execution_count": 4,
   "metadata": {},
   "outputs": [
    {
     "data": {
      "text/plain": [
       "array(['сотрудник', 'пенсионер', 'компаньон', 'госслужащий',\n",
       "       'безработный', 'предприниматель', 'студент', 'в декрете'],\n",
       "      dtype=object)"
      ]
     },
     "execution_count": 4,
     "metadata": {},
     "output_type": "execute_result"
    }
   ],
   "source": [
    "df['income_type'].unique() #список названий income_type(тип занятости)"
   ]
  },
  {
   "cell_type": "code",
   "execution_count": 5,
   "metadata": {},
   "outputs": [
    {
     "name": "stdout",
     "output_type": "stream",
     "text": [
      "Количество отрицательных значений в столбце стаж работы: 15906\n"
     ]
    }
   ],
   "source": [
    "print('Количество отрицательных значений в столбце стаж работы:', len(df[df['days_employed'] < 0])) "
   ]
  },
  {
   "cell_type": "markdown",
   "metadata": {},
   "source": [
    "Количество отрицательных значений в столбце \"стаж работы\" очень большое - 15 906, удалить эти строчки мы не сможем чтобы избавиться от артефактов. Поэтому лучше использовать в данном случае приведение к абсолютным значениям, исходя из предположения, что знак \"-\" подгружен какой-то системой автоматически и ошибочно."
   ]
  },
  {
   "cell_type": "code",
   "execution_count": 6,
   "metadata": {},
   "outputs": [],
   "source": [
    "df['days_employed'] = abs(df['days_employed']) #приведение столбца days_employed к неотрицательным значениям"
   ]
  },
  {
   "cell_type": "code",
   "execution_count": 7,
   "metadata": {
    "scrolled": true
   },
   "outputs": [
    {
     "name": "stdout",
     "output_type": "stream",
     "text": [
      "<class 'pandas.core.frame.DataFrame'>\n",
      "RangeIndex: 21525 entries, 0 to 21524\n",
      "Data columns (total 12 columns):\n",
      " #   Column            Non-Null Count  Dtype  \n",
      "---  ------            --------------  -----  \n",
      " 0   children          21525 non-null  int64  \n",
      " 1   days_employed     21525 non-null  float64\n",
      " 2   dob_years         21525 non-null  int64  \n",
      " 3   education         21525 non-null  object \n",
      " 4   education_id      21525 non-null  int64  \n",
      " 5   family_status     21525 non-null  object \n",
      " 6   family_status_id  21525 non-null  int64  \n",
      " 7   gender            21525 non-null  object \n",
      " 8   income_type       21525 non-null  object \n",
      " 9   debt              21525 non-null  int64  \n",
      " 10  total_income      21525 non-null  float64\n",
      " 11  purpose           21525 non-null  object \n",
      "dtypes: float64(2), int64(5), object(5)\n",
      "memory usage: 2.0+ MB\n",
      "None\n"
     ]
    }
   ],
   "source": [
    "#Замена пустых значений в столбцах total_income и days_employed на медиану ежемесячного дохода и трудового стажа\n",
    "df['total_income'] = df['total_income'].fillna(df.groupby(['education_id', 'income_type'])['total_income']\\\n",
    "                                               .transform('median'))\n",
    "df['days_employed'] = df['days_employed'].fillna(df.groupby(['education_id', 'income_type'])['days_employed']\\\n",
    "                                                 .transform('median'))\n",
    "print(df.info())\n"
   ]
  },
  {
   "cell_type": "markdown",
   "metadata": {},
   "source": [
    "Поскольку одной из приоритетных задач этого проекта является выявление зависимости возврата кредита в срок и наличием детей, возникла необходимость оценить объем каждой группы в зависимости от количества детей. В ходе проверки обнаружилась, что в данных присутствуют артефакты - 20 и -1 ребенок, что вызывает сомнения в корректности представленных данных. Т.к. процент артефактов в процентном соотношении от всего датафрейма составляет менее 1%, можно смело удалить данные строки."
   ]
  },
  {
   "cell_type": "code",
   "execution_count": 8,
   "metadata": {},
   "outputs": [
    {
     "data": {
      "text/plain": [
       " 0     14149\n",
       " 1      4818\n",
       " 2      2055\n",
       " 3       330\n",
       " 20       76\n",
       "-1        47\n",
       " 4        41\n",
       " 5         9\n",
       "Name: children, dtype: int64"
      ]
     },
     "execution_count": 8,
     "metadata": {},
     "output_type": "execute_result"
    }
   ],
   "source": [
    "df['children'].value_counts()"
   ]
  },
  {
   "cell_type": "code",
   "execution_count": 9,
   "metadata": {
    "scrolled": true
   },
   "outputs": [
    {
     "name": "stdout",
     "output_type": "stream",
     "text": [
      "<class 'pandas.core.frame.DataFrame'>\n",
      "Int64Index: 21402 entries, 0 to 21524\n",
      "Data columns (total 12 columns):\n",
      " #   Column            Non-Null Count  Dtype  \n",
      "---  ------            --------------  -----  \n",
      " 0   children          21402 non-null  int64  \n",
      " 1   days_employed     21402 non-null  float64\n",
      " 2   dob_years         21402 non-null  int64  \n",
      " 3   education         21402 non-null  object \n",
      " 4   education_id      21402 non-null  int64  \n",
      " 5   family_status     21402 non-null  object \n",
      " 6   family_status_id  21402 non-null  int64  \n",
      " 7   gender            21402 non-null  object \n",
      " 8   income_type       21402 non-null  object \n",
      " 9   debt              21402 non-null  int64  \n",
      " 10  total_income      21402 non-null  float64\n",
      " 11  purpose           21402 non-null  object \n",
      "dtypes: float64(2), int64(5), object(5)\n",
      "memory usage: 2.1+ MB\n"
     ]
    }
   ],
   "source": [
    "df = df[~df['children'].isin([-1, 20])] #Удаление строк с некорректными значениями\n",
    "df.info()"
   ]
  },
  {
   "cell_type": "markdown",
   "metadata": {},
   "source": [
    "### Вывод <a class=\"anchor\" id=\"step2.2\"></a>"
   ]
  },
  {
   "cell_type": "markdown",
   "metadata": {},
   "source": [
    "Пропущенные значения обнаружены в следующих столбцах: days_employed(общий трудовой стаж в днях) и total_income(ежемесячный доход), причем количество пропущенных значений одинаково и в том, и в другом случае, что может говорить о зависимости этих переменных. С одной стороны, можно предположить, что люди не имеющие стажа, не имеют доход. С другой стороны, если смотреть данные из столбца income_type(тип занятости), можно увидеть, что человек работает на какой-то должности. Соответственно, необходимо заполнить пропуски в таблице медианой по доходу и по трудовому стажу. Из-за неравномерного дохода по всей выборке и большого количества отрицательных значений в столбце трудового стажа было принято решение использовать медиану для различных групп из столбца income_type (тип занятости) - медиана трудового стажа и ежемесячного дохода по группам income type даст более объективный результат, чем среднее арифметическое. Предположим, что отрицательные аномалии в данных стажа были вызваны ошибочным вводом, поэтому они приведены к абсолютным значениям,а уже потом подсчитана медиана."
   ]
  },
  {
   "cell_type": "markdown",
   "metadata": {},
   "source": [
    "### Замена типа данных <a class=\"anchor\" id=\"step2.3\"></a>"
   ]
  },
  {
   "cell_type": "code",
   "execution_count": 10,
   "metadata": {},
   "outputs": [
    {
     "name": "stdout",
     "output_type": "stream",
     "text": [
      "<class 'pandas.core.frame.DataFrame'>\n",
      "Int64Index: 21402 entries, 0 to 21524\n",
      "Data columns (total 12 columns):\n",
      " #   Column            Non-Null Count  Dtype  \n",
      "---  ------            --------------  -----  \n",
      " 0   children          21402 non-null  int64  \n",
      " 1   days_employed     21402 non-null  float64\n",
      " 2   dob_years         21402 non-null  int64  \n",
      " 3   education         21402 non-null  object \n",
      " 4   education_id      21402 non-null  int64  \n",
      " 5   family_status     21402 non-null  object \n",
      " 6   family_status_id  21402 non-null  int64  \n",
      " 7   gender            21402 non-null  object \n",
      " 8   income_type       21402 non-null  object \n",
      " 9   debt              21402 non-null  int64  \n",
      " 10  total_income      21402 non-null  float64\n",
      " 11  purpose           21402 non-null  object \n",
      "dtypes: float64(2), int64(5), object(5)\n",
      "memory usage: 11.8 MB\n"
     ]
    }
   ],
   "source": [
    "#Просмотр общей информации о таблице, сколько памяти используется при обработке\n",
    "df.info(memory_usage='deep') "
   ]
  },
  {
   "cell_type": "code",
   "execution_count": 11,
   "metadata": {},
   "outputs": [],
   "source": [
    "#Создание категориального листа для перевода столбцов из типа данных object в тип данных category для оптимизации работы кода\n",
    "cat_list = ['education', 'family_status', 'gender', 'income_type']"
   ]
  },
  {
   "cell_type": "code",
   "execution_count": 12,
   "metadata": {},
   "outputs": [
    {
     "name": "stdout",
     "output_type": "stream",
     "text": [
      "<class 'pandas.core.frame.DataFrame'>\n",
      "Int64Index: 21402 entries, 0 to 21524\n",
      "Data columns (total 12 columns):\n",
      " #   Column            Non-Null Count  Dtype   \n",
      "---  ------            --------------  -----   \n",
      " 0   children          21402 non-null  int64   \n",
      " 1   days_employed     21402 non-null  int32   \n",
      " 2   dob_years         21402 non-null  int64   \n",
      " 3   education         21402 non-null  category\n",
      " 4   education_id      21402 non-null  int64   \n",
      " 5   family_status     21402 non-null  category\n",
      " 6   family_status_id  21402 non-null  int64   \n",
      " 7   gender            21402 non-null  category\n",
      " 8   income_type       21402 non-null  category\n",
      " 9   debt              21402 non-null  int64   \n",
      " 10  total_income      21402 non-null  float64 \n",
      " 11  purpose           21402 non-null  object  \n",
      "dtypes: category(4), float64(1), int32(1), int64(5), object(1)\n",
      "memory usage: 1.5+ MB\n"
     ]
    }
   ],
   "source": [
    "df['days_employed']= df['days_employed'].astype('int') #Замена вещественного типа данных на целочисленный\n",
    "df[cat_list] = df[cat_list].astype('category') #Перевод столбцов из типа данных object в  тип category\n",
    "df.info()"
   ]
  },
  {
   "cell_type": "markdown",
   "metadata": {},
   "source": [
    "### Вывод <a class=\"anchor\" id=\"step2.4\"></a>"
   ]
  },
  {
   "cell_type": "markdown",
   "metadata": {},
   "source": [
    "После просмотра общей информации о таблице и параметра \"memory_usage\", который составлял в первоначальном варианте с типами данных object 11.8 MB была проведена оптимизация кода и типы данных в столбцах `education`, `family_status`, `gender`, `income_type` были переведены в тип `category`. Вследствие этого memory usage теперь составляет 1.6+ MB. \n",
    "Также столбец days_employed (общий трудовой стаж в днях) был переведен в целочисленный тип методом astype(), так как дни измеряются в целых числах. "
   ]
  },
  {
   "cell_type": "markdown",
   "metadata": {},
   "source": [
    "### Обработка дубликатов <a class=\"anchor\" id=\"step2.5\"></a>"
   ]
  },
  {
   "cell_type": "code",
   "execution_count": 13,
   "metadata": {},
   "outputs": [
    {
     "name": "stdout",
     "output_type": "stream",
     "text": [
      "Количество дубликатов: 71\n",
      "Процентное изменение: 0.33%\n",
      "Новый размер датафрейма: 21331\n"
     ]
    }
   ],
   "source": [
    "df['education'] = df['education'].str.lower()\n",
    "print('Количество дубликатов:', df.duplicated().sum())\n",
    "old_length = len(df)\n",
    "df.drop_duplicates(inplace=True)\n",
    "new_length = len(df)\n",
    "print('Процентное изменение: {:.2%}'.format((old_length - new_length)/old_length))\n",
    "print('Новый размер датафрейма:', new_length)"
   ]
  },
  {
   "cell_type": "markdown",
   "metadata": {},
   "source": [
    "### Вывод <a class=\"anchor\" id=\"step2.6\"></a>"
   ]
  },
  {
   "cell_type": "markdown",
   "metadata": {},
   "source": [
    "В ходе проверки датафрейма на наличие дубликатов методом duplicated() в сочетании с методом sum() было обнаружено, что количество дубликатов - 71. После удаления процентное изменение составило 0.33%, что не сильно повлияет на дальнейшее исследование. Возможная причина появления дублирующих строчек - выгрузка таблиц из разных баз данных, где содержится информация об одних и тех же людях."
   ]
  },
  {
   "cell_type": "markdown",
   "metadata": {},
   "source": [
    "### Лемматизация <a class=\"anchor\" id=\"step2.7\"></a>"
   ]
  },
  {
   "cell_type": "code",
   "execution_count": 14,
   "metadata": {},
   "outputs": [],
   "source": [
    "morph = pymorphy2.MorphAnalyzer()\n",
    "# Функция, которая позволяет лемматизировать данные и выделить ключевые слова для приведения столбца purpose \n",
    "#(цель получения кредита) к единому виду\n",
    "def purpose_words(purpose):\n",
    "    purpose_words = ''.join(morph.parse(purpose)[0].normal_form)\n",
    "    return purpose_words"
   ]
  },
  {
   "cell_type": "code",
   "execution_count": 15,
   "metadata": {},
   "outputs": [
    {
     "data": {
      "text/plain": [
       "array(['покупка жильё', 'приобретение автомобиль',\n",
       "       'дополнительное образование', 'сыграть свадьба',\n",
       "       'операции с жилие', 'образование', 'на проведение свадьба',\n",
       "       'покупка жилья для семья', 'покупка недвижимость',\n",
       "       'покупка коммерческой недвижимость', 'покупка жилой недвижимость',\n",
       "       'строительство собственной недвижимость', 'недвижимость',\n",
       "       'строительство недвижимость', 'на покупку подержанного автомобиль',\n",
       "       'на покупку своего автомобиль',\n",
       "       'операции с коммерческой недвижимость',\n",
       "       'строительство жилой недвижимость', 'жильё',\n",
       "       'операции со своей недвижимость', 'автомобиль',\n",
       "       'заняться образование', 'сделка с подержанным автомобиль',\n",
       "       'получение образование', 'свадьба',\n",
       "       'получение дополнительного образование', 'покупка своего жильё',\n",
       "       'операции с недвижимость', 'получение высшего образование',\n",
       "       'свой автомобиль', 'сделка с автомобиль', 'профильное образование',\n",
       "       'высшее образование', 'покупка жилья для сдача',\n",
       "       'на покупку автомобиль', 'ремонт жильё',\n",
       "       'заняться высшим образование'], dtype=object)"
      ]
     },
     "metadata": {},
     "output_type": "display_data"
    }
   ],
   "source": [
    "df['purpose_words'] = df['purpose'].apply(purpose_words)\n",
    "display(df['purpose_words'].unique())"
   ]
  },
  {
   "cell_type": "markdown",
   "metadata": {},
   "source": [
    "### Вывод <a class=\"anchor\" id=\"step2.8\"></a>"
   ]
  },
  {
   "cell_type": "markdown",
   "metadata": {},
   "source": [
    "Была проведена лемматизация для выделения лемм в значениях столбца с целями получения кредита и методом join изменили списки, которые бы образовались в ходе лемматизации, на строчные значения. Затем, используя функцию unique(), выделили уникальные слова для визуального анализа и дальнейшего преобразования столбца цели кредита к единому виду."
   ]
  },
  {
   "cell_type": "markdown",
   "metadata": {},
   "source": [
    "### Категоризация данных  <a class=\"anchor\" id=\"step2.9\"></a>"
   ]
  },
  {
   "cell_type": "code",
   "execution_count": 16,
   "metadata": {},
   "outputs": [],
   "source": [
    "#Создание функции, которая приводит цели кредита к единому виду\n",
    "def purpose_category(purpose):\n",
    "    if 'жилье' in morph.parse(purpose)[0].normal_form or 'недвижимость' in morph.parse(purpose)[0].normal_form\\\n",
    "    or 'жилие' in morph.parse(purpose)[0].normal_form or 'жильё' in morph.parse(purpose)[0].normal_form\\\n",
    "    or 'жилья' in morph.parse(purpose)[0].normal_form:\n",
    "        return 'недвижимость'\n",
    "    if 'свадьба' in morph.parse(purpose)[0].normal_form:\n",
    "        return 'свадьба'\n",
    "    if 'автомобиль' in morph.parse(purpose)[0].normal_form:\n",
    "        return 'автомобиль'\n",
    "    return 'образование'\n",
    "df['purpose_category'] = df['purpose_words'].apply(purpose_category)\n"
   ]
  },
  {
   "cell_type": "code",
   "execution_count": 17,
   "metadata": {
    "scrolled": true
   },
   "outputs": [
    {
     "data": {
      "text/plain": [
       "недвижимость    10751\n",
       "автомобиль       4279\n",
       "образование      3988\n",
       "свадьба          2313\n",
       "Name: purpose_category, dtype: int64"
      ]
     },
     "metadata": {},
     "output_type": "display_data"
    }
   ],
   "source": [
    "display(df['purpose_category'].value_counts()) #Количество значений каждой категории"
   ]
  },
  {
   "cell_type": "markdown",
   "metadata": {},
   "source": [
    "Заемщики отдают предпочтение получению кредита на покупку недвижимости."
   ]
  },
  {
   "cell_type": "code",
   "execution_count": 18,
   "metadata": {},
   "outputs": [
    {
     "data": {
      "text/html": [
       "<div>\n",
       "<style scoped>\n",
       "    .dataframe tbody tr th:only-of-type {\n",
       "        vertical-align: middle;\n",
       "    }\n",
       "\n",
       "    .dataframe tbody tr th {\n",
       "        vertical-align: top;\n",
       "    }\n",
       "\n",
       "    .dataframe thead th {\n",
       "        text-align: right;\n",
       "    }\n",
       "</style>\n",
       "<table border=\"1\" class=\"dataframe\">\n",
       "  <thead>\n",
       "    <tr style=\"text-align: right;\">\n",
       "      <th></th>\n",
       "      <th>dob_years</th>\n",
       "    </tr>\n",
       "    <tr>\n",
       "      <th>purpose_category</th>\n",
       "      <th></th>\n",
       "    </tr>\n",
       "  </thead>\n",
       "  <tbody>\n",
       "    <tr>\n",
       "      <th>автомобиль</th>\n",
       "      <td>43</td>\n",
       "    </tr>\n",
       "    <tr>\n",
       "      <th>недвижимость</th>\n",
       "      <td>42</td>\n",
       "    </tr>\n",
       "    <tr>\n",
       "      <th>образование</th>\n",
       "      <td>42</td>\n",
       "    </tr>\n",
       "    <tr>\n",
       "      <th>свадьба</th>\n",
       "      <td>42</td>\n",
       "    </tr>\n",
       "  </tbody>\n",
       "</table>\n",
       "</div>"
      ],
      "text/plain": [
       "                  dob_years\n",
       "purpose_category           \n",
       "автомобиль               43\n",
       "недвижимость             42\n",
       "образование              42\n",
       "свадьба                  42"
      ]
     },
     "execution_count": 18,
     "metadata": {},
     "output_type": "execute_result"
    }
   ],
   "source": [
    "#Распределение среднего возраста заемщиков в зависимости от цели кредита\n",
    "category_age = df[['dob_years', 'purpose_category']] \n",
    "category_age.groupby('purpose_category').median()"
   ]
  },
  {
   "cell_type": "code",
   "execution_count": 19,
   "metadata": {},
   "outputs": [
    {
     "data": {
      "text/plain": [
       "count    21331.000000\n",
       "mean        43.277952\n",
       "std         12.575300\n",
       "min          0.000000\n",
       "25%         33.000000\n",
       "50%         42.000000\n",
       "75%         53.000000\n",
       "max         75.000000\n",
       "Name: dob_years, dtype: float64"
      ]
     },
     "metadata": {},
     "output_type": "display_data"
    }
   ],
   "source": [
    "display(df['dob_years'].describe())"
   ]
  },
  {
   "cell_type": "markdown",
   "metadata": {},
   "source": [
    "Изначально было предположение, что в зависимости от возраста заемщиков меняются их предпочтения, и средний возраст заемщиков варьируется в зависимости от цели кредита. Но это предположение не подтвердилось, поэтому смотрим дальше :)"
   ]
  },
  {
   "cell_type": "code",
   "execution_count": 20,
   "metadata": {},
   "outputs": [
    {
     "name": "stdout",
     "output_type": "stream",
     "text": [
      "107444.79084087201\n",
      "143708.81026817494\n",
      "198305.51120816136\n"
     ]
    }
   ],
   "source": [
    "#Расчет квантилей (25%, 50% и 75%) ежемесячного дохода для формирования категоризации по доходу\n",
    "print(df['total_income'].quantile(.25))\n",
    "print(df['total_income'].quantile(.50))\n",
    "print(df['total_income'].quantile(.75))\n"
   ]
  },
  {
   "cell_type": "code",
   "execution_count": 21,
   "metadata": {
    "scrolled": false
   },
   "outputs": [],
   "source": [
    "#Функция для группировки заемщиков по уровню дохода\n",
    "category_income_dict = {df['total_income'].quantile(.25):\"низкий достаток\", \n",
    "                        df['total_income'].quantile(.50):\"средний достаток\", \n",
    "                        df['total_income'].quantile(.75):\"высокий достаток\"}\n",
    "def income_groups(income):\n",
    "    if income <= df['total_income'].quantile(.25):\n",
    "        return category_income_dict.get(df['total_income'].quantile(.25))\n",
    "    if df['total_income'].quantile(.25)< income <= df['total_income'].quantile(.50):\n",
    "        return category_income_dict.get(df['total_income'].quantile(.50))\n",
    "    return category_income_dict.get(df['total_income'].quantile(.75))"
   ]
  },
  {
   "cell_type": "code",
   "execution_count": null,
   "metadata": {},
   "outputs": [],
   "source": [
    "df['income_groups'] = df['total_income'].apply(income_groups)\n",
    "category_income = df[['total_income', 'income_groups']]\n",
    "display(category_income.head(10))\n",
    "#Функция работает корректно"
   ]
  },
  {
   "cell_type": "code",
   "execution_count": null,
   "metadata": {},
   "outputs": [],
   "source": [
    "#Создание сводной таблицы, которая отражает количество людей в группе по уровню ежемесячного дохода,\n",
    "#вовремя вернувших задолженность по кредиту\n",
    "df['debt1'] = df['debt']\n",
    "df_pivot = df.pivot_table(index=['income_groups'], columns='debt', values='debt1', aggfunc='count')\n",
    "df_pivot['ratio'] = df_pivot[1]/(df_pivot[0] + df_pivot[1])\n",
    "display(df_pivot)\n"
   ]
  },
  {
   "cell_type": "markdown",
   "metadata": {},
   "source": [
    "### Вывод <a class=\"anchor\" id=\"step2.10\"></a>"
   ]
  },
  {
   "cell_type": "markdown",
   "metadata": {},
   "source": [
    "После лемматизации столбца purpose (цель кредита) и выделения лемм была написана функция, которая приводит категории цели кредита к единому виду. Оказалось, что люди отдают предпочтение покупке недвижимости. Далее была выдвинута гипотеза, что в зависимости от возраста, у людей меняются предпочтения, но гипотеза отверглась после выведения медианы возраста по каждой группе в зависимости от цели кредита. Были рассчитаны 25%, 50% и 75% квантили ежемесячного дохода для равномерного разбиения на группы в зависимости от дохода. Далее была создана функция, которая ранжирует людей в зависимости от их дохода с помощью так называемого \"словаря\".\n",
    "Затем была создана сводная таблица, которая отражает количество людей в группе по уровню ежемесячного дохода, вовремя вернувших задолженность по кредиту и людей, которые просрочили платеж. Наибольшая доля людей,просрочивщих платеж, принадлежит группе со средним достатком - почти 9% должников (от общего числа заемщиков в этой группе). Напротив, наиболее ответственными заемщиками оказались люди с высоким и низким достатком.\n"
   ]
  },
  {
   "cell_type": "markdown",
   "metadata": {},
   "source": [
    "### Шаг 3. Ответьте на вопросы <a class=\"anchor\" id=\"step3\"></a>"
   ]
  },
  {
   "cell_type": "markdown",
   "metadata": {},
   "source": [
    "- Есть ли зависимость между наличием детей и возвратом кредита в срок?"
   ]
  },
  {
   "cell_type": "code",
   "execution_count": null,
   "metadata": {
    "scrolled": true
   },
   "outputs": [],
   "source": [
    "#График, который показывает коэффициент возврата кредита в зависимости от количества детей\n",
    "df.groupby('children')['debt'].mean().plot(kind='bar', figsize=(10, 5), rot=0)\n",
    "plt.title('Средний коэффициент возврата кредита в зависимости от числа детей')\n",
    "plt.xlabel('Число детей')\n",
    "plt.ylabel('Среднее значение debt')\n",
    "plt.show()"
   ]
  },
  {
   "cell_type": "code",
   "execution_count": null,
   "metadata": {},
   "outputs": [],
   "source": [
    "#Cоздание сводной таблицы для определения влияния кол-ва детей на возврат кредита в срок\n",
    "df_pivot_children =df.pivot_table(index=['children'], values = 'debt', aggfunc=['count','sum','mean'])"
   ]
  },
  {
   "cell_type": "code",
   "execution_count": null,
   "metadata": {},
   "outputs": [],
   "source": [
    "df_pivot_children"
   ]
  },
  {
   "cell_type": "markdown",
   "metadata": {},
   "source": [
    "Итак, у нас получилось три столбца: общее количество заемщиков, количество должников и доля должников. Исходя из результата исследования заметна тенденция, что люди, не имеющие детей, чаще возвращают кредит в срок. Они же являются наиболее крупной группой заемщиков. Также, исходя из полученной сводной таблицы оказалось, что группа с 5ю детьми просто не набрала достаточно данных, чтобы получить достоверный процент."
   ]
  },
  {
   "cell_type": "markdown",
   "metadata": {},
   "source": [
    "### Вывод"
   ]
  },
  {
   "cell_type": "markdown",
   "metadata": {},
   "source": [
    "Исходя из результата исследования заметна тенденция, что люди, не имеющие детей, чаще возвращают кредит в срок. Они же являются наиболее крупной группой заемщиков. Также, исходя из полученной сводной таблицы оказалось, что группа с 5ю детьми просто не набрала достаточно данных, чтобы получить достоверный процент."
   ]
  },
  {
   "cell_type": "markdown",
   "metadata": {},
   "source": [
    "- Есть ли зависимость между семейным положением и возвратом кредита в срок?"
   ]
  },
  {
   "cell_type": "code",
   "execution_count": null,
   "metadata": {},
   "outputs": [],
   "source": [
    "df_pivot_family_status =df.pivot_table(index=['family_status'], columns='debt', values = 'debt1', aggfunc='count')\n",
    "df_pivot_family_status['ratio'] = df_pivot_family_status[1]/(df_pivot_family_status[0] + df_pivot_family_status[1])\n",
    "display(df_pivot_family_status)"
   ]
  },
  {
   "cell_type": "markdown",
   "metadata": {},
   "source": [
    "### Вывод"
   ]
  },
  {
   "cell_type": "markdown",
   "metadata": {},
   "source": [
    "После проведения исследования обнаружилось,что люди с семейным положением \"не женат/не замужем\" и \"гражданский брак\" чаще других имеют задолженности по возврату кредита."
   ]
  },
  {
   "cell_type": "markdown",
   "metadata": {},
   "source": [
    "- Есть ли зависимость между уровнем дохода и возвратом кредита в срок?"
   ]
  },
  {
   "cell_type": "code",
   "execution_count": null,
   "metadata": {},
   "outputs": [],
   "source": [
    "df_pivot = df.pivot_table(index=['income_groups'], columns='debt', values='debt1', aggfunc='count')\n",
    "df_pivot['ratio'] = df_pivot[1]/(df_pivot[0] + df_pivot[1])\n",
    "display(df_pivot)\n"
   ]
  },
  {
   "cell_type": "markdown",
   "metadata": {},
   "source": [
    "### Вывод"
   ]
  },
  {
   "cell_type": "markdown",
   "metadata": {},
   "source": [
    "Наибольшая доля людей,просрочивщих платеж, принадлежит группе со средним достатком - почти 9% должников (от общего числа заемщиков в этой группе). Напротив, наиболее ответственными заемщиками оказались люди с высоким и низким достатком."
   ]
  },
  {
   "cell_type": "markdown",
   "metadata": {},
   "source": [
    "- Как разные цели кредита влияют на его возврат в срок?"
   ]
  },
  {
   "cell_type": "code",
   "execution_count": null,
   "metadata": {},
   "outputs": [],
   "source": [
    "df.pivot_table(index = ['purpose_category'], values='debt', aggfunc=['count','sum','mean'])"
   ]
  },
  {
   "cell_type": "markdown",
   "metadata": {},
   "source": [
    "### Вывод"
   ]
  },
  {
   "cell_type": "markdown",
   "metadata": {},
   "source": [
    "Исходя из полученной  таблицы, чаще всего люди возвращают в срок кредиты, связанные с недвижимостью и свадьбой. В первом случае это можно связать с тем, что к покупке недвижимости люди относятся более ответственно и обдуманно, чем к остальным видам кредитов. И к тому же, неуплата долга по ипотеке, например, грозит лишением недвижимости, а значит и дома, что побуждает людей вовремя выплачивать кредит. \n",
    "Во втором случае это может быть связано с тем, что свадьба - это краткосрочное вложение для события одного дня, поэтому люди стремятся выплатить этот вид кредита как можно скорее, чтобы над ними не висел этот долг, так как событие уже прошло."
   ]
  },
  {
   "cell_type": "markdown",
   "metadata": {},
   "source": [
    "### Шаг 4. Общий вывод <a class=\"anchor\" id=\"step4\"></a>"
   ]
  },
  {
   "cell_type": "markdown",
   "metadata": {},
   "source": [
    "Перед исследованием производилась подготовка данных к анализу: выявлялись аномалии в данных, производилась чистка данных от артефактов и дубликатов, осуществлялась замена вещественного типа данных на целочисленный и производилась оптимизация кода. Проводилась лемматизация и категоризация данных. \n",
    "Основной целью проекта было выявление влияния  семейного положения и количества детей клиента на факт погашения кредита в срок. В ходе исследования выяснилось, что заемщики, не имеющие детей, чаще возвращают кредит в срок.С другой стороны, люди с семейным положением \"не женат/не замужем\"(почти 97% имеют задолженность по возврату кредита) и \"гражданский брак\" (около 93% имеют задолженность по возврату кредита) чаще других имеют задолженность по возврату кредита. Наиболее ответственными заемщиками оказались люди со средним достатком, и чаще всего люди возвращают в срок кредиты, связанные с недвижимостью и свадьбой.\n"
   ]
  },
  {
   "cell_type": "markdown",
   "metadata": {},
   "source": [
    "### Чек-лист готовности проекта\n",
    "\n",
    "Поставьте 'x' в выполненных пунктах. Далее нажмите Shift+Enter."
   ]
  },
  {
   "cell_type": "markdown",
   "metadata": {},
   "source": [
    "- [x]  открыт файл;\n",
    "- [x]  файл изучен;\n",
    "- [x]  определены пропущенные значения;\n",
    "- [x]  заполнены пропущенные значения;\n",
    "- [x]  есть пояснение, какие пропущенные значения обнаружены;\n",
    "- [x]  описаны возможные причины появления пропусков в данных;\n",
    "- [x]  объяснено, по какому принципу заполнены пропуски;\n",
    "- [x]  заменен вещественный тип данных на целочисленный;\n",
    "- [x]  есть пояснение, какой метод используется для изменения типа данных и почему;\n",
    "- [x]  удалены дубликаты;\n",
    "- [x]  есть пояснение, какой метод используется для поиска и удаления дубликатов;\n",
    "- [x]  описаны возможные причины появления дубликатов в данных;\n",
    "- [x]  выделены леммы в значениях столбца с целями получения кредита;\n",
    "- [x]  описан процесс лемматизации;\n",
    "- [x]  данные категоризированы;\n",
    "- [x]  есть объяснение принципа категоризации данных;\n",
    "- [x]  есть ответ на вопрос: \"Есть ли зависимость между наличием детей и возвратом кредита в срок?\";\n",
    "- [x]  есть ответ на вопрос: \"Есть ли зависимость между семейным положением и возвратом кредита в срок?\";\n",
    "- [x]  есть ответ на вопрос: \"Есть ли зависимость между уровнем дохода и возвратом кредита в срок?\";\n",
    "- [x]  есть ответ на вопрос: \"Как разные цели кредита влияют на его возврат в срок?\";\n",
    "- [x]  в каждом этапе есть выводы;\n",
    "- [x]  есть общий вывод."
   ]
  }
 ],
 "metadata": {
  "kernelspec": {
   "display_name": "Python 3",
   "language": "python",
   "name": "python3"
  },
  "language_info": {
   "codemirror_mode": {
    "name": "ipython",
    "version": 3
   },
   "file_extension": ".py",
   "mimetype": "text/x-python",
   "name": "python",
   "nbconvert_exporter": "python",
   "pygments_lexer": "ipython3",
   "version": "3.7.10"
  },
  "toc": {
   "base_numbering": 1,
   "nav_menu": {},
   "number_sections": true,
   "sideBar": true,
   "skip_h1_title": true,
   "title_cell": "Table of Contents",
   "title_sidebar": "Contents",
   "toc_cell": false,
   "toc_position": {},
   "toc_section_display": true,
   "toc_window_display": false
  }
 },
 "nbformat": 4,
 "nbformat_minor": 2
}
